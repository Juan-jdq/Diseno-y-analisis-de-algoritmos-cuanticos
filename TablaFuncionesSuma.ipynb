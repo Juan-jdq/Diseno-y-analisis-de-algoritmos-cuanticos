{
  "nbformat": 4,
  "nbformat_minor": 0,
  "metadata": {
    "colab": {
      "provenance": []
    },
    "kernelspec": {
      "name": "python3",
      "display_name": "Python 3"
    },
    "language_info": {
      "name": "python"
    }
  },
  "cells": [
    {
      "cell_type": "code",
      "execution_count": null,
      "metadata": {
        "id": "VJuZeTBGZ9qO"
      },
      "outputs": [],
      "source": [
        "!pip install qiskit\n",
        "!pip install qiskit_ibm_runtime\n",
        "!pip install qiskit[visualization]\n",
        "!pip install matplotlib\n",
        "token = \"\"#introducir el código que se obtenga en la aplicación de IBM\n",
        "from qiskit_ibm_runtime import QiskitRuntimeService\n",
        "service = QiskitRuntimeService.save_account(\n",
        "  token=token, # Your token is confidential.\n",
        "\n",
        "  instance=\"\" #introducir el código de la instancia,\n",
        "  name=\"\", # Introducir el tu cuenta de IBM\n",
        "  set_as_default=True,\n",
        ")"
      ]
    },
    {
      "cell_type": "code",
      "source": [
        "import qiskit\n",
        "import matplotlib.pyplot as plt\n",
        "from qiskit import QuantumCircuit\n",
        "import matplotlib\n",
        "from qiskit_ibm_runtime import QiskitRuntimeService\n",
        "from qiskit.transpiler import generate_preset_pass_manager\n",
        "from qiskit.primitives import BitArray\n",
        "service = QiskitRuntimeService()\n",
        "backend = service.least_busy(simulator=False, operational=True)\n",
        "pm = generate_preset_pass_manager(backend=backend, optimization_level=1)"
      ],
      "metadata": {
        "id": "Y6SfpC9LaNF6"
      },
      "execution_count": null,
      "outputs": []
    },
    {
      "cell_type": "code",
      "source": [
        "#f3(a,b,c)=a xor b xor c\n",
        "circb3 = QuantumCircuit(4)\n",
        "circb3.cx(0,3)\n",
        "circb3.cx(1,3)\n",
        "circb3.cx(2,3)\n",
        "circb3.draw()\n",
        "gateb3 = circb3.to_gate(label='U_f=b3')\n",
        "\n",
        "djb3 = QuantumCircuit(4,3)\n",
        "djb3.x(3)\n",
        "djb3.h(range(4))\n",
        "djb3.append(gateb3, [0,1,2,3], [])\n",
        "djb3.h([0,1,2])\n",
        "djb3.measure([0,1,2],[0,1,2])\n",
        "isa_circuitb3 = pm.run(djb3)"
      ],
      "metadata": {
        "id": "_pzlKWZCaWQR"
      },
      "execution_count": null,
      "outputs": []
    },
    {
      "cell_type": "code",
      "source": [
        "from qiskit_ibm_runtime import SamplerV2 as Sampler\n",
        "sampler = Sampler(mode=backend)\n",
        "job = sampler.run([isa_circuitb3])\n",
        "result = job.result()\n",
        "\n",
        "\n",
        "print(f\">>> Job ID: {job.job_id()}\")"
      ],
      "metadata": {
        "colab": {
          "base_uri": "https://localhost:8080/"
        },
        "id": "9LcSRsPhK1vc",
        "outputId": "b315ff26-f9c4-4320-871d-cd36a48307ed"
      },
      "execution_count": null,
      "outputs": [
        {
          "output_type": "stream",
          "name": "stdout",
          "text": [
            ">>> Job ID: d0rletumu1ms73d4met0\n"
          ]
        }
      ]
    },
    {
      "cell_type": "code",
      "source": [
        "print(isa_circuitb3.depth())\n",
        "operaciones=isa_circuitb3.count_ops()\n",
        "print(operaciones)"
      ],
      "metadata": {
        "colab": {
          "base_uri": "https://localhost:8080/"
        },
        "id": "IaD0i6l7O1Y7",
        "outputId": "08e6adfa-f614-467a-9f6a-f2e2db58501d"
      },
      "execution_count": null,
      "outputs": [
        {
          "output_type": "stream",
          "name": "stdout",
          "text": [
            "10\n",
            "OrderedDict([('rz', 14), ('sx', 7), ('cz', 3), ('measure', 3), ('x', 1)])\n"
          ]
        }
      ]
    },
    {
      "cell_type": "code",
      "source": [
        "from qiskit.visualization import plot_histogram\n",
        "result = job.result()\n",
        "print(result)\n",
        "plot_histogram(result[0].data.c.get_counts())"
      ],
      "metadata": {
        "colab": {
          "base_uri": "https://localhost:8080/",
          "height": 524
        },
        "id": "natLpxMPLfRL",
        "outputId": "cbceec92-6696-4e6a-f153-33857a97c477"
      },
      "execution_count": null,
      "outputs": [
        {
          "output_type": "stream",
          "name": "stdout",
          "text": [
            "PrimitiveResult([SamplerPubResult(data=DataBin(c=BitArray(<shape=(), num_shots=4096, num_bits=3>)), metadata={'circuit_metadata': {}})], metadata={'execution': {'execution_spans': ExecutionSpans([DoubleSliceSpan(<start='2025-05-28 18:35:37', stop='2025-05-28 18:35:42', size=4096>)])}, 'version': 2})\n"
          ]
        },
        {
          "output_type": "execute_result",
          "data": {
            "text/plain": [
              "<Figure size 640x480 with 1 Axes>"
            ],
            "image/png": "[encoded data removed]"
          },
          "metadata": {},
          "execution_count": 5
        }
      ]
    },
    {
      "cell_type": "code",
      "source": [
        "#f4(a,b,c,d)= a xor b xor c xor d\n",
        "circb4 = QuantumCircuit(5)\n",
        "circb4.cx(0,4)\n",
        "circb4.cx(1,4)\n",
        "circb4.cx(2,4)\n",
        "circb4.cx(3,4)\n",
        "gateb4 = circb4.to_gate(label='U_f=b4')\n",
        "\n",
        "# Circuito Deutsch–Jozsa\n",
        "djb4 = QuantumCircuit(5,4)\n",
        "djb4.x(4)                   # prepara ancilla en |–>\n",
        "djb4.h(range(5))            # Hadamards en todos los qubits\n",
        "djb4.append(gateb4, [0,1,2,3,4], [])\n",
        "djb4.h([0,1,2,3])           # segundo bloque de Hadamards en los de entrada\n",
        "djb4.measure([0,1,2,3],     # mide sólo los 4 qubits de entrada\n",
        "                 [0,1,2,3])\n",
        "isa_circuitb4 = pm.run(djb4)"
      ],
      "metadata": {
        "id": "6oNDqvw_ajzC"
      },
      "execution_count": null,
      "outputs": []
    },
    {
      "cell_type": "code",
      "source": [
        "from qiskit_ibm_runtime import SamplerV2 as Sampler\n",
        "sampler = Sampler(mode=backend)\n",
        "job = sampler.run([isa_circuitb4])\n",
        "result = job.result()\n",
        "\n",
        "\n",
        "print(f\">>> Job ID: {job.job_id()}\")"
      ],
      "metadata": {
        "colab": {
          "base_uri": "https://localhost:8080/"
        },
        "id": "Pvc3MfNVNAcL",
        "outputId": "05a1393e-4aa5-4851-c4f7-24d1da6c5f22"
      },
      "execution_count": null,
      "outputs": [
        {
          "output_type": "stream",
          "name": "stdout",
          "text": [
            ">>> Job ID: d0rlin7p51os73av63b0\n"
          ]
        }
      ]
    },
    {
      "cell_type": "code",
      "source": [
        "#f5(a,b,c,d,e) = a xor b xor c xor d xor e\n",
        "circb5 = QuantumCircuit(6)\n",
        "for i in range(5):\n",
        "    circb5.cx(i,5)\n",
        "gateb5 = circb5.to_gate(label='U_f=b5')\n",
        "\n",
        "djb5 = QuantumCircuit(6,5)\n",
        "djb5.x(5)\n",
        "djb5.h(range(6))\n",
        "djb5.append(gateb5, list(range(6)), [])\n",
        "djb5.h([0,1,2,3,4])\n",
        "djb5.measure([0,1,2,3,4],[0,1,2,3,4])\n",
        "isa_circuitb5 = pm.run(djb5)"
      ],
      "metadata": {
        "id": "stUbC43za1ch"
      },
      "execution_count": null,
      "outputs": []
    },
    {
      "cell_type": "code",
      "source": [
        "from qiskit_ibm_runtime import SamplerV2 as Sampler\n",
        "sampler = Sampler(mode=backend)\n",
        "job = sampler.run([isa_circuitb5])\n",
        "result = job.result()\n",
        "\n",
        "\n",
        "print(f\">>> Job ID: {job.job_id()}\")"
      ],
      "metadata": {
        "colab": {
          "base_uri": "https://localhost:8080/"
        },
        "id": "nEi2OYvmOUX7",
        "outputId": "4ec5e22f-563b-4540-b517-76dbc52b191a"
      },
      "execution_count": null,
      "outputs": [
        {
          "output_type": "stream",
          "name": "stdout",
          "text": [
            ">>> Job ID: d0rll17p51os73av65i0\n"
          ]
        }
      ]
    },
    {
      "cell_type": "code",
      "source": [
        "#f7(a1,a2,...,a7)\n",
        "circb7 = QuantumCircuit(8)\n",
        "for i in range(7):\n",
        "    circb7.cx(i, 7)\n",
        "gateb7 = circb7.to_gate(label='U_f=b7')\n",
        "\n",
        "# Deutsch–Jozsa de 7 bits\n",
        "djb7 = QuantumCircuit(8, 7)\n",
        "djb7.x(7)                 # ancilla en |–>\n",
        "djb7.h(range(8))          # Hadamard en 7 inputs + ancilla\n",
        "djb7.append(gateb7, list(range(8)), [])\n",
        "djb7.h(list(range(7)))    # Hadamard solo en qubits de entrada\n",
        "djb7.measure(list(range(7)), list(range(7)))\n",
        "isa_circuitb7 = pm.run(djb7)"
      ],
      "metadata": {
        "id": "m0pJKBlWbPFJ"
      },
      "execution_count": null,
      "outputs": []
    },
    {
      "cell_type": "code",
      "source": [
        "from qiskit_ibm_runtime import SamplerV2 as Sampler\n",
        "sampler = Sampler(mode=backend)\n",
        "job = sampler.run([isa_circuitb7])\n",
        "result = job.result()\n",
        "\n",
        "\n",
        "print(f\">>> Job ID: {job.job_id()}\")"
      ],
      "metadata": {
        "colab": {
          "base_uri": "https://localhost:8080/"
        },
        "id": "3BBMAi_0RK0l",
        "outputId": "fa653b1d-fd54-4617-a295-8a3a5c7ed6fb"
      },
      "execution_count": null,
      "outputs": [
        {
          "output_type": "stream",
          "name": "stdout",
          "text": [
            ">>> Job ID: d0rlqqfp51os73av6big\n"
          ]
        }
      ]
    },
    {
      "cell_type": "code",
      "source": [
        "# f9(a1,a2,...,a9)\n",
        "circb9 = QuantumCircuit(10)\n",
        "for i in range(9):\n",
        "    circb9.cx(i, 9)\n",
        "gateb9 = circb9.to_gate(label='U_f=b9')\n",
        "\n",
        "# Deutsch–Jozsa de 9 bits\n",
        "djb9 = QuantumCircuit(10, 9)\n",
        "djb9.x(9)\n",
        "djb9.h(range(10))\n",
        "djb9.append(gateb9, list(range(10)), [])\n",
        "djb9.h(list(range(9)))\n",
        "djb9.measure(list(range(9)), list(range(9)))\n",
        "isa_circuitb9 = pm.run(djb9)"
      ],
      "metadata": {
        "id": "7i1DQiSzbb1C"
      },
      "execution_count": null,
      "outputs": []
    },
    {
      "cell_type": "code",
      "source": [
        "from qiskit_ibm_runtime import SamplerV2 as Sampler\n",
        "sampler = Sampler(mode=backend)\n",
        "job = sampler.run([isa_circuitb9])\n",
        "result = job.result()\n",
        "\n",
        "\n",
        "print(f\">>> Job ID: {job.job_id()}\")"
      ],
      "metadata": {
        "colab": {
          "base_uri": "https://localhost:8080/"
        },
        "id": "F3ajy-j2RpCl",
        "outputId": "ee941dfc-00c3-4a54-9a0f-28691447a157"
      },
      "execution_count": null,
      "outputs": [
        {
          "output_type": "stream",
          "name": "stdout",
          "text": [
            ">>> Job ID: d0rlrtvp51os73av6cm0\n"
          ]
        }
      ]
    },
    {
      "cell_type": "code",
      "source": [
        "#f20(a1,a2,...,a20)\n",
        "circb20 = QuantumCircuit(21)\n",
        "for i in range(20):\n",
        "    circb20.cx(i, 20)\n",
        "gateb20 = circb20.to_gate(label='U_f=b20')\n",
        "\n",
        "# Deutsch–Jozsa de 20 bits\n",
        "djb20 = QuantumCircuit(21, 20)\n",
        "djb20.x(20)                # prepara la ancilla en |–>\n",
        "djb20.h(range(21))         # Hadamards en los 20 inputs + ancilla\n",
        "djb20.append(gateb20, list(range(21)), [])\n",
        "djb20.h(list(range(20)))   # Hadamards sólo en los qubits de entrada\n",
        "djb20.measure(list(range(20)), list(range(20)))\n",
        "\n",
        "isa_circuitb20 = pm.run(djb20)"
      ],
      "metadata": {
        "id": "tek72O_mjTUG"
      },
      "execution_count": null,
      "outputs": []
    },
    {
      "cell_type": "code",
      "source": [
        "from qiskit_ibm_runtime import SamplerV2 as Sampler\n",
        "sampler = Sampler(mode=backend)\n",
        "job = sampler.run([isa_circuitb20])\n",
        "result = job.result()\n",
        "\n",
        "\n",
        "print(f\">>> Job ID: {job.job_id()}\")"
      ],
      "metadata": {
        "id": "cQiAU7GITuCO"
      },
      "execution_count": null,
      "outputs": []
    },
    {
      "cell_type": "code",
      "source": [
        "#f40(a1,a2,...,a40)\n",
        "circb40 = QuantumCircuit(41)\n",
        "for i in range(40):\n",
        "    circb40.cx(i, 40)\n",
        "gateb40 = circb40.to_gate(label='U_f=b40')\n",
        "\n",
        "# Deutsch–Jozsa de 40 bits\n",
        "djb40 = QuantumCircuit(41, 40)\n",
        "djb40.x(40)                 # prepara la ancilla en |–>\n",
        "djb40.h(range(41))          # Hadamards en los 40 inputs + ancilla\n",
        "djb40.append(gateb40, list(range(41)), [])\n",
        "djb40.h(list(range(40)))    # Hadamards sólo en los qubits de entrada\n",
        "djb40.measure(list(range(40)), list(range(40)))\n",
        "\n",
        "isa_circuitb40 = pm.run(djb40)"
      ],
      "metadata": {
        "id": "tBu9oO4Xjbid"
      },
      "execution_count": null,
      "outputs": []
    },
    {
      "cell_type": "code",
      "source": [
        "from qiskit_ibm_runtime import SamplerV2 as Sampler\n",
        "sampler = Sampler(mode=backend)\n",
        "job = sampler.run([isa_circuitb40])     # aquí solo pasas el circuito\n",
        "result = job.result()\n",
        "\n",
        "# Use the job ID to retrieve your job data later\n",
        "print(f\">>> Job ID: {job.job_id()}\")"
      ],
      "metadata": {
        "colab": {
          "base_uri": "https://localhost:8080/"
        },
        "id": "VI5m4t-siJ0y",
        "outputId": "8b73549d-e987-4ac8-b6c6-1b87a173bf1d"
      },
      "execution_count": null,
      "outputs": [
        {
          "output_type": "stream",
          "name": "stdout",
          "text": [
            ">>> Job ID: d0s36qq4p3dc73f1urjg\n"
          ]
        }
      ]
    },
    {
      "cell_type": "code",
      "source": [
        "circ_Nejec=[(isa_circuitb3,\"d0rletumu1ms73d4met0\",\"f3\"),(isa_circuitb4,\"d0rlin7p51os73av63b0\",\"f4\"),(isa_circuitb5,\"d0rll17p51os73av65i0\",\"f5\"),(isa_circuitb7,\"d0rlqqfp51os73av6big\",\"f7\"),(isa_circuitb9,\"d0rlrtvp51os73av6cm0\",\"f9\"),(isa_circuitb20,\"d0rnq587m9ds739ff110\",\"f20\"),(isa_circuitb40,\"d0s36qq4p3dc73f1urjg\",\"f40\")]"
      ],
      "metadata": {
        "id": "aiSivYCbj1yV"
      },
      "execution_count": null,
      "outputs": []
    },
    {
      "cell_type": "code",
      "source": [
        "import pandas as pd\n",
        "propiedades=[]\n",
        "for i in circ_Nejec:\n",
        "  profundidad=i[0].depth()\n",
        "  operaciones=i[0].count_ops()\n",
        "  job_id=i[1]\n",
        "  job=service.job(job_id)\n",
        "  result = job.result()\n",
        "  cero=len(list(result[0].data.c.get_counts().keys())[0])*'0'\n",
        "  tasa_ceros=result[0].data.c.get_counts()[cero]*100/4096\n",
        "  spans = job.result().metadata[\"execution\"][\"execution_spans\"]\n",
        "  segundos_ejecucion= spans.duration\n",
        "  propiedades.append({\"funcion\":i[2],\"profundidad\":profundidad,\"% de ceros\":tasa_ceros,\"segundos de ejecucion\":segundos_ejecucion})\n",
        "\n"
      ],
      "metadata": {
        "id": "f9J5yD8onZM5"
      },
      "execution_count": null,
      "outputs": []
    },
    {
      "cell_type": "code",
      "source": [
        "job=service.job(\"d0rletumu1ms73d4met0\")\n",
        "result = job.result()\n",
        "cero=len(list(result[0].data.c.get_counts().keys())[0])*'0'\n",
        "tasa_ceros=result[0].data.c.get_counts()[cero]*100/4096\n",
        "spans = job.result().metadata[\"execution\"][\"execution_spans\"]\n",
        "segundos_ejecucion= spans.duration"
      ],
      "metadata": {
        "id": "17VNY4hcJ25H"
      },
      "execution_count": null,
      "outputs": []
    },
    {
      "cell_type": "code",
      "source": [
        "segundos_ejecucion"
      ],
      "metadata": {
        "id": "3JQjh2a5J_rW",
        "outputId": "43cd0a5c-ab48-423d-f963-fbe8c3f5c050",
        "colab": {
          "base_uri": "https://localhost:8080/"
        }
      },
      "execution_count": null,
      "outputs": [
        {
          "output_type": "execute_result",
          "data": {
            "text/plain": [
              "5.411265"
            ]
          },
          "metadata": {},
          "execution_count": 30
        }
      ]
    },
    {
      "cell_type": "code",
      "source": [
        "tabla=pd.DataFrame(propiedades)\n",
        "tabla.set_index(\"funcion\", inplace=True)\n",
        "tabla\n"
      ],
      "metadata": {
        "colab": {
          "base_uri": "https://localhost:8080/",
          "height": 300
        },
        "id": "HJC8vWrcoq0A",
        "outputId": "6e1449cb-bf37-4386-f283-873fb019df10"
      },
      "execution_count": null,
      "outputs": [
        {
          "output_type": "execute_result",
          "data": {
            "text/plain": [
              "         profundidad  % de ceros  segundos de ejecucion\n",
              "funcion                                                \n",
              "f3                10    1.977539               5.411265\n",
              "f4                28    1.416016               2.354531\n",
              "f5                37    0.903320               2.437476\n",
              "f7                51    1.147461               2.237045\n",
              "f9                79    1.782227               2.339252\n",
              "f20              166    0.244141               2.378809\n",
              "f40              365    0.024414               2.479570"
            ],
            "text/html": [
              "\n",
              "  <div id=\"df-0dac4c7d-e7a7-4b51-aed0-c8a62421ab5d\" class=\"colab-df-container\">\n",
              "    <div>\n",
              "<style scoped>\n",
              "    .dataframe tbody tr th:only-of-type {\n",
              "        vertical-align: middle;\n",
              "    }\n",
              "\n",
              "    .dataframe tbody tr th {\n",
              "        vertical-align: top;\n",
              "    }\n",
              "\n",
              "    .dataframe thead th {\n",
              "        text-align: right;\n",
              "    }\n",
              "</style>\n",
              "<table border=\"1\" class=\"dataframe\">\n",
              "  <thead>\n",
              "    <tr style=\"text-align: right;\">\n",
              "      <th></th>\n",
              "      <th>profundidad</th>\n",
              "      <th>% de ceros</th>\n",
              "      <th>segundos de ejecucion</th>\n",
              "    </tr>\n",
              "    <tr>\n",
              "      <th>funcion</th>\n",
              "      <th></th>\n",
              "      <th></th>\n",
              "      <th></th>\n",
              "    </tr>\n",
              "  </thead>\n",
              "  <tbody>\n",
              "    <tr>\n",
              "      <th>f3</th>\n",
              "      <td>10</td>\n",
              "      <td>1.977539</td>\n",
              "      <td>5.411265</td>\n",
              "    </tr>\n",
              "    <tr>\n",
              "      <th>f4</th>\n",
              "      <td>28</td>\n",
              "      <td>1.416016</td>\n",
              "      <td>2.354531</td>\n",
              "    </tr>\n",
              "    <tr>\n",
              "      <th>f5</th>\n",
              "      <td>37</td>\n",
              "      <td>0.903320</td>\n",
              "      <td>2.437476</td>\n",
              "    </tr>\n",
              "    <tr>\n",
              "      <th>f7</th>\n",
              "      <td>51</td>\n",
              "      <td>1.147461</td>\n",
              "      <td>2.237045</td>\n",
              "    </tr>\n",
              "    <tr>\n",
              "      <th>f9</th>\n",
              "      <td>79</td>\n",
              "      <td>1.782227</td>\n",
              "      <td>2.339252</td>\n",
              "    </tr>\n",
              "    <tr>\n",
              "      <th>f20</th>\n",
              "      <td>166</td>\n",
              "      <td>0.244141</td>\n",
              "      <td>2.378809</td>\n",
              "    </tr>\n",
              "    <tr>\n",
              "      <th>f40</th>\n",
              "      <td>365</td>\n",
              "      <td>0.024414</td>\n",
              "      <td>2.479570</td>\n",
              "    </tr>\n",
              "  </tbody>\n",
              "</table>\n",
              "</div>\n",
              "    <div class=\"colab-df-buttons\">\n",
              "\n",
              "  <div class=\"colab-df-container\">\n",
              "    <button class=\"colab-df-convert\" onclick=\"convertToInteractive('df-0dac4c7d-e7a7-4b51-aed0-c8a62421ab5d')\"\n",
              "            title=\"Convert this dataframe to an interactive table.\"\n",
              "            style=\"display:none;\">\n",
              "\n",
              "  <svg xmlns=\"http://www.w3.org/2000/svg\" height=\"24px\" viewBox=\"0 -960 960 960\">\n",
              "    <path d=\"M120-120v-720h720v720H120Zm60-500h600v-160H180v160Zm220 220h160v-160H400v160Zm0 220h160v-160H400v160ZM180-400h160v-160H180v160Zm440 0h160v-160H620v160ZM180-180h160v-160H180v160Zm440 0h160v-160H620v160Z\"/>\n",
              "  </svg>\n",
              "    </button>\n",
              "\n",
              "  <style>\n",
              "    .colab-df-container {\n",
              "      display:flex;\n",
              "      gap: 12px;\n",
              "    }\n",
              "\n",
              "    .colab-df-convert {\n",
              "      background-color: #E8F0FE;\n",
              "      border: none;\n",
              "      border-radius: 50%;\n",
              "      cursor: pointer;\n",
              "      display: none;\n",
              "      fill: #1967D2;\n",
              "      height: 32px;\n",
              "      padding: 0 0 0 0;\n",
              "      width: 32px;\n",
              "    }\n",
              "\n",
              "    .colab-df-convert:hover {\n",
              "      background-color: #E2EBFA;\n",
              "      box-shadow: 0px 1px 2px rgba(60, 64, 67, 0.3), 0px 1px 3px 1px rgba(60, 64, 67, 0.15);\n",
              "      fill: #174EA6;\n",
              "    }\n",
              "\n",
              "    .colab-df-buttons div {\n",
              "      margin-bottom: 4px;\n",
              "    }\n",
              "\n",
              "    [theme=dark] .colab-df-convert {\n",
              "      background-color: #3B4455;\n",
              "      fill: #D2E3FC;\n",
              "    }\n",
              "\n",
              "    [theme=dark] .colab-df-convert:hover {\n",
              "      background-color: #434B5C;\n",
              "      box-shadow: 0px 1px 3px 1px rgba(0, 0, 0, 0.15);\n",
              "      filter: drop-shadow(0px 1px 2px rgba(0, 0, 0, 0.3));\n",
              "      fill: #FFFFFF;\n",
              "    }\n",
              "  </style>\n",
              "\n",
              "    <script>\n",
              "      const buttonEl =\n",
              "        document.querySelector('#df-0dac4c7d-e7a7-4b51-aed0-c8a62421ab5d button.colab-df-convert');\n",
              "      buttonEl.style.display =\n",
              "        google.colab.kernel.accessAllowed ? 'block' : 'none';\n",
              "\n",
              "      async function convertToInteractive(key) {\n",
              "        const element = document.querySelector('#df-0dac4c7d-e7a7-4b51-aed0-c8a62421ab5d');\n",
              "        const dataTable =\n",
              "          await google.colab.kernel.invokeFunction('convertToInteractive',\n",
              "                                                    [key], {});\n",
              "        if (!dataTable) return;\n",
              "\n",
              "        const docLinkHtml = 'Like what you see? Visit the ' +\n",
              "          '<a target=\"_blank\" href=https://colab.research.google.com/notebooks/data_table.ipynb>data table notebook</a>'\n",
              "          + ' to learn more about interactive tables.';\n",
              "        element.innerHTML = '';\n",
              "        dataTable['output_type'] = 'display_data';\n",
              "        await google.colab.output.renderOutput(dataTable, element);\n",
              "        const docLink = document.createElement('div');\n",
              "        docLink.innerHTML = docLinkHtml;\n",
              "        element.appendChild(docLink);\n",
              "      }\n",
              "    </script>\n",
              "  </div>\n",
              "\n",
              "\n",
              "    <div id=\"df-0b161412-f7d2-4d55-9858-304ceeac8f8a\">\n",
              "      <button class=\"colab-df-quickchart\" onclick=\"quickchart('df-0b161412-f7d2-4d55-9858-304ceeac8f8a')\"\n",
              "                title=\"Suggest charts\"\n",
              "                style=\"display:none;\">\n",
              "\n",
              "<svg xmlns=\"http://www.w3.org/2000/svg\" height=\"24px\"viewBox=\"0 0 24 24\"\n",
              "     width=\"24px\">\n",
              "    <g>\n",
              "        <path d=\"M19 3H5c-1.1 0-2 .9-2 2v14c0 1.1.9 2 2 2h14c1.1 0 2-.9 2-2V5c0-1.1-.9-2-2-2zM9 17H7v-7h2v7zm4 0h-2V7h2v10zm4 0h-2v-4h2v4z\"/>\n",
              "    </g>\n",
              "</svg>\n",
              "      </button>\n",
              "\n",
              "<style>\n",
              "  .colab-df-quickchart {\n",
              "      --bg-color: #E8F0FE;\n",
              "      --fill-color: #1967D2;\n",
              "      --hover-bg-color: #E2EBFA;\n",
              "      --hover-fill-color: #174EA6;\n",
              "      --disabled-fill-color: #AAA;\n",
              "      --disabled-bg-color: #DDD;\n",
              "  }\n",
              "\n",
              "  [theme=dark] .colab-df-quickchart {\n",
              "      --bg-color: #3B4455;\n",
              "      --fill-color: #D2E3FC;\n",
              "      --hover-bg-color: #434B5C;\n",
              "      --hover-fill-color: #FFFFFF;\n",
              "      --disabled-bg-color: #3B4455;\n",
              "      --disabled-fill-color: #666;\n",
              "  }\n",
              "\n",
              "  .colab-df-quickchart {\n",
              "    background-color: var(--bg-color);\n",
              "    border: none;\n",
              "    border-radius: 50%;\n",
              "    cursor: pointer;\n",
              "    display: none;\n",
              "    fill: var(--fill-color);\n",
              "    height: 32px;\n",
              "    padding: 0;\n",
              "    width: 32px;\n",
              "  }\n",
              "\n",
              "  .colab-df-quickchart:hover {\n",
              "    background-color: var(--hover-bg-color);\n",
              "    box-shadow: 0 1px 2px rgba(60, 64, 67, 0.3), 0 1px 3px 1px rgba(60, 64, 67, 0.15);\n",
              "    fill: var(--button-hover-fill-color);\n",
              "  }\n",
              "\n",
              "  .colab-df-quickchart-complete:disabled,\n",
              "  .colab-df-quickchart-complete:disabled:hover {\n",
              "    background-color: var(--disabled-bg-color);\n",
              "    fill: var(--disabled-fill-color);\n",
              "    box-shadow: none;\n",
              "  }\n",
              "\n",
              "  .colab-df-spinner {\n",
              "    border: 2px solid var(--fill-color);\n",
              "    border-color: transparent;\n",
              "    border-bottom-color: var(--fill-color);\n",
              "    animation:\n",
              "      spin 1s steps(1) infinite;\n",
              "  }\n",
              "\n",
              "  @keyframes spin {\n",
              "    0% {\n",
              "      border-color: transparent;\n",
              "      border-bottom-color: var(--fill-color);\n",
              "      border-left-color: var(--fill-color);\n",
              "    }\n",
              "    20% {\n",
              "      border-color: transparent;\n",
              "      border-left-color: var(--fill-color);\n",
              "      border-top-color: var(--fill-color);\n",
              "    }\n",
              "    30% {\n",
              "      border-color: transparent;\n",
              "      border-left-color: var(--fill-color);\n",
              "      border-top-color: var(--fill-color);\n",
              "      border-right-color: var(--fill-color);\n",
              "    }\n",
              "    40% {\n",
              "      border-color: transparent;\n",
              "      border-right-color: var(--fill-color);\n",
              "      border-top-color: var(--fill-color);\n",
              "    }\n",
              "    60% {\n",
              "      border-color: transparent;\n",
              "      border-right-color: var(--fill-color);\n",
              "    }\n",
              "    80% {\n",
              "      border-color: transparent;\n",
              "      border-right-color: var(--fill-color);\n",
              "      border-bottom-color: var(--fill-color);\n",
              "    }\n",
              "    90% {\n",
              "      border-color: transparent;\n",
              "      border-bottom-color: var(--fill-color);\n",
              "    }\n",
              "  }\n",
              "</style>\n",
              "\n",
              "      <script>\n",
              "        async function quickchart(key) {\n",
              "          const quickchartButtonEl =\n",
              "            document.querySelector('#' + key + ' button');\n",
              "          quickchartButtonEl.disabled = true;  // To prevent multiple clicks.\n",
              "          quickchartButtonEl.classList.add('colab-df-spinner');\n",
              "          try {\n",
              "            const charts = await google.colab.kernel.invokeFunction(\n",
              "                'suggestCharts', [key], {});\n",
              "          } catch (error) {\n",
              "            console.error('Error during call to suggestCharts:', error);\n",
              "          }\n",
              "          quickchartButtonEl.classList.remove('colab-df-spinner');\n",
              "          quickchartButtonEl.classList.add('colab-df-quickchart-complete');\n",
              "        }\n",
              "        (() => {\n",
              "          let quickchartButtonEl =\n",
              "            document.querySelector('#df-0b161412-f7d2-4d55-9858-304ceeac8f8a button');\n",
              "          quickchartButtonEl.style.display =\n",
              "            google.colab.kernel.accessAllowed ? 'block' : 'none';\n",
              "        })();\n",
              "      </script>\n",
              "    </div>\n",
              "\n",
              "  <div id=\"id_35047ffa-f271-41cc-84cc-7ec342d27a82\">\n",
              "    <style>\n",
              "      .colab-df-generate {\n",
              "        background-color: #E8F0FE;\n",
              "        border: none;\n",
              "        border-radius: 50%;\n",
              "        cursor: pointer;\n",
              "        display: none;\n",
              "        fill: #1967D2;\n",
              "        height: 32px;\n",
              "        padding: 0 0 0 0;\n",
              "        width: 32px;\n",
              "      }\n",
              "\n",
              "      .colab-df-generate:hover {\n",
              "        background-color: #E2EBFA;\n",
              "        box-shadow: 0px 1px 2px rgba(60, 64, 67, 0.3), 0px 1px 3px 1px rgba(60, 64, 67, 0.15);\n",
              "        fill: #174EA6;\n",
              "      }\n",
              "\n",
              "      [theme=dark] .colab-df-generate {\n",
              "        background-color: #3B4455;\n",
              "        fill: #D2E3FC;\n",
              "      }\n",
              "\n",
              "      [theme=dark] .colab-df-generate:hover {\n",
              "        background-color: #434B5C;\n",
              "        box-shadow: 0px 1px 3px 1px rgba(0, 0, 0, 0.15);\n",
              "        filter: drop-shadow(0px 1px 2px rgba(0, 0, 0, 0.3));\n",
              "        fill: #FFFFFF;\n",
              "      }\n",
              "    </style>\n",
              "    <button class=\"colab-df-generate\" onclick=\"generateWithVariable('tabla')\"\n",
              "            title=\"Generate code using this dataframe.\"\n",
              "            style=\"display:none;\">\n",
              "\n",
              "  <svg xmlns=\"http://www.w3.org/2000/svg\" height=\"24px\"viewBox=\"0 0 24 24\"\n",
              "       width=\"24px\">\n",
              "    <path d=\"M7,19H8.4L18.45,9,17,7.55,7,17.6ZM5,21V16.75L18.45,3.32a2,2,0,0,1,2.83,0l1.4,1.43a1.91,1.91,0,0,1,.58,1.4,1.91,1.91,0,0,1-.58,1.4L9.25,21ZM18.45,9,17,7.55Zm-12,3A5.31,5.31,0,0,0,4.9,8.1,5.31,5.31,0,0,0,1,6.5,5.31,5.31,0,0,0,4.9,4.9,5.31,5.31,0,0,0,6.5,1,5.31,5.31,0,0,0,8.1,4.9,5.31,5.31,0,0,0,12,6.5,5.46,5.46,0,0,0,6.5,12Z\"/>\n",
              "  </svg>\n",
              "    </button>\n",
              "    <script>\n",
              "      (() => {\n",
              "      const buttonEl =\n",
              "        document.querySelector('#id_35047ffa-f271-41cc-84cc-7ec342d27a82 button.colab-df-generate');\n",
              "      buttonEl.style.display =\n",
              "        google.colab.kernel.accessAllowed ? 'block' : 'none';\n",
              "\n",
              "      buttonEl.onclick = () => {\n",
              "        google.colab.notebook.generateWithVariable('tabla');\n",
              "      }\n",
              "      })();\n",
              "    </script>\n",
              "  </div>\n",
              "\n",
              "    </div>\n",
              "  </div>\n"
            ],
            "application/vnd.google.colaboratory.intrinsic+json": {
              "type": "dataframe",
              "variable_name": "tabla",
              "summary": "{\n  \"name\": \"tabla\",\n  \"rows\": 7,\n  \"fields\": [\n    {\n      \"column\": \"funcion\",\n      \"properties\": {\n        \"dtype\": \"string\",\n        \"num_unique_values\": 7,\n        \"samples\": [\n          \"f3\",\n          \"f4\",\n          \"f20\"\n        ],\n        \"semantic_type\": \"\",\n        \"description\": \"\"\n      }\n    },\n    {\n      \"column\": \"profundidad\",\n      \"properties\": {\n        \"dtype\": \"number\",\n        \"std\": 125,\n        \"min\": 10,\n        \"max\": 365,\n        \"num_unique_values\": 7,\n        \"samples\": [\n          10,\n          28,\n          166\n        ],\n        \"semantic_type\": \"\",\n        \"description\": \"\"\n      }\n    },\n    {\n      \"column\": \"% de ceros\",\n      \"properties\": {\n        \"dtype\": \"number\",\n        \"std\": 0.737076756888722,\n        \"min\": 0.0244140625,\n        \"max\": 1.9775390625,\n        \"num_unique_values\": 7,\n        \"samples\": [\n          1.9775390625,\n          1.416015625,\n          0.244140625\n        ],\n        \"semantic_type\": \"\",\n        \"description\": \"\"\n      }\n    },\n    {\n      \"column\": \"segundos de ejecucion\",\n      \"properties\": {\n        \"dtype\": \"number\",\n        \"std\": 1.1516401169739658,\n        \"min\": 2.237045,\n        \"max\": 5.411265,\n        \"num_unique_values\": 7,\n        \"samples\": [\n          5.411265,\n          2.354531,\n          2.378809\n        ],\n        \"semantic_type\": \"\",\n        \"description\": \"\"\n      }\n    }\n  ]\n}"
            }
          },
          "metadata": {},
          "execution_count": 14
        }
      ]
    },
    {
      "cell_type": "code",
      "source": [
        "import pandas as pd\n",
        "import matplotlib.pyplot as plt\n",
        "\n",
        "fig, ax = plt.subplots(figsize=(8, 4))\n",
        "\n",
        "# ejes ocultos\n",
        "ax.axis('off')\n",
        "ax.axis('tight')\n",
        "\n",
        "# Crea tabla\n",
        "table = ax.table(cellText=tabla.round(2).values,\n",
        "                 colLabels=tabla.columns,\n",
        "                 rowLabels=tabla.index,\n",
        "                 cellLoc='center',\n",
        "                 loc='center')\n",
        "\n",
        "table.auto_set_font_size(False)\n",
        "table.set_fontsize(10)\n",
        "table.scale(1, 1.5)\n",
        "\n",
        "plt.tight_layout()\n"
      ],
      "metadata": {
        "colab": {
          "base_uri": "https://localhost:8080/",
          "height": 407
        },
        "id": "99A1l-6Za2k7",
        "outputId": "4aa7e9ee-fbc4-4275-af29-d2b009315d5e"
      },
      "execution_count": null,
      "outputs": [
        {
          "output_type": "display_data",
          "data": {
            "text/plain": [
              "<Figure size 800x400 with 1 Axes>"
            ],
            "image/png": "[encoded data removed]"
          },
          "metadata": {}
        }
      ]
    }
  ]
}