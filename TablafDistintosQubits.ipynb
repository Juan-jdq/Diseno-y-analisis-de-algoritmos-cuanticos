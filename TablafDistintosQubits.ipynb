{
  "nbformat": 4,
  "nbformat_minor": 0,
  "metadata": {
    "colab": {
      "provenance": []
    },
    "kernelspec": {
      "name": "python3",
      "display_name": "Python 3"
    },
    "language_info": {
      "name": "python"
    }
  },
  "cells": [
    {
      "cell_type": "code",
      "execution_count": null,
      "metadata": {
        "id": "pkC27O201_ZW"
      },
      "outputs": [],
      "source": [
        "!pip install qiskit\n",
        "!pip install qiskit_ibm_runtime\n",
        "!pip install qiskit[visualization]\n",
        "!pip install matplotlib\n",
        "token = \"\"#introducir el código que se obtenga en la aplicación de IBM\n",
        "from qiskit_ibm_runtime import QiskitRuntimeService\n",
        "service = QiskitRuntimeService.save_account(\n",
        "  token=token, # Your token is confidential.\n",
        "\n",
        "  instance=\"\" #introducir el código de la instancia,\n",
        "  name=\"\", # Introducir el tu cuenta de IBM\n",
        "  set_as_default=True,\n",
        ")"
      ]
    },
    {
      "cell_type": "code",
      "source": [
        "import qiskit\n",
        "import matplotlib.pyplot as plt\n",
        "from qiskit import QuantumCircuit\n",
        "import matplotlib\n",
        "from qiskit_ibm_runtime import QiskitRuntimeService\n",
        "from qiskit.transpiler import generate_preset_pass_manager\n",
        "from qiskit.primitives import BitArray\n",
        "service = QiskitRuntimeService()\n",
        "backend = service.least_busy(simulator=False, operational=True)\n",
        "pm = generate_preset_pass_manager(backend=backend, optimization_level=1)"
      ],
      "metadata": {
        "id": "MiaJZJKi2EUA"
      },
      "execution_count": null,
      "outputs": []
    },
    {
      "cell_type": "code",
      "source": [
        "#f3(a0,a1,a2)=xor(xor(a0,a1),a2)\n",
        "# q0=a0, q1=a1, q2=a2, q3=ancilla destino\n",
        "circ_f3 = QuantumCircuit(4)\n",
        "circ_f3.cx(0, 3)\n",
        "circ_f3.cx(1, 3)\n",
        "circ_f3.cx(2, 3)\n",
        "gate_f3 = circ_f3.to_gate(label='U_f3')\n",
        "\n",
        "# --- Deutsch–Jozsa n=3 ---\n",
        "dj3 = QuantumCircuit(4, 3)\n",
        "dj3.x(3)\n",
        "dj3.h(range(4))\n",
        "dj3.barrier()\n",
        "dj3.append(gate_f3, [0,1,2,3], [])\n",
        "dj3.barrier()\n",
        "dj3.h([0,1,2])\n",
        "dj3.measure([0,1,2],[0,1,2])\n",
        "isa_circuitf3 = pm.run(dj3)"
      ],
      "metadata": {
        "id": "tEaYpl3j2QgQ"
      },
      "execution_count": null,
      "outputs": []
    },
    {
      "cell_type": "code",
      "source": [
        "from qiskit_ibm_runtime import SamplerV2 as Sampler\n",
        "sampler = Sampler(mode=backend)\n",
        "job = sampler.run([isa_circuitf3])\n",
        "result = job.result()\n",
        "\n",
        "print(f\">>> Job ID: {job.job_id()}\")"
      ],
      "metadata": {
        "colab": {
          "base_uri": "https://localhost:8080/"
        },
        "id": "70_URkdp26BZ",
        "outputId": "5442f2e1-7417-45fc-d066-c0feda4fdfd4"
      },
      "execution_count": null,
      "outputs": [
        {
          "output_type": "stream",
          "name": "stdout",
          "text": [
            ">>> Job ID: d13i4ptfetss73eonlb0\n"
          ]
        }
      ]
    },
    {
      "cell_type": "code",
      "source": [
        "#f(a0,a1,a2,a3)=xor(xor(a0,a1),a2)\n",
        "circ_f4 = QuantumCircuit(5)\n",
        "circ_f4.cx(0, 4)\n",
        "circ_f4.cx(1, 4)\n",
        "circ_f4.cx(2, 4)\n",
        "gate_f4 = circ_f4.to_gate(label='U_f4')\n",
        "\n",
        "dj4 = QuantumCircuit(5, 4)\n",
        "dj4.x(4)\n",
        "dj4.h(range(5))\n",
        "dj4.barrier()\n",
        "dj4.append(gate_f4, [0,1,2,3,4], [])\n",
        "dj4.barrier()\n",
        "dj4.h([0,1,2,3])\n",
        "dj4.measure([0,1,2,3],[0,1,2,3])\n",
        "isa_circuitf4 = pm.run(dj4)"
      ],
      "metadata": {
        "id": "DgfllWiz3owA"
      },
      "execution_count": null,
      "outputs": []
    },
    {
      "cell_type": "code",
      "source": [
        "from qiskit_ibm_runtime import SamplerV2 as Sampler\n",
        "sampler = Sampler(mode=backend)\n",
        "job = sampler.run([isa_circuitf4])\n",
        "result = job.result()\n",
        "\n",
        "\n",
        "print(f\">>> Job ID: {job.job_id()}\")"
      ],
      "metadata": {
        "colab": {
          "base_uri": "https://localhost:8080/"
        },
        "id": "0RYvaKIp4MBh",
        "outputId": "766838b4-b61e-4327-cf5b-e489c2264b27"
      },
      "execution_count": null,
      "outputs": [
        {
          "output_type": "stream",
          "name": "stdout",
          "text": [
            ">>> Job ID: d13i62nanitc73cjujng\n"
          ]
        }
      ]
    },
    {
      "cell_type": "code",
      "source": [
        "#f(a0,a1,a2,a3,a4)=xor(xor(a0,a1),a2)\n",
        "circ_f5 = QuantumCircuit(6)\n",
        "circ_f5.cx(0, 5)\n",
        "circ_f5.cx(1, 5)\n",
        "circ_f5.cx(2, 5)\n",
        "gate_f5 = circ_f5.to_gate(label='U_f5')\n",
        "\n",
        "dj5 = QuantumCircuit(6, 5)\n",
        "dj5.x(5)\n",
        "dj5.h(range(6))\n",
        "dj5.barrier()\n",
        "dj5.append(gate_f5, [0,1,2,3,4,5], [])\n",
        "dj5.barrier()\n",
        "dj5.h([0,1,2,3,4])\n",
        "dj5.measure([0,1,2,3,4],[0,1,2,3,4])\n",
        "isa_circuitf5 = pm.run(dj5)"
      ],
      "metadata": {
        "id": "gCZKOExi4TnY"
      },
      "execution_count": null,
      "outputs": []
    },
    {
      "cell_type": "code",
      "source": [
        "from qiskit_ibm_runtime import SamplerV2 as Sampler\n",
        "sampler = Sampler(mode=backend)\n",
        "job = sampler.run([isa_circuitf5])\n",
        "result = job.result()\n",
        "\n",
        "\n",
        "print(f\">>> Job ID: {job.job_id()}\")"
      ],
      "metadata": {
        "colab": {
          "base_uri": "https://localhost:8080/"
        },
        "id": "pOKhSvcg4fU4",
        "outputId": "96454f2d-59a5-4435-8dc4-85a773ff98c3"
      },
      "execution_count": null,
      "outputs": [
        {
          "output_type": "stream",
          "name": "stdout",
          "text": [
            ">>> Job ID: d13i6m5fetss73eono8g\n"
          ]
        }
      ]
    },
    {
      "cell_type": "code",
      "source": [
        "#f(a0,a1,a2,a3,a4,a5)=xor(xor(a0,a1),a2)\n",
        "circ_f6 = QuantumCircuit(7)\n",
        "circ_f6.cx(0, 6)\n",
        "circ_f6.cx(1, 6)\n",
        "circ_f6.cx(2, 6)\n",
        "gate_f6 = circ_f6.to_gate(label='U_f6')\n",
        "\n",
        "dj6 = QuantumCircuit(7, 6)\n",
        "dj6.x(6)\n",
        "dj6.h(range(7))\n",
        "dj6.barrier()\n",
        "dj6.append(gate_f6, list(range(7)), [])\n",
        "dj6.barrier()\n",
        "dj6.h([0,1,2,3,4,5])\n",
        "dj6.measure(list(range(6)), list(range(6)))\n",
        "isa_circuitf6 = pm.run(dj6)"
      ],
      "metadata": {
        "id": "UgAUvtO84lTg"
      },
      "execution_count": null,
      "outputs": []
    },
    {
      "cell_type": "code",
      "source": [
        "from qiskit_ibm_runtime import SamplerV2 as Sampler\n",
        "sampler = Sampler(mode=backend)\n",
        "job = sampler.run([isa_circuitf6])\n",
        "result = job.result()\n",
        "\n",
        "\n",
        "print(f\">>> Job ID: {job.job_id()}\")"
      ],
      "metadata": {
        "colab": {
          "base_uri": "https://localhost:8080/"
        },
        "id": "kkO1P_o04xUo",
        "outputId": "ab3063e8-31bd-4e95-e8e4-9266aa021064"
      },
      "execution_count": null,
      "outputs": [
        {
          "output_type": "stream",
          "name": "stdout",
          "text": [
            ">>> Job ID: d13i795fetss73eonou0\n"
          ]
        }
      ]
    },
    {
      "cell_type": "code",
      "source": [
        "#f(a0,a1,a2,a3,a4,a5,a6)=xor(xor(a0,a1),a2)\n",
        "circ_f7 = QuantumCircuit(8)\n",
        "circ_f7.cx(2, 7)\n",
        "circ_f7.cx(4, 7)\n",
        "circ_f7.cx(6, 7)\n",
        "gate_f7 = circ_f7.to_gate(label='U_f7')\n",
        "\n",
        "dj7 = QuantumCircuit(8, 7)\n",
        "dj7.x(7)\n",
        "dj7.h(range(8))\n",
        "dj7.barrier()\n",
        "dj7.append(gate_f7, list(range(8)), [])\n",
        "dj7.barrier()\n",
        "dj7.h(list(range(7)))\n",
        "dj7.measure(list(range(7)), list(range(7)))\n",
        "isa_circuitf7 = pm.run(dj7)"
      ],
      "metadata": {
        "id": "Y6k50htJ43AY"
      },
      "execution_count": null,
      "outputs": []
    },
    {
      "cell_type": "code",
      "source": [
        "from qiskit_ibm_runtime import SamplerV2 as Sampler\n",
        "sampler = Sampler(mode=backend)\n",
        "job = sampler.run([isa_circuitf7])\n",
        "result = job.result()\n",
        "\n",
        "\n",
        "print(f\">>> Job ID: {job.job_id()}\")"
      ],
      "metadata": {
        "colab": {
          "base_uri": "https://localhost:8080/"
        },
        "id": "EbTMBtuA5ACA",
        "outputId": "803e219e-f377-4a00-a21a-0e62028e646a"
      },
      "execution_count": null,
      "outputs": [
        {
          "output_type": "stream",
          "name": "stdout",
          "text": [
            ">>> Job ID: d13i7o7anitc73cjulm0\n"
          ]
        }
      ]
    },
    {
      "cell_type": "code",
      "source": [
        "circ_Id=[(isa_circuitf3,\"d13i4ptfetss73eonlb0\",\"f3\"),(isa_circuitf4,\"d13i62nanitc73cjujng\",\"f4\"),(isa_circuitf5,\"d13i6m5fetss73eono8g\",\"f5\"),(isa_circuitf6,\"d13i795fetss73eonou0\",\"f6\"),(isa_circuitf7,\"d13i7o7anitc73cjulm0\",\"f7\")]"
      ],
      "metadata": {
        "id": "UJvmSh3g5GQp"
      },
      "execution_count": null,
      "outputs": []
    },
    {
      "cell_type": "code",
      "source": [
        "import pandas as pd\n",
        "propiedades=[]\n",
        "for i in circ_Id:\n",
        "  profundidad=i[0].depth()\n",
        "  operaciones=i[0].count_ops()\n",
        "  job_id=i[1]\n",
        "  job=service.job(job_id)\n",
        "  result = job.result()\n",
        "  cero=len(list(result[0].data.c.get_counts().keys())[0])*'0'\n",
        "  tasa_ceros=result[0].data.c.get_counts()[cero]*100/4096\n",
        "  spans = job.result().metadata[\"execution\"][\"execution_spans\"]\n",
        "  segundos_ejecucion= spans.duration\n",
        "  propiedades.append({\"funcion\":i[2],\"profundidad\":profundidad,\"% de ceros\":tasa_ceros,\"segundos de ejecucion\":segundos_ejecucion})\n"
      ],
      "metadata": {
        "id": "gAbXVdqN55wZ"
      },
      "execution_count": null,
      "outputs": []
    },
    {
      "cell_type": "code",
      "source": [
        "tabla=pd.DataFrame(propiedades)\n",
        "tabla.set_index(\"funcion\", inplace=True)\n",
        "tabla"
      ],
      "metadata": {
        "colab": {
          "base_uri": "https://localhost:8080/",
          "height": 237
        },
        "id": "rVqEI9wT585v",
        "outputId": "eb65f4c3-76db-4688-b08b-7289f3f7d809"
      },
      "execution_count": null,
      "outputs": [
        {
          "output_type": "execute_result",
          "data": {
            "text/plain": [
              "         profundidad  % de ceros  segundos de ejecucion\n",
              "funcion                                                \n",
              "f3                16    0.976562               1.950205\n",
              "f4                16    1.367188               2.058461\n",
              "f5                16    1.025391               2.010549\n",
              "f6                16    1.147461               3.078833\n",
              "f7                16    6.884766               2.064662"
            ],
            "text/html": [
              "\n",
              "  <div id=\"df-b7340671-ea04-4700-967e-2d6fe71af053\" class=\"colab-df-container\">\n",
              "    <div>\n",
              "<style scoped>\n",
              "    .dataframe tbody tr th:only-of-type {\n",
              "        vertical-align: middle;\n",
              "    }\n",
              "\n",
              "    .dataframe tbody tr th {\n",
              "        vertical-align: top;\n",
              "    }\n",
              "\n",
              "    .dataframe thead th {\n",
              "        text-align: right;\n",
              "    }\n",
              "</style>\n",
              "<table border=\"1\" class=\"dataframe\">\n",
              "  <thead>\n",
              "    <tr style=\"text-align: right;\">\n",
              "      <th></th>\n",
              "      <th>profundidad</th>\n",
              "      <th>% de ceros</th>\n",
              "      <th>segundos de ejecucion</th>\n",
              "    </tr>\n",
              "    <tr>\n",
              "      <th>funcion</th>\n",
              "      <th></th>\n",
              "      <th></th>\n",
              "      <th></th>\n",
              "    </tr>\n",
              "  </thead>\n",
              "  <tbody>\n",
              "    <tr>\n",
              "      <th>f3</th>\n",
              "      <td>16</td>\n",
              "      <td>0.976562</td>\n",
              "      <td>1.950205</td>\n",
              "    </tr>\n",
              "    <tr>\n",
              "      <th>f4</th>\n",
              "      <td>16</td>\n",
              "      <td>1.367188</td>\n",
              "      <td>2.058461</td>\n",
              "    </tr>\n",
              "    <tr>\n",
              "      <th>f5</th>\n",
              "      <td>16</td>\n",
              "      <td>1.025391</td>\n",
              "      <td>2.010549</td>\n",
              "    </tr>\n",
              "    <tr>\n",
              "      <th>f6</th>\n",
              "      <td>16</td>\n",
              "      <td>1.147461</td>\n",
              "      <td>3.078833</td>\n",
              "    </tr>\n",
              "    <tr>\n",
              "      <th>f7</th>\n",
              "      <td>16</td>\n",
              "      <td>6.884766</td>\n",
              "      <td>2.064662</td>\n",
              "    </tr>\n",
              "  </tbody>\n",
              "</table>\n",
              "</div>\n",
              "    <div class=\"colab-df-buttons\">\n",
              "\n",
              "  <div class=\"colab-df-container\">\n",
              "    <button class=\"colab-df-convert\" onclick=\"convertToInteractive('df-b7340671-ea04-4700-967e-2d6fe71af053')\"\n",
              "            title=\"Convert this dataframe to an interactive table.\"\n",
              "            style=\"display:none;\">\n",
              "\n",
              "  <svg xmlns=\"http://www.w3.org/2000/svg\" height=\"24px\" viewBox=\"0 -960 960 960\">\n",
              "    <path d=\"M120-120v-720h720v720H120Zm60-500h600v-160H180v160Zm220 220h160v-160H400v160Zm0 220h160v-160H400v160ZM180-400h160v-160H180v160Zm440 0h160v-160H620v160ZM180-180h160v-160H180v160Zm440 0h160v-160H620v160Z\"/>\n",
              "  </svg>\n",
              "    </button>\n",
              "\n",
              "  <style>\n",
              "    .colab-df-container {\n",
              "      display:flex;\n",
              "      gap: 12px;\n",
              "    }\n",
              "\n",
              "    .colab-df-convert {\n",
              "      background-color: #E8F0FE;\n",
              "      border: none;\n",
              "      border-radius: 50%;\n",
              "      cursor: pointer;\n",
              "      display: none;\n",
              "      fill: #1967D2;\n",
              "      height: 32px;\n",
              "      padding: 0 0 0 0;\n",
              "      width: 32px;\n",
              "    }\n",
              "\n",
              "    .colab-df-convert:hover {\n",
              "      background-color: #E2EBFA;\n",
              "      box-shadow: 0px 1px 2px rgba(60, 64, 67, 0.3), 0px 1px 3px 1px rgba(60, 64, 67, 0.15);\n",
              "      fill: #174EA6;\n",
              "    }\n",
              "\n",
              "    .colab-df-buttons div {\n",
              "      margin-bottom: 4px;\n",
              "    }\n",
              "\n",
              "    [theme=dark] .colab-df-convert {\n",
              "      background-color: #3B4455;\n",
              "      fill: #D2E3FC;\n",
              "    }\n",
              "\n",
              "    [theme=dark] .colab-df-convert:hover {\n",
              "      background-color: #434B5C;\n",
              "      box-shadow: 0px 1px 3px 1px rgba(0, 0, 0, 0.15);\n",
              "      filter: drop-shadow(0px 1px 2px rgba(0, 0, 0, 0.3));\n",
              "      fill: #FFFFFF;\n",
              "    }\n",
              "  </style>\n",
              "\n",
              "    <script>\n",
              "      const buttonEl =\n",
              "        document.querySelector('#df-b7340671-ea04-4700-967e-2d6fe71af053 button.colab-df-convert');\n",
              "      buttonEl.style.display =\n",
              "        google.colab.kernel.accessAllowed ? 'block' : 'none';\n",
              "\n",
              "      async function convertToInteractive(key) {\n",
              "        const element = document.querySelector('#df-b7340671-ea04-4700-967e-2d6fe71af053');\n",
              "        const dataTable =\n",
              "          await google.colab.kernel.invokeFunction('convertToInteractive',\n",
              "                                                    [key], {});\n",
              "        if (!dataTable) return;\n",
              "\n",
              "        const docLinkHtml = 'Like what you see? Visit the ' +\n",
              "          '<a target=\"_blank\" href=https://colab.research.google.com/notebooks/data_table.ipynb>data table notebook</a>'\n",
              "          + ' to learn more about interactive tables.';\n",
              "        element.innerHTML = '';\n",
              "        dataTable['output_type'] = 'display_data';\n",
              "        await google.colab.output.renderOutput(dataTable, element);\n",
              "        const docLink = document.createElement('div');\n",
              "        docLink.innerHTML = docLinkHtml;\n",
              "        element.appendChild(docLink);\n",
              "      }\n",
              "    </script>\n",
              "  </div>\n",
              "\n",
              "\n",
              "    <div id=\"df-e64c5c99-cf01-4943-8643-c5329dfc0f54\">\n",
              "      <button class=\"colab-df-quickchart\" onclick=\"quickchart('df-e64c5c99-cf01-4943-8643-c5329dfc0f54')\"\n",
              "                title=\"Suggest charts\"\n",
              "                style=\"display:none;\">\n",
              "\n",
              "<svg xmlns=\"http://www.w3.org/2000/svg\" height=\"24px\"viewBox=\"0 0 24 24\"\n",
              "     width=\"24px\">\n",
              "    <g>\n",
              "        <path d=\"M19 3H5c-1.1 0-2 .9-2 2v14c0 1.1.9 2 2 2h14c1.1 0 2-.9 2-2V5c0-1.1-.9-2-2-2zM9 17H7v-7h2v7zm4 0h-2V7h2v10zm4 0h-2v-4h2v4z\"/>\n",
              "    </g>\n",
              "</svg>\n",
              "      </button>\n",
              "\n",
              "<style>\n",
              "  .colab-df-quickchart {\n",
              "      --bg-color: #E8F0FE;\n",
              "      --fill-color: #1967D2;\n",
              "      --hover-bg-color: #E2EBFA;\n",
              "      --hover-fill-color: #174EA6;\n",
              "      --disabled-fill-color: #AAA;\n",
              "      --disabled-bg-color: #DDD;\n",
              "  }\n",
              "\n",
              "  [theme=dark] .colab-df-quickchart {\n",
              "      --bg-color: #3B4455;\n",
              "      --fill-color: #D2E3FC;\n",
              "      --hover-bg-color: #434B5C;\n",
              "      --hover-fill-color: #FFFFFF;\n",
              "      --disabled-bg-color: #3B4455;\n",
              "      --disabled-fill-color: #666;\n",
              "  }\n",
              "\n",
              "  .colab-df-quickchart {\n",
              "    background-color: var(--bg-color);\n",
              "    border: none;\n",
              "    border-radius: 50%;\n",
              "    cursor: pointer;\n",
              "    display: none;\n",
              "    fill: var(--fill-color);\n",
              "    height: 32px;\n",
              "    padding: 0;\n",
              "    width: 32px;\n",
              "  }\n",
              "\n",
              "  .colab-df-quickchart:hover {\n",
              "    background-color: var(--hover-bg-color);\n",
              "    box-shadow: 0 1px 2px rgba(60, 64, 67, 0.3), 0 1px 3px 1px rgba(60, 64, 67, 0.15);\n",
              "    fill: var(--button-hover-fill-color);\n",
              "  }\n",
              "\n",
              "  .colab-df-quickchart-complete:disabled,\n",
              "  .colab-df-quickchart-complete:disabled:hover {\n",
              "    background-color: var(--disabled-bg-color);\n",
              "    fill: var(--disabled-fill-color);\n",
              "    box-shadow: none;\n",
              "  }\n",
              "\n",
              "  .colab-df-spinner {\n",
              "    border: 2px solid var(--fill-color);\n",
              "    border-color: transparent;\n",
              "    border-bottom-color: var(--fill-color);\n",
              "    animation:\n",
              "      spin 1s steps(1) infinite;\n",
              "  }\n",
              "\n",
              "  @keyframes spin {\n",
              "    0% {\n",
              "      border-color: transparent;\n",
              "      border-bottom-color: var(--fill-color);\n",
              "      border-left-color: var(--fill-color);\n",
              "    }\n",
              "    20% {\n",
              "      border-color: transparent;\n",
              "      border-left-color: var(--fill-color);\n",
              "      border-top-color: var(--fill-color);\n",
              "    }\n",
              "    30% {\n",
              "      border-color: transparent;\n",
              "      border-left-color: var(--fill-color);\n",
              "      border-top-color: var(--fill-color);\n",
              "      border-right-color: var(--fill-color);\n",
              "    }\n",
              "    40% {\n",
              "      border-color: transparent;\n",
              "      border-right-color: var(--fill-color);\n",
              "      border-top-color: var(--fill-color);\n",
              "    }\n",
              "    60% {\n",
              "      border-color: transparent;\n",
              "      border-right-color: var(--fill-color);\n",
              "    }\n",
              "    80% {\n",
              "      border-color: transparent;\n",
              "      border-right-color: var(--fill-color);\n",
              "      border-bottom-color: var(--fill-color);\n",
              "    }\n",
              "    90% {\n",
              "      border-color: transparent;\n",
              "      border-bottom-color: var(--fill-color);\n",
              "    }\n",
              "  }\n",
              "</style>\n",
              "\n",
              "      <script>\n",
              "        async function quickchart(key) {\n",
              "          const quickchartButtonEl =\n",
              "            document.querySelector('#' + key + ' button');\n",
              "          quickchartButtonEl.disabled = true;  // To prevent multiple clicks.\n",
              "          quickchartButtonEl.classList.add('colab-df-spinner');\n",
              "          try {\n",
              "            const charts = await google.colab.kernel.invokeFunction(\n",
              "                'suggestCharts', [key], {});\n",
              "          } catch (error) {\n",
              "            console.error('Error during call to suggestCharts:', error);\n",
              "          }\n",
              "          quickchartButtonEl.classList.remove('colab-df-spinner');\n",
              "          quickchartButtonEl.classList.add('colab-df-quickchart-complete');\n",
              "        }\n",
              "        (() => {\n",
              "          let quickchartButtonEl =\n",
              "            document.querySelector('#df-e64c5c99-cf01-4943-8643-c5329dfc0f54 button');\n",
              "          quickchartButtonEl.style.display =\n",
              "            google.colab.kernel.accessAllowed ? 'block' : 'none';\n",
              "        })();\n",
              "      </script>\n",
              "    </div>\n",
              "\n",
              "  <div id=\"id_190ddcfd-d454-4623-936f-87e6ec3507ee\">\n",
              "    <style>\n",
              "      .colab-df-generate {\n",
              "        background-color: #E8F0FE;\n",
              "        border: none;\n",
              "        border-radius: 50%;\n",
              "        cursor: pointer;\n",
              "        display: none;\n",
              "        fill: #1967D2;\n",
              "        height: 32px;\n",
              "        padding: 0 0 0 0;\n",
              "        width: 32px;\n",
              "      }\n",
              "\n",
              "      .colab-df-generate:hover {\n",
              "        background-color: #E2EBFA;\n",
              "        box-shadow: 0px 1px 2px rgba(60, 64, 67, 0.3), 0px 1px 3px 1px rgba(60, 64, 67, 0.15);\n",
              "        fill: #174EA6;\n",
              "      }\n",
              "\n",
              "      [theme=dark] .colab-df-generate {\n",
              "        background-color: #3B4455;\n",
              "        fill: #D2E3FC;\n",
              "      }\n",
              "\n",
              "      [theme=dark] .colab-df-generate:hover {\n",
              "        background-color: #434B5C;\n",
              "        box-shadow: 0px 1px 3px 1px rgba(0, 0, 0, 0.15);\n",
              "        filter: drop-shadow(0px 1px 2px rgba(0, 0, 0, 0.3));\n",
              "        fill: #FFFFFF;\n",
              "      }\n",
              "    </style>\n",
              "    <button class=\"colab-df-generate\" onclick=\"generateWithVariable('tabla')\"\n",
              "            title=\"Generate code using this dataframe.\"\n",
              "            style=\"display:none;\">\n",
              "\n",
              "  <svg xmlns=\"http://www.w3.org/2000/svg\" height=\"24px\"viewBox=\"0 0 24 24\"\n",
              "       width=\"24px\">\n",
              "    <path d=\"M7,19H8.4L18.45,9,17,7.55,7,17.6ZM5,21V16.75L18.45,3.32a2,2,0,0,1,2.83,0l1.4,1.43a1.91,1.91,0,0,1,.58,1.4,1.91,1.91,0,0,1-.58,1.4L9.25,21ZM18.45,9,17,7.55Zm-12,3A5.31,5.31,0,0,0,4.9,8.1,5.31,5.31,0,0,0,1,6.5,5.31,5.31,0,0,0,4.9,4.9,5.31,5.31,0,0,0,6.5,1,5.31,5.31,0,0,0,8.1,4.9,5.31,5.31,0,0,0,12,6.5,5.46,5.46,0,0,0,6.5,12Z\"/>\n",
              "  </svg>\n",
              "    </button>\n",
              "    <script>\n",
              "      (() => {\n",
              "      const buttonEl =\n",
              "        document.querySelector('#id_190ddcfd-d454-4623-936f-87e6ec3507ee button.colab-df-generate');\n",
              "      buttonEl.style.display =\n",
              "        google.colab.kernel.accessAllowed ? 'block' : 'none';\n",
              "\n",
              "      buttonEl.onclick = () => {\n",
              "        google.colab.notebook.generateWithVariable('tabla');\n",
              "      }\n",
              "      })();\n",
              "    </script>\n",
              "  </div>\n",
              "\n",
              "    </div>\n",
              "  </div>\n"
            ],
            "application/vnd.google.colaboratory.intrinsic+json": {
              "type": "dataframe",
              "variable_name": "tabla",
              "summary": "{\n  \"name\": \"tabla\",\n  \"rows\": 5,\n  \"fields\": [\n    {\n      \"column\": \"funcion\",\n      \"properties\": {\n        \"dtype\": \"string\",\n        \"num_unique_values\": 5,\n        \"samples\": [\n          \"f4\",\n          \"f7\",\n          \"f5\"\n        ],\n        \"semantic_type\": \"\",\n        \"description\": \"\"\n      }\n    },\n    {\n      \"column\": \"profundidad\",\n      \"properties\": {\n        \"dtype\": \"number\",\n        \"std\": 0,\n        \"min\": 16,\n        \"max\": 16,\n        \"num_unique_values\": 1,\n        \"samples\": [\n          16\n        ],\n        \"semantic_type\": \"\",\n        \"description\": \"\"\n      }\n    },\n    {\n      \"column\": \"% de ceros\",\n      \"properties\": {\n        \"dtype\": \"number\",\n        \"std\": 2.578407040976564,\n        \"min\": 0.9765625,\n        \"max\": 6.884765625,\n        \"num_unique_values\": 5,\n        \"samples\": [\n          1.3671875\n        ],\n        \"semantic_type\": \"\",\n        \"description\": \"\"\n      }\n    },\n    {\n      \"column\": \"segundos de ejecucion\",\n      \"properties\": {\n        \"dtype\": \"number\",\n        \"std\": 0.47531342797674037,\n        \"min\": 1.950205,\n        \"max\": 3.078833,\n        \"num_unique_values\": 5,\n        \"samples\": [\n          2.058461\n        ],\n        \"semantic_type\": \"\",\n        \"description\": \"\"\n      }\n    }\n  ]\n}"
            }
          },
          "metadata": {},
          "execution_count": 10
        }
      ]
    },
    {
      "cell_type": "code",
      "source": [
        "import pandas as pd\n",
        "import matplotlib.pyplot as plt\n",
        "\n",
        "fig, ax = plt.subplots(figsize=(8, 4))\n",
        "\n",
        "# ejes ocultos\n",
        "ax.axis('off')\n",
        "ax.axis('tight')\n",
        "\n",
        "# Crea tabla\n",
        "table = ax.table(cellText=tabla.round(2).values,\n",
        "                 colLabels=tabla.columns,\n",
        "                 rowLabels=tabla.index,\n",
        "                 cellLoc='center',\n",
        "                 loc='center')\n",
        "\n",
        "table.auto_set_font_size(False)\n",
        "table.set_fontsize(10)\n",
        "table.scale(1, 1.5)\n",
        "\n",
        "plt.tight_layout()"
      ],
      "metadata": {
        "colab": {
          "base_uri": "https://localhost:8080/",
          "height": 407
        },
        "id": "47ennZ38fpze",
        "outputId": "ce402a26-69d9-4351-c003-4413d4ba4e0c"
      },
      "execution_count": null,
      "outputs": [
        {
          "output_type": "display_data",
          "data": {
            "text/plain": [
              "<Figure size 800x400 with 1 Axes>"
            ],
            "image/png": "[encoded data removed]"
          },
          "metadata": {}
        }
      ]
    },
    {
      "cell_type": "code",
      "source": [
        "from qiskit_ibm_runtime import SamplerV2 as Sampler\n",
        "sampler = Sampler(mode=backend)\n",
        "job = sampler.run([isa_circuitf3,isa_circuitf4,isa_circuitf5,isa_circuitf6,isa_circuitf7]) #Probamos a hacer el sampler de todos los circuitos a la vez.\n",
        "                                                                                           #Hay que cambiar algo el código y se puede, pero no vamos a poder medir el tiempo de ejecución de cada circuito\n",
        "result = job.result()\n",
        "\n",
        "\n",
        "print(f\">>> Job ID: {job.job_id()}\")"
      ],
      "metadata": {
        "colab": {
          "base_uri": "https://localhost:8080/"
        },
        "id": "wsGnFjfa6qiH",
        "outputId": "09c662cf-c96e-4723-9942-42a91ea0a5e5"
      },
      "execution_count": null,
      "outputs": [
        {
          "output_type": "stream",
          "name": "stdout",
          "text": [
            ">>> Job ID: d13ibe9gmdms73cfr45g\n"
          ]
        }
      ]
    },
    {
      "cell_type": "code",
      "source": [
        "result[0].data.c.get_counts()\n"
      ],
      "metadata": {
        "colab": {
          "base_uri": "https://localhost:8080/"
        },
        "id": "h9CPFCo17d3_",
        "outputId": "e636c629-e6ec-46a2-cd34-bc87421dfbce"
      },
      "execution_count": null,
      "outputs": [
        {
          "output_type": "execute_result",
          "data": {
            "text/plain": [
              "{'111': 3815,\n",
              " '101': 79,\n",
              " '110': 50,\n",
              " '011': 90,\n",
              " '001': 28,\n",
              " '000': 24,\n",
              " '100': 6,\n",
              " '010': 4}"
            ]
          },
          "metadata": {},
          "execution_count": 27
        }
      ]
    },
    {
      "cell_type": "code",
      "source": [
        "result[1].data.c.get_counts()"
      ],
      "metadata": {
        "colab": {
          "base_uri": "https://localhost:8080/"
        },
        "id": "Rk0QgeMf8teQ",
        "outputId": "46776ca6-be04-41b6-e7b6-939cbf303d1e"
      },
      "execution_count": null,
      "outputs": [
        {
          "output_type": "execute_result",
          "data": {
            "text/plain": [
              "{'0111': 3848,\n",
              " '0011': 43,\n",
              " '1111': 29,\n",
              " '0101': 37,\n",
              " '0110': 64,\n",
              " '0000': 43,\n",
              " '0100': 8,\n",
              " '0001': 22,\n",
              " '0010': 2}"
            ]
          },
          "metadata": {},
          "execution_count": 26
        }
      ]
    },
    {
      "cell_type": "code",
      "source": [
        "result[2].data.c.get_counts()"
      ],
      "metadata": {
        "colab": {
          "base_uri": "https://localhost:8080/"
        },
        "id": "s4zkQt7W9BsS",
        "outputId": "fed6657e-149d-465a-ea1e-01ef868e1072"
      },
      "execution_count": null,
      "outputs": [
        {
          "output_type": "execute_result",
          "data": {
            "text/plain": [
              "{'00111': 3760,\n",
              " '00100': 8,\n",
              " '00110': 82,\n",
              " '00011': 39,\n",
              " '00101': 64,\n",
              " '01111': 21,\n",
              " '00000': 62,\n",
              " '10111': 36,\n",
              " '00001': 15,\n",
              " '01100': 1,\n",
              " '00010': 7,\n",
              " '10000': 1}"
            ]
          },
          "metadata": {},
          "execution_count": 28
        }
      ]
    },
    {
      "cell_type": "code",
      "source": [
        "circ_IdS=[(isa_circuitf3,0,\"f3\"),(isa_circuitf4,1,\"f4\"),(isa_circuitf5,2,\"f5\"),(isa_circuitf6,3,\"f6\"),(isa_circuitf7,4,\"f7\")]"
      ],
      "metadata": {
        "id": "1xX8mXoK_zA2"
      },
      "execution_count": null,
      "outputs": []
    },
    {
      "cell_type": "code",
      "source": [
        "import pandas as pd\n",
        "propiedades=[]\n",
        "id=\"d13ibe9gmdms73cfr45g\"\n",
        "job=service.job(id)\n",
        "result = job.result()\n",
        "for i in circ_IdS:\n",
        "  profundidad=i[0].depth()\n",
        "  operaciones=i[0].count_ops()\n",
        "\n",
        "  cero=len(list(result[i[1]].data.c.get_counts().keys())[0])*'0'\n",
        "  tasa_ceros=result[i[1]].data.c.get_counts()[cero]*100/4096\n",
        "  spans = job.result().metadata[\"execution\"][\"execution_spans\"]\n",
        "  segundos_ejecucion= spans.duration\n",
        "  propiedades.append({\"funcion\":i[2],\"profundidad\":profundidad,\"% de ceros\":tasa_ceros,\"segundos de ejecucion\":segundos_ejecucion})"
      ],
      "metadata": {
        "id": "v9-_DYGt9_QI"
      },
      "execution_count": null,
      "outputs": []
    },
    {
      "cell_type": "code",
      "source": [
        "tabla=pd.DataFrame(propiedades)\n",
        "tabla.set_index(\"funcion\", inplace=True)\n",
        "tabla"
      ],
      "metadata": {
        "colab": {
          "base_uri": "https://localhost:8080/",
          "height": 237
        },
        "id": "ZxnXY1dE_yNx",
        "outputId": "fb2ada9f-6a81-4f7e-b99c-96e49477dd06"
      },
      "execution_count": null,
      "outputs": [
        {
          "output_type": "execute_result",
          "data": {
            "text/plain": [
              "         profundidad  % de ceros  segundos de ejecucion\n",
              "funcion                                                \n",
              "f3                16    0.585938               6.205733\n",
              "f4                16    1.049805               6.205733\n",
              "f5                16    1.513672               6.205733\n",
              "f6                16    1.074219               6.205733\n",
              "f7                16    4.150391               6.205733"
            ],
            "text/html": [
              "\n",
              "  <div id=\"df-46845f45-ea87-4ee0-a4a1-d210f62a0399\" class=\"colab-df-container\">\n",
              "    <div>\n",
              "<style scoped>\n",
              "    .dataframe tbody tr th:only-of-type {\n",
              "        vertical-align: middle;\n",
              "    }\n",
              "\n",
              "    .dataframe tbody tr th {\n",
              "        vertical-align: top;\n",
              "    }\n",
              "\n",
              "    .dataframe thead th {\n",
              "        text-align: right;\n",
              "    }\n",
              "</style>\n",
              "<table border=\"1\" class=\"dataframe\">\n",
              "  <thead>\n",
              "    <tr style=\"text-align: right;\">\n",
              "      <th></th>\n",
              "      <th>profundidad</th>\n",
              "      <th>% de ceros</th>\n",
              "      <th>segundos de ejecucion</th>\n",
              "    </tr>\n",
              "    <tr>\n",
              "      <th>funcion</th>\n",
              "      <th></th>\n",
              "      <th></th>\n",
              "      <th></th>\n",
              "    </tr>\n",
              "  </thead>\n",
              "  <tbody>\n",
              "    <tr>\n",
              "      <th>f3</th>\n",
              "      <td>16</td>\n",
              "      <td>0.585938</td>\n",
              "      <td>6.205733</td>\n",
              "    </tr>\n",
              "    <tr>\n",
              "      <th>f4</th>\n",
              "      <td>16</td>\n",
              "      <td>1.049805</td>\n",
              "      <td>6.205733</td>\n",
              "    </tr>\n",
              "    <tr>\n",
              "      <th>f5</th>\n",
              "      <td>16</td>\n",
              "      <td>1.513672</td>\n",
              "      <td>6.205733</td>\n",
              "    </tr>\n",
              "    <tr>\n",
              "      <th>f6</th>\n",
              "      <td>16</td>\n",
              "      <td>1.074219</td>\n",
              "      <td>6.205733</td>\n",
              "    </tr>\n",
              "    <tr>\n",
              "      <th>f7</th>\n",
              "      <td>16</td>\n",
              "      <td>4.150391</td>\n",
              "      <td>6.205733</td>\n",
              "    </tr>\n",
              "  </tbody>\n",
              "</table>\n",
              "</div>\n",
              "    <div class=\"colab-df-buttons\">\n",
              "\n",
              "  <div class=\"colab-df-container\">\n",
              "    <button class=\"colab-df-convert\" onclick=\"convertToInteractive('df-46845f45-ea87-4ee0-a4a1-d210f62a0399')\"\n",
              "            title=\"Convert this dataframe to an interactive table.\"\n",
              "            style=\"display:none;\">\n",
              "\n",
              "  <svg xmlns=\"http://www.w3.org/2000/svg\" height=\"24px\" viewBox=\"0 -960 960 960\">\n",
              "    <path d=\"M120-120v-720h720v720H120Zm60-500h600v-160H180v160Zm220 220h160v-160H400v160Zm0 220h160v-160H400v160ZM180-400h160v-160H180v160Zm440 0h160v-160H620v160ZM180-180h160v-160H180v160Zm440 0h160v-160H620v160Z\"/>\n",
              "  </svg>\n",
              "    </button>\n",
              "\n",
              "  <style>\n",
              "    .colab-df-container {\n",
              "      display:flex;\n",
              "      gap: 12px;\n",
              "    }\n",
              "\n",
              "    .colab-df-convert {\n",
              "      background-color: #E8F0FE;\n",
              "      border: none;\n",
              "      border-radius: 50%;\n",
              "      cursor: pointer;\n",
              "      display: none;\n",
              "      fill: #1967D2;\n",
              "      height: 32px;\n",
              "      padding: 0 0 0 0;\n",
              "      width: 32px;\n",
              "    }\n",
              "\n",
              "    .colab-df-convert:hover {\n",
              "      background-color: #E2EBFA;\n",
              "      box-shadow: 0px 1px 2px rgba(60, 64, 67, 0.3), 0px 1px 3px 1px rgba(60, 64, 67, 0.15);\n",
              "      fill: #174EA6;\n",
              "    }\n",
              "\n",
              "    .colab-df-buttons div {\n",
              "      margin-bottom: 4px;\n",
              "    }\n",
              "\n",
              "    [theme=dark] .colab-df-convert {\n",
              "      background-color: #3B4455;\n",
              "      fill: #D2E3FC;\n",
              "    }\n",
              "\n",
              "    [theme=dark] .colab-df-convert:hover {\n",
              "      background-color: #434B5C;\n",
              "      box-shadow: 0px 1px 3px 1px rgba(0, 0, 0, 0.15);\n",
              "      filter: drop-shadow(0px 1px 2px rgba(0, 0, 0, 0.3));\n",
              "      fill: #FFFFFF;\n",
              "    }\n",
              "  </style>\n",
              "\n",
              "    <script>\n",
              "      const buttonEl =\n",
              "        document.querySelector('#df-46845f45-ea87-4ee0-a4a1-d210f62a0399 button.colab-df-convert');\n",
              "      buttonEl.style.display =\n",
              "        google.colab.kernel.accessAllowed ? 'block' : 'none';\n",
              "\n",
              "      async function convertToInteractive(key) {\n",
              "        const element = document.querySelector('#df-46845f45-ea87-4ee0-a4a1-d210f62a0399');\n",
              "        const dataTable =\n",
              "          await google.colab.kernel.invokeFunction('convertToInteractive',\n",
              "                                                    [key], {});\n",
              "        if (!dataTable) return;\n",
              "\n",
              "        const docLinkHtml = 'Like what you see? Visit the ' +\n",
              "          '<a target=\"_blank\" href=https://colab.research.google.com/notebooks/data_table.ipynb>data table notebook</a>'\n",
              "          + ' to learn more about interactive tables.';\n",
              "        element.innerHTML = '';\n",
              "        dataTable['output_type'] = 'display_data';\n",
              "        await google.colab.output.renderOutput(dataTable, element);\n",
              "        const docLink = document.createElement('div');\n",
              "        docLink.innerHTML = docLinkHtml;\n",
              "        element.appendChild(docLink);\n",
              "      }\n",
              "    </script>\n",
              "  </div>\n",
              "\n",
              "\n",
              "    <div id=\"df-33260908-f01c-4cfc-94c0-51104bb4756e\">\n",
              "      <button class=\"colab-df-quickchart\" onclick=\"quickchart('df-33260908-f01c-4cfc-94c0-51104bb4756e')\"\n",
              "                title=\"Suggest charts\"\n",
              "                style=\"display:none;\">\n",
              "\n",
              "<svg xmlns=\"http://www.w3.org/2000/svg\" height=\"24px\"viewBox=\"0 0 24 24\"\n",
              "     width=\"24px\">\n",
              "    <g>\n",
              "        <path d=\"M19 3H5c-1.1 0-2 .9-2 2v14c0 1.1.9 2 2 2h14c1.1 0 2-.9 2-2V5c0-1.1-.9-2-2-2zM9 17H7v-7h2v7zm4 0h-2V7h2v10zm4 0h-2v-4h2v4z\"/>\n",
              "    </g>\n",
              "</svg>\n",
              "      </button>\n",
              "\n",
              "<style>\n",
              "  .colab-df-quickchart {\n",
              "      --bg-color: #E8F0FE;\n",
              "      --fill-color: #1967D2;\n",
              "      --hover-bg-color: #E2EBFA;\n",
              "      --hover-fill-color: #174EA6;\n",
              "      --disabled-fill-color: #AAA;\n",
              "      --disabled-bg-color: #DDD;\n",
              "  }\n",
              "\n",
              "  [theme=dark] .colab-df-quickchart {\n",
              "      --bg-color: #3B4455;\n",
              "      --fill-color: #D2E3FC;\n",
              "      --hover-bg-color: #434B5C;\n",
              "      --hover-fill-color: #FFFFFF;\n",
              "      --disabled-bg-color: #3B4455;\n",
              "      --disabled-fill-color: #666;\n",
              "  }\n",
              "\n",
              "  .colab-df-quickchart {\n",
              "    background-color: var(--bg-color);\n",
              "    border: none;\n",
              "    border-radius: 50%;\n",
              "    cursor: pointer;\n",
              "    display: none;\n",
              "    fill: var(--fill-color);\n",
              "    height: 32px;\n",
              "    padding: 0;\n",
              "    width: 32px;\n",
              "  }\n",
              "\n",
              "  .colab-df-quickchart:hover {\n",
              "    background-color: var(--hover-bg-color);\n",
              "    box-shadow: 0 1px 2px rgba(60, 64, 67, 0.3), 0 1px 3px 1px rgba(60, 64, 67, 0.15);\n",
              "    fill: var(--button-hover-fill-color);\n",
              "  }\n",
              "\n",
              "  .colab-df-quickchart-complete:disabled,\n",
              "  .colab-df-quickchart-complete:disabled:hover {\n",
              "    background-color: var(--disabled-bg-color);\n",
              "    fill: var(--disabled-fill-color);\n",
              "    box-shadow: none;\n",
              "  }\n",
              "\n",
              "  .colab-df-spinner {\n",
              "    border: 2px solid var(--fill-color);\n",
              "    border-color: transparent;\n",
              "    border-bottom-color: var(--fill-color);\n",
              "    animation:\n",
              "      spin 1s steps(1) infinite;\n",
              "  }\n",
              "\n",
              "  @keyframes spin {\n",
              "    0% {\n",
              "      border-color: transparent;\n",
              "      border-bottom-color: var(--fill-color);\n",
              "      border-left-color: var(--fill-color);\n",
              "    }\n",
              "    20% {\n",
              "      border-color: transparent;\n",
              "      border-left-color: var(--fill-color);\n",
              "      border-top-color: var(--fill-color);\n",
              "    }\n",
              "    30% {\n",
              "      border-color: transparent;\n",
              "      border-left-color: var(--fill-color);\n",
              "      border-top-color: var(--fill-color);\n",
              "      border-right-color: var(--fill-color);\n",
              "    }\n",
              "    40% {\n",
              "      border-color: transparent;\n",
              "      border-right-color: var(--fill-color);\n",
              "      border-top-color: var(--fill-color);\n",
              "    }\n",
              "    60% {\n",
              "      border-color: transparent;\n",
              "      border-right-color: var(--fill-color);\n",
              "    }\n",
              "    80% {\n",
              "      border-color: transparent;\n",
              "      border-right-color: var(--fill-color);\n",
              "      border-bottom-color: var(--fill-color);\n",
              "    }\n",
              "    90% {\n",
              "      border-color: transparent;\n",
              "      border-bottom-color: var(--fill-color);\n",
              "    }\n",
              "  }\n",
              "</style>\n",
              "\n",
              "      <script>\n",
              "        async function quickchart(key) {\n",
              "          const quickchartButtonEl =\n",
              "            document.querySelector('#' + key + ' button');\n",
              "          quickchartButtonEl.disabled = true;  // To prevent multiple clicks.\n",
              "          quickchartButtonEl.classList.add('colab-df-spinner');\n",
              "          try {\n",
              "            const charts = await google.colab.kernel.invokeFunction(\n",
              "                'suggestCharts', [key], {});\n",
              "          } catch (error) {\n",
              "            console.error('Error during call to suggestCharts:', error);\n",
              "          }\n",
              "          quickchartButtonEl.classList.remove('colab-df-spinner');\n",
              "          quickchartButtonEl.classList.add('colab-df-quickchart-complete');\n",
              "        }\n",
              "        (() => {\n",
              "          let quickchartButtonEl =\n",
              "            document.querySelector('#df-33260908-f01c-4cfc-94c0-51104bb4756e button');\n",
              "          quickchartButtonEl.style.display =\n",
              "            google.colab.kernel.accessAllowed ? 'block' : 'none';\n",
              "        })();\n",
              "      </script>\n",
              "    </div>\n",
              "\n",
              "  <div id=\"id_39e49a0a-dd8e-4549-9ccf-4d52e4016646\">\n",
              "    <style>\n",
              "      .colab-df-generate {\n",
              "        background-color: #E8F0FE;\n",
              "        border: none;\n",
              "        border-radius: 50%;\n",
              "        cursor: pointer;\n",
              "        display: none;\n",
              "        fill: #1967D2;\n",
              "        height: 32px;\n",
              "        padding: 0 0 0 0;\n",
              "        width: 32px;\n",
              "      }\n",
              "\n",
              "      .colab-df-generate:hover {\n",
              "        background-color: #E2EBFA;\n",
              "        box-shadow: 0px 1px 2px rgba(60, 64, 67, 0.3), 0px 1px 3px 1px rgba(60, 64, 67, 0.15);\n",
              "        fill: #174EA6;\n",
              "      }\n",
              "\n",
              "      [theme=dark] .colab-df-generate {\n",
              "        background-color: #3B4455;\n",
              "        fill: #D2E3FC;\n",
              "      }\n",
              "\n",
              "      [theme=dark] .colab-df-generate:hover {\n",
              "        background-color: #434B5C;\n",
              "        box-shadow: 0px 1px 3px 1px rgba(0, 0, 0, 0.15);\n",
              "        filter: drop-shadow(0px 1px 2px rgba(0, 0, 0, 0.3));\n",
              "        fill: #FFFFFF;\n",
              "      }\n",
              "    </style>\n",
              "    <button class=\"colab-df-generate\" onclick=\"generateWithVariable('tabla')\"\n",
              "            title=\"Generate code using this dataframe.\"\n",
              "            style=\"display:none;\">\n",
              "\n",
              "  <svg xmlns=\"http://www.w3.org/2000/svg\" height=\"24px\"viewBox=\"0 0 24 24\"\n",
              "       width=\"24px\">\n",
              "    <path d=\"M7,19H8.4L18.45,9,17,7.55,7,17.6ZM5,21V16.75L18.45,3.32a2,2,0,0,1,2.83,0l1.4,1.43a1.91,1.91,0,0,1,.58,1.4,1.91,1.91,0,0,1-.58,1.4L9.25,21ZM18.45,9,17,7.55Zm-12,3A5.31,5.31,0,0,0,4.9,8.1,5.31,5.31,0,0,0,1,6.5,5.31,5.31,0,0,0,4.9,4.9,5.31,5.31,0,0,0,6.5,1,5.31,5.31,0,0,0,8.1,4.9,5.31,5.31,0,0,0,12,6.5,5.46,5.46,0,0,0,6.5,12Z\"/>\n",
              "  </svg>\n",
              "    </button>\n",
              "    <script>\n",
              "      (() => {\n",
              "      const buttonEl =\n",
              "        document.querySelector('#id_39e49a0a-dd8e-4549-9ccf-4d52e4016646 button.colab-df-generate');\n",
              "      buttonEl.style.display =\n",
              "        google.colab.kernel.accessAllowed ? 'block' : 'none';\n",
              "\n",
              "      buttonEl.onclick = () => {\n",
              "        google.colab.notebook.generateWithVariable('tabla');\n",
              "      }\n",
              "      })();\n",
              "    </script>\n",
              "  </div>\n",
              "\n",
              "    </div>\n",
              "  </div>\n"
            ],
            "application/vnd.google.colaboratory.intrinsic+json": {
              "type": "dataframe",
              "variable_name": "tabla",
              "summary": "{\n  \"name\": \"tabla\",\n  \"rows\": 5,\n  \"fields\": [\n    {\n      \"column\": \"funcion\",\n      \"properties\": {\n        \"dtype\": \"string\",\n        \"num_unique_values\": 5,\n        \"samples\": [\n          \"f4\",\n          \"f7\",\n          \"f5\"\n        ],\n        \"semantic_type\": \"\",\n        \"description\": \"\"\n      }\n    },\n    {\n      \"column\": \"profundidad\",\n      \"properties\": {\n        \"dtype\": \"number\",\n        \"std\": 0,\n        \"min\": 16,\n        \"max\": 16,\n        \"num_unique_values\": 1,\n        \"samples\": [\n          16\n        ],\n        \"semantic_type\": \"\",\n        \"description\": \"\"\n      }\n    },\n    {\n      \"column\": \"% de ceros\",\n      \"properties\": {\n        \"dtype\": \"number\",\n        \"std\": 1.4222736847692876,\n        \"min\": 0.5859375,\n        \"max\": 4.150390625,\n        \"num_unique_values\": 5,\n        \"samples\": [\n          1.0498046875\n        ],\n        \"semantic_type\": \"\",\n        \"description\": \"\"\n      }\n    },\n    {\n      \"column\": \"segundos de ejecucion\",\n      \"properties\": {\n        \"dtype\": \"number\",\n        \"std\": 0.0,\n        \"min\": 6.205733,\n        \"max\": 6.205733,\n        \"num_unique_values\": 1,\n        \"samples\": [\n          6.205733\n        ],\n        \"semantic_type\": \"\",\n        \"description\": \"\"\n      }\n    }\n  ]\n}"
            }
          },
          "metadata": {},
          "execution_count": 34
        }
      ]
    }
  ]
}