{
  "cells": [
    {
      "cell_type": "markdown",
      "metadata": {
        "id": "view-in-github",
        "colab_type": "text"
      },
      "source": [
        "<a href=\"https://colab.research.google.com/github/Juan-jdq/Diseno-y-analisis-de-algoritmos-cuanticos/blob/main/TablafDistintosQubits.ipynb\" target=\"_parent\"><img src=\"https://colab.research.google.com/assets/colab-badge.svg\" alt=\"Open In Colab\"/></a>"
      ]
    },
    {
      "cell_type": "code",
      "execution_count": 1,
      "metadata": {
        "colab": {
          "base_uri": "https://localhost:8080/"
        },
        "id": "pkC27O201_ZW",
        "outputId": "d4bbd517-f8a5-43c3-82bb-1b82135659ce"
      },
      "outputs": [
        {
          "output_type": "stream",
          "name": "stdout",
          "text": [
            "Collecting qiskit\n",
            "  Downloading qiskit-2.1.0-cp39-abi3-manylinux_2_17_x86_64.manylinux2014_x86_64.whl.metadata (12 kB)\n",
            "Collecting rustworkx>=0.15.0 (from qiskit)\n",
            "  Downloading rustworkx-0.16.0-cp39-abi3-manylinux_2_17_x86_64.manylinux2014_x86_64.whl.metadata (10 kB)\n",
            "Requirement already satisfied: numpy<3,>=1.17 in /usr/local/lib/python3.11/dist-packages (from qiskit) (2.0.2)\n",
            "Requirement already satisfied: scipy>=1.5 in /usr/local/lib/python3.11/dist-packages (from qiskit) (1.15.3)\n",
            "Requirement already satisfied: dill>=0.3 in /usr/local/lib/python3.11/dist-packages (from qiskit) (0.3.7)\n",
            "Collecting stevedore>=3.0.0 (from qiskit)\n",
            "  Downloading stevedore-5.4.1-py3-none-any.whl.metadata (2.3 kB)\n",
            "Requirement already satisfied: typing-extensions in /usr/local/lib/python3.11/dist-packages (from qiskit) (4.14.0)\n",
            "Collecting pbr>=2.0.0 (from stevedore>=3.0.0->qiskit)\n",
            "  Downloading pbr-6.1.1-py2.py3-none-any.whl.metadata (3.4 kB)\n",
            "Requirement already satisfied: setuptools in /usr/local/lib/python3.11/dist-packages (from pbr>=2.0.0->stevedore>=3.0.0->qiskit) (75.2.0)\n",
            "Downloading qiskit-2.1.0-cp39-abi3-manylinux_2_17_x86_64.manylinux2014_x86_64.whl (7.5 MB)\n",
            "\u001b[2K   \u001b[90m━━━━━━━━━━━━━━━━━━━━━━━━━━━━━━━━━━━━━━━━\u001b[0m \u001b[32m7.5/7.5 MB\u001b[0m \u001b[31m68.9 MB/s\u001b[0m eta \u001b[36m0:00:00\u001b[0m\n",
            "\u001b[?25hDownloading rustworkx-0.16.0-cp39-abi3-manylinux_2_17_x86_64.manylinux2014_x86_64.whl (2.1 MB)\n",
            "\u001b[2K   \u001b[90m━━━━━━━━━━━━━━━━━━━━━━━━━━━━━━━━━━━━━━━━\u001b[0m \u001b[32m2.1/2.1 MB\u001b[0m \u001b[31m30.6 MB/s\u001b[0m eta \u001b[36m0:00:00\u001b[0m\n",
            "\u001b[?25hDownloading stevedore-5.4.1-py3-none-any.whl (49 kB)\n",
            "\u001b[2K   \u001b[90m━━━━━━━━━━━━━━━━━━━━━━━━━━━━━━━━━━━━━━━━\u001b[0m \u001b[32m49.5/49.5 kB\u001b[0m \u001b[31m3.8 MB/s\u001b[0m eta \u001b[36m0:00:00\u001b[0m\n",
            "\u001b[?25hDownloading pbr-6.1.1-py2.py3-none-any.whl (108 kB)\n",
            "\u001b[2K   \u001b[90m━━━━━━━━━━━━━━━━━━━━━━━━━━━━━━━━━━━━━━━━\u001b[0m \u001b[32m109.0/109.0 kB\u001b[0m \u001b[31m10.6 MB/s\u001b[0m eta \u001b[36m0:00:00\u001b[0m\n",
            "\u001b[?25hInstalling collected packages: rustworkx, pbr, stevedore, qiskit\n",
            "Successfully installed pbr-6.1.1 qiskit-2.1.0 rustworkx-0.16.0 stevedore-5.4.1\n",
            "Collecting qiskit_ibm_runtime\n",
            "  Downloading qiskit_ibm_runtime-0.40.1-py3-none-any.whl.metadata (21 kB)\n",
            "Requirement already satisfied: requests>=2.19 in /usr/local/lib/python3.11/dist-packages (from qiskit_ibm_runtime) (2.32.3)\n",
            "Collecting requests-ntlm>=1.1.0 (from qiskit_ibm_runtime)\n",
            "  Downloading requests_ntlm-1.3.0-py3-none-any.whl.metadata (2.4 kB)\n",
            "Requirement already satisfied: numpy>=1.13 in /usr/local/lib/python3.11/dist-packages (from qiskit_ibm_runtime) (2.0.2)\n",
            "Requirement already satisfied: urllib3>=1.21.1 in /usr/local/lib/python3.11/dist-packages (from qiskit_ibm_runtime) (2.4.0)\n",
            "Requirement already satisfied: python-dateutil>=2.8.0 in /usr/local/lib/python3.11/dist-packages (from qiskit_ibm_runtime) (2.9.0.post0)\n",
            "Collecting ibm-platform-services>=0.22.6 (from qiskit_ibm_runtime)\n",
            "  Downloading ibm_platform_services-0.66.2-py3-none-any.whl.metadata (9.0 kB)\n",
            "Requirement already satisfied: pydantic>=2.5.0 in /usr/local/lib/python3.11/dist-packages (from qiskit_ibm_runtime) (2.11.7)\n",
            "Requirement already satisfied: qiskit>=1.4.1 in /usr/local/lib/python3.11/dist-packages (from qiskit_ibm_runtime) (2.1.0)\n",
            "Requirement already satisfied: packaging in /usr/local/lib/python3.11/dist-packages (from qiskit_ibm_runtime) (24.2)\n",
            "Collecting ibm_cloud_sdk_core<4.0.0,>=3.24.2 (from ibm-platform-services>=0.22.6->qiskit_ibm_runtime)\n",
            "  Downloading ibm_cloud_sdk_core-3.24.2-py3-none-any.whl.metadata (8.7 kB)\n",
            "Requirement already satisfied: annotated-types>=0.6.0 in /usr/local/lib/python3.11/dist-packages (from pydantic>=2.5.0->qiskit_ibm_runtime) (0.7.0)\n",
            "Requirement already satisfied: pydantic-core==2.33.2 in /usr/local/lib/python3.11/dist-packages (from pydantic>=2.5.0->qiskit_ibm_runtime) (2.33.2)\n",
            "Requirement already satisfied: typing-extensions>=4.12.2 in /usr/local/lib/python3.11/dist-packages (from pydantic>=2.5.0->qiskit_ibm_runtime) (4.14.0)\n",
            "Requirement already satisfied: typing-inspection>=0.4.0 in /usr/local/lib/python3.11/dist-packages (from pydantic>=2.5.0->qiskit_ibm_runtime) (0.4.1)\n",
            "Requirement already satisfied: six>=1.5 in /usr/local/lib/python3.11/dist-packages (from python-dateutil>=2.8.0->qiskit_ibm_runtime) (1.17.0)\n",
            "Requirement already satisfied: rustworkx>=0.15.0 in /usr/local/lib/python3.11/dist-packages (from qiskit>=1.4.1->qiskit_ibm_runtime) (0.16.0)\n",
            "Requirement already satisfied: scipy>=1.5 in /usr/local/lib/python3.11/dist-packages (from qiskit>=1.4.1->qiskit_ibm_runtime) (1.15.3)\n",
            "Requirement already satisfied: dill>=0.3 in /usr/local/lib/python3.11/dist-packages (from qiskit>=1.4.1->qiskit_ibm_runtime) (0.3.7)\n",
            "Requirement already satisfied: stevedore>=3.0.0 in /usr/local/lib/python3.11/dist-packages (from qiskit>=1.4.1->qiskit_ibm_runtime) (5.4.1)\n",
            "Requirement already satisfied: charset-normalizer<4,>=2 in /usr/local/lib/python3.11/dist-packages (from requests>=2.19->qiskit_ibm_runtime) (3.4.2)\n",
            "Requirement already satisfied: idna<4,>=2.5 in /usr/local/lib/python3.11/dist-packages (from requests>=2.19->qiskit_ibm_runtime) (3.10)\n",
            "Requirement already satisfied: certifi>=2017.4.17 in /usr/local/lib/python3.11/dist-packages (from requests>=2.19->qiskit_ibm_runtime) (2025.6.15)\n",
            "Requirement already satisfied: cryptography>=1.3 in /usr/local/lib/python3.11/dist-packages (from requests-ntlm>=1.1.0->qiskit_ibm_runtime) (43.0.3)\n",
            "Collecting pyspnego>=0.4.0 (from requests-ntlm>=1.1.0->qiskit_ibm_runtime)\n",
            "  Downloading pyspnego-0.11.2-py3-none-any.whl.metadata (5.4 kB)\n",
            "Requirement already satisfied: cffi>=1.12 in /usr/local/lib/python3.11/dist-packages (from cryptography>=1.3->requests-ntlm>=1.1.0->qiskit_ibm_runtime) (1.17.1)\n",
            "Collecting requests>=2.19 (from qiskit_ibm_runtime)\n",
            "  Downloading requests-2.32.4-py3-none-any.whl.metadata (4.9 kB)\n",
            "Requirement already satisfied: PyJWT<3.0.0,>=2.10.1 in /usr/local/lib/python3.11/dist-packages (from ibm_cloud_sdk_core<4.0.0,>=3.24.2->ibm-platform-services>=0.22.6->qiskit_ibm_runtime) (2.10.1)\n",
            "Requirement already satisfied: pbr>=2.0.0 in /usr/local/lib/python3.11/dist-packages (from stevedore>=3.0.0->qiskit>=1.4.1->qiskit_ibm_runtime) (6.1.1)\n",
            "Requirement already satisfied: pycparser in /usr/local/lib/python3.11/dist-packages (from cffi>=1.12->cryptography>=1.3->requests-ntlm>=1.1.0->qiskit_ibm_runtime) (2.22)\n",
            "Requirement already satisfied: setuptools in /usr/local/lib/python3.11/dist-packages (from pbr>=2.0.0->stevedore>=3.0.0->qiskit>=1.4.1->qiskit_ibm_runtime) (75.2.0)\n",
            "Downloading qiskit_ibm_runtime-0.40.1-py3-none-any.whl (3.2 MB)\n",
            "\u001b[2K   \u001b[90m━━━━━━━━━━━━━━━━━━━━━━━━━━━━━━━━━━━━━━━━\u001b[0m \u001b[32m3.2/3.2 MB\u001b[0m \u001b[31m83.7 MB/s\u001b[0m eta \u001b[36m0:00:00\u001b[0m\n",
            "\u001b[?25hDownloading ibm_platform_services-0.66.2-py3-none-any.whl (363 kB)\n",
            "\u001b[2K   \u001b[90m━━━━━━━━━━━━━━━━━━━━━━━━━━━━━━━━━━━━━━━━\u001b[0m \u001b[32m363.9/363.9 kB\u001b[0m \u001b[31m27.9 MB/s\u001b[0m eta \u001b[36m0:00:00\u001b[0m\n",
            "\u001b[?25hDownloading requests_ntlm-1.3.0-py3-none-any.whl (6.6 kB)\n",
            "Downloading ibm_cloud_sdk_core-3.24.2-py3-none-any.whl (75 kB)\n",
            "\u001b[2K   \u001b[90m━━━━━━━━━━━━━━━━━━━━━━━━━━━━━━━━━━━━━━━━\u001b[0m \u001b[32m75.8/75.8 kB\u001b[0m \u001b[31m6.6 MB/s\u001b[0m eta \u001b[36m0:00:00\u001b[0m\n",
            "\u001b[?25hDownloading requests-2.32.4-py3-none-any.whl (64 kB)\n",
            "\u001b[2K   \u001b[90m━━━━━━━━━━━━━━━━━━━━━━━━━━━━━━━━━━━━━━━━\u001b[0m \u001b[32m64.8/64.8 kB\u001b[0m \u001b[31m5.6 MB/s\u001b[0m eta \u001b[36m0:00:00\u001b[0m\n",
            "\u001b[?25hDownloading pyspnego-0.11.2-py3-none-any.whl (130 kB)\n",
            "\u001b[2K   \u001b[90m━━━━━━━━━━━━━━━━━━━━━━━━━━━━━━━━━━━━━━━━\u001b[0m \u001b[32m130.5/130.5 kB\u001b[0m \u001b[31m11.7 MB/s\u001b[0m eta \u001b[36m0:00:00\u001b[0m\n",
            "\u001b[?25hInstalling collected packages: requests, ibm_cloud_sdk_core, pyspnego, ibm-platform-services, requests-ntlm, qiskit_ibm_runtime\n",
            "  Attempting uninstall: requests\n",
            "    Found existing installation: requests 2.32.3\n",
            "    Uninstalling requests-2.32.3:\n",
            "      Successfully uninstalled requests-2.32.3\n",
            "\u001b[31mERROR: pip's dependency resolver does not currently take into account all the packages that are installed. This behaviour is the source of the following dependency conflicts.\n",
            "google-colab 1.0.0 requires requests==2.32.3, but you have requests 2.32.4 which is incompatible.\u001b[0m\u001b[31m\n",
            "\u001b[0mSuccessfully installed ibm-platform-services-0.66.2 ibm_cloud_sdk_core-3.24.2 pyspnego-0.11.2 qiskit_ibm_runtime-0.40.1 requests-2.32.4 requests-ntlm-1.3.0\n",
            "Requirement already satisfied: qiskit[visualization] in /usr/local/lib/python3.11/dist-packages (2.1.0)\n",
            "Requirement already satisfied: rustworkx>=0.15.0 in /usr/local/lib/python3.11/dist-packages (from qiskit[visualization]) (0.16.0)\n",
            "Requirement already satisfied: numpy<3,>=1.17 in /usr/local/lib/python3.11/dist-packages (from qiskit[visualization]) (2.0.2)\n",
            "Requirement already satisfied: scipy>=1.5 in /usr/local/lib/python3.11/dist-packages (from qiskit[visualization]) (1.15.3)\n",
            "Requirement already satisfied: dill>=0.3 in /usr/local/lib/python3.11/dist-packages (from qiskit[visualization]) (0.3.7)\n",
            "Requirement already satisfied: stevedore>=3.0.0 in /usr/local/lib/python3.11/dist-packages (from qiskit[visualization]) (5.4.1)\n",
            "Requirement already satisfied: typing-extensions in /usr/local/lib/python3.11/dist-packages (from qiskit[visualization]) (4.14.0)\n",
            "Requirement already satisfied: matplotlib>=3.3 in /usr/local/lib/python3.11/dist-packages (from qiskit[visualization]) (3.10.0)\n",
            "Requirement already satisfied: pydot in /usr/local/lib/python3.11/dist-packages (from qiskit[visualization]) (3.0.4)\n",
            "Requirement already satisfied: Pillow>=4.2.1 in /usr/local/lib/python3.11/dist-packages (from qiskit[visualization]) (11.2.1)\n",
            "Collecting pylatexenc>=1.4 (from qiskit[visualization])\n",
            "  Downloading pylatexenc-2.10.tar.gz (162 kB)\n",
            "\u001b[2K     \u001b[90m━━━━━━━━━━━━━━━━━━━━━━━━━━━━━━━━━━━━━━\u001b[0m \u001b[32m162.6/162.6 kB\u001b[0m \u001b[31m10.8 MB/s\u001b[0m eta \u001b[36m0:00:00\u001b[0m\n",
            "\u001b[?25h  Preparing metadata (setup.py) ... \u001b[?25l\u001b[?25hdone\n",
            "Requirement already satisfied: seaborn>=0.9.0 in /usr/local/lib/python3.11/dist-packages (from qiskit[visualization]) (0.13.2)\n",
            "Requirement already satisfied: sympy>=1.3 in /usr/local/lib/python3.11/dist-packages (from qiskit[visualization]) (1.13.1)\n",
            "Requirement already satisfied: contourpy>=1.0.1 in /usr/local/lib/python3.11/dist-packages (from matplotlib>=3.3->qiskit[visualization]) (1.3.2)\n",
            "Requirement already satisfied: cycler>=0.10 in /usr/local/lib/python3.11/dist-packages (from matplotlib>=3.3->qiskit[visualization]) (0.12.1)\n",
            "Requirement already satisfied: fonttools>=4.22.0 in /usr/local/lib/python3.11/dist-packages (from matplotlib>=3.3->qiskit[visualization]) (4.58.4)\n",
            "Requirement already satisfied: kiwisolver>=1.3.1 in /usr/local/lib/python3.11/dist-packages (from matplotlib>=3.3->qiskit[visualization]) (1.4.8)\n",
            "Requirement already satisfied: packaging>=20.0 in /usr/local/lib/python3.11/dist-packages (from matplotlib>=3.3->qiskit[visualization]) (24.2)\n",
            "Requirement already satisfied: pyparsing>=2.3.1 in /usr/local/lib/python3.11/dist-packages (from matplotlib>=3.3->qiskit[visualization]) (3.2.3)\n",
            "Requirement already satisfied: python-dateutil>=2.7 in /usr/local/lib/python3.11/dist-packages (from matplotlib>=3.3->qiskit[visualization]) (2.9.0.post0)\n",
            "Requirement already satisfied: pandas>=1.2 in /usr/local/lib/python3.11/dist-packages (from seaborn>=0.9.0->qiskit[visualization]) (2.2.2)\n",
            "Requirement already satisfied: pbr>=2.0.0 in /usr/local/lib/python3.11/dist-packages (from stevedore>=3.0.0->qiskit[visualization]) (6.1.1)\n",
            "Requirement already satisfied: mpmath<1.4,>=1.1.0 in /usr/local/lib/python3.11/dist-packages (from sympy>=1.3->qiskit[visualization]) (1.3.0)\n",
            "Requirement already satisfied: pytz>=2020.1 in /usr/local/lib/python3.11/dist-packages (from pandas>=1.2->seaborn>=0.9.0->qiskit[visualization]) (2025.2)\n",
            "Requirement already satisfied: tzdata>=2022.7 in /usr/local/lib/python3.11/dist-packages (from pandas>=1.2->seaborn>=0.9.0->qiskit[visualization]) (2025.2)\n",
            "Requirement already satisfied: setuptools in /usr/local/lib/python3.11/dist-packages (from pbr>=2.0.0->stevedore>=3.0.0->qiskit[visualization]) (75.2.0)\n",
            "Requirement already satisfied: six>=1.5 in /usr/local/lib/python3.11/dist-packages (from python-dateutil>=2.7->matplotlib>=3.3->qiskit[visualization]) (1.17.0)\n",
            "Building wheels for collected packages: pylatexenc\n",
            "  Building wheel for pylatexenc (setup.py) ... \u001b[?25l\u001b[?25hdone\n",
            "  Created wheel for pylatexenc: filename=pylatexenc-2.10-py3-none-any.whl size=136817 sha256=a00b65a701a012cc592b79a699c5dd1cf90535c7ae30dc8616279e6a93fe9f18\n",
            "  Stored in directory: /root/.cache/pip/wheels/b1/7a/33/9fdd892f784ed4afda62b685ae3703adf4c91aa0f524c28f03\n",
            "Successfully built pylatexenc\n",
            "Installing collected packages: pylatexenc\n",
            "Successfully installed pylatexenc-2.10\n",
            "Requirement already satisfied: matplotlib in /usr/local/lib/python3.11/dist-packages (3.10.0)\n",
            "Requirement already satisfied: contourpy>=1.0.1 in /usr/local/lib/python3.11/dist-packages (from matplotlib) (1.3.2)\n",
            "Requirement already satisfied: cycler>=0.10 in /usr/local/lib/python3.11/dist-packages (from matplotlib) (0.12.1)\n",
            "Requirement already satisfied: fonttools>=4.22.0 in /usr/local/lib/python3.11/dist-packages (from matplotlib) (4.58.4)\n",
            "Requirement already satisfied: kiwisolver>=1.3.1 in /usr/local/lib/python3.11/dist-packages (from matplotlib) (1.4.8)\n",
            "Requirement already satisfied: numpy>=1.23 in /usr/local/lib/python3.11/dist-packages (from matplotlib) (2.0.2)\n",
            "Requirement already satisfied: packaging>=20.0 in /usr/local/lib/python3.11/dist-packages (from matplotlib) (24.2)\n",
            "Requirement already satisfied: pillow>=8 in /usr/local/lib/python3.11/dist-packages (from matplotlib) (11.2.1)\n",
            "Requirement already satisfied: pyparsing>=2.3.1 in /usr/local/lib/python3.11/dist-packages (from matplotlib) (3.2.3)\n",
            "Requirement already satisfied: python-dateutil>=2.7 in /usr/local/lib/python3.11/dist-packages (from matplotlib) (2.9.0.post0)\n",
            "Requirement already satisfied: six>=1.5 in /usr/local/lib/python3.11/dist-packages (from python-dateutil>=2.7->matplotlib) (1.17.0)\n"
          ]
        }
      ],
      "source": [
        "!pip install qiskit\n",
        "!pip install qiskit_ibm_runtime\n",
        "!pip install qiskit[visualization]\n",
        "!pip install matplotlib\n",
        "token = \"VDSfIdpDSZVHlMUqIoncjTa9_tiTwIGId01WYgdzqCYd\"\n",
        "from qiskit_ibm_runtime import QiskitRuntimeService\n",
        "service = QiskitRuntimeService.save_account(\n",
        "  token=token, # Your token is confidential.\n",
        "  # Do not share your key in public code.\n",
        "  instance=\"crn:v1:bluemix:public:quantum-computing:us-east:a/8ba84995f3ac449d96f4bd22cc072a2f:9239c104-257b-4620-ab6a-4f259e315c7f::\",\n",
        "  name=\"juanSanzPeralta\", # Optionally name this set of account credentials.\n",
        "  set_as_default=True, # Optionally set these as your default credentials.\n",
        ")"
      ]
    },
    {
      "cell_type": "code",
      "execution_count": 2,
      "metadata": {
        "id": "MiaJZJKi2EUA"
      },
      "outputs": [],
      "source": [
        "import qiskit\n",
        "import matplotlib.pyplot as plt\n",
        "from qiskit import QuantumCircuit\n",
        "import matplotlib\n",
        "from qiskit_ibm_runtime import QiskitRuntimeService\n",
        "from qiskit.transpiler import generate_preset_pass_manager\n",
        "from qiskit.primitives import BitArray\n",
        "service = QiskitRuntimeService()\n",
        "backend = service.least_busy(simulator=False, operational=True)\n",
        "pm = generate_preset_pass_manager(backend=backend, optimization_level=1)"
      ]
    },
    {
      "cell_type": "code",
      "execution_count": 3,
      "metadata": {
        "id": "tEaYpl3j2QgQ"
      },
      "outputs": [],
      "source": [
        "#f3(a0,a1,a2)=xor(xor(a0,a1),a2)\n",
        "# q0=a0, q1=a1, q2=a2, q3=ancilla destino\n",
        "circ_f3 = QuantumCircuit(4)\n",
        "circ_f3.cx(0, 3)\n",
        "circ_f3.cx(1, 3)\n",
        "circ_f3.cx(2, 3)\n",
        "gate_f3 = circ_f3.to_gate(label='U_f3')\n",
        "\n",
        "# --- Deutsch–Jozsa n=3 ---\n",
        "dj3 = QuantumCircuit(4, 3)\n",
        "dj3.x(3)\n",
        "dj3.h(range(4))\n",
        "dj3.barrier()\n",
        "dj3.append(gate_f3, [0,1,2,3], [])\n",
        "dj3.barrier()\n",
        "dj3.h([0,1,2])\n",
        "dj3.measure([0,1,2],[0,1,2])\n",
        "isa_circuitf3 = pm.run(dj3)"
      ]
    },
    {
      "cell_type": "code",
      "execution_count": null,
      "metadata": {
        "id": "v6PB8Tbl247u"
      },
      "outputs": [],
      "source": [
        "ejecuciones=[]"
      ]
    },
    {
      "cell_type": "code",
      "execution_count": null,
      "metadata": {
        "colab": {
          "base_uri": "https://localhost:8080/"
        },
        "id": "70_URkdp26BZ",
        "outputId": "5442f2e1-7417-45fc-d066-c0feda4fdfd4"
      },
      "outputs": [
        {
          "name": "stdout",
          "output_type": "stream",
          "text": [
            ">>> Job ID: d13i4ptfetss73eonlb0\n"
          ]
        }
      ],
      "source": [
        "from qiskit_ibm_runtime import SamplerV2 as Sampler\n",
        "sampler = Sampler(mode=backend)\n",
        "job = sampler.run([isa_circuitf3])     # aquí solo pasas el circuito\n",
        "result = job.result()\n",
        "\n",
        "# Use the job ID to retrieve your job data later\n",
        "print(f\">>> Job ID: {job.job_id()}\")"
      ]
    },
    {
      "cell_type": "code",
      "execution_count": null,
      "metadata": {
        "id": "A47J2mhS13YI"
      },
      "outputs": [],
      "source": [
        "from qiskit_ibm_runtime import SamplerV2 as Sampler\n",
        "ids=[]\n",
        "for n_implem in range(5):\n",
        "  sampler = Sampler(mode=backend)\n",
        "  job = sampler.run([isa_circuitf3])     # aquí solo pasas el circuito\n",
        "  result = job.result()\n",
        "  ids.append(job.job_id())\n",
        "  # Use the job ID to retrieve your job data later\n",
        "  print(f\">>> Job ID: {job.job_id()}\")\n",
        "ejecuciones.append((\"f3\",ids))\n",
        "print(ejecuciones)"
      ]
    },
    {
      "cell_type": "code",
      "source": [
        "ejecuciones=[('f3',['d1eic6tqbivc73eb8e90','d1elikiq8ogc73es9ed0','d1elnfi576rs73cmltgg','d1elnkugljis73cm8be0','d1elnmdqbivc73ebbi1g']),('f4',['d1f82qlqbivc73ebt8f0','d1fcpjmgljis73cmuigg','d1fcplegljis73cmuiig','d1fcpna576rs73cncnlg','d1fcpotqbivc73ec2470']),('f5', ['d1frpma576rs73cns470', 'd1frt6a576rs73cns7l0', 'd1fs95iq8ogc73etfbtg', 'd1fs9bq576rs73cnsj6g', 'd1fs9dlqbivc73echrfg']), ('f6', ['d1fsaemgljis73cne7j0', 'd1fsafugljis73cne7kg', 'd1fsah2q8ogc73etfd5g', 'd1fsaidqbivc73echsgg', 'd1fsajdqbivc73echsi0']), ('f7', ['d1fsfkugljis73cnec9g', 'd1fsfmdqbivc73eci16g', 'd1fsfnaq8ogc73etfhsg', 'd1fsfoi576rs73cnsp0g', 'd1fsfpqq8ogc73etfi00'])]"
      ],
      "metadata": {
        "id": "ArjlltmQ8mDO"
      },
      "execution_count": 4,
      "outputs": []
    },
    {
      "cell_type": "code",
      "source": [],
      "metadata": {
        "id": "6GOsrgRz7f4R"
      },
      "execution_count": 3,
      "outputs": []
    },
    {
      "cell_type": "code",
      "execution_count": 4,
      "metadata": {
        "id": "DgfllWiz3owA"
      },
      "outputs": [],
      "source": [
        "#f(a0,a1,a2,a3)=xor(xor(a0,a1),a2)\n",
        "circ_f4 = QuantumCircuit(5)\n",
        "circ_f4.cx(0, 4)\n",
        "circ_f4.cx(1, 4)\n",
        "circ_f4.cx(2, 4)\n",
        "gate_f4 = circ_f4.to_gate(label='U_f4')\n",
        "\n",
        "dj4 = QuantumCircuit(5, 4)\n",
        "dj4.x(4)\n",
        "dj4.h(range(5))\n",
        "dj4.barrier()\n",
        "dj4.append(gate_f4, [0,1,2,3,4], [])\n",
        "dj4.barrier()\n",
        "dj4.h([0,1,2,3])\n",
        "dj4.measure([0,1,2,3],[0,1,2,3])\n",
        "isa_circuitf4 = pm.run(dj4)"
      ]
    },
    {
      "cell_type": "code",
      "execution_count": null,
      "metadata": {
        "colab": {
          "base_uri": "https://localhost:8080/"
        },
        "id": "0RYvaKIp4MBh",
        "outputId": "766838b4-b61e-4327-cf5b-e489c2264b27"
      },
      "outputs": [
        {
          "name": "stdout",
          "output_type": "stream",
          "text": [
            ">>> Job ID: d13i62nanitc73cjujng\n"
          ]
        }
      ],
      "source": [
        "from qiskit_ibm_runtime import SamplerV2 as Sampler\n",
        "sampler = Sampler(mode=backend)\n",
        "job = sampler.run([isa_circuitf4])     # aquí solo pasas el circuito\n",
        "result = job.result()\n",
        "\n",
        "# Use the job ID to retrieve your job data later\n",
        "print(f\">>> Job ID: {job.job_id()}\")"
      ]
    },
    {
      "cell_type": "code",
      "execution_count": null,
      "metadata": {
        "colab": {
          "base_uri": "https://localhost:8080/",
          "height": 356
        },
        "id": "4t5JpQdj3QNv",
        "outputId": "af73982f-5158-4d7d-867a-9e05918192ac"
      },
      "outputs": [
        {
          "ename": "KeyboardInterrupt",
          "evalue": "",
          "output_type": "error",
          "traceback": [
            "\u001b[0;31m---------------------------------------------------------------------------\u001b[0m",
            "\u001b[0;31mKeyboardInterrupt\u001b[0m                         Traceback (most recent call last)",
            "\u001b[0;32m/tmp/ipython-input-10-3801793311.py\u001b[0m in \u001b[0;36m<cell line: 0>\u001b[0;34m()\u001b[0m\n\u001b[1;32m      4\u001b[0m   \u001b[0msampler\u001b[0m \u001b[0;34m=\u001b[0m \u001b[0mSampler\u001b[0m\u001b[0;34m(\u001b[0m\u001b[0mmode\u001b[0m\u001b[0;34m=\u001b[0m\u001b[0mbackend\u001b[0m\u001b[0;34m)\u001b[0m\u001b[0;34m\u001b[0m\u001b[0;34m\u001b[0m\u001b[0m\n\u001b[1;32m      5\u001b[0m   \u001b[0mjob\u001b[0m \u001b[0;34m=\u001b[0m \u001b[0msampler\u001b[0m\u001b[0;34m.\u001b[0m\u001b[0mrun\u001b[0m\u001b[0;34m(\u001b[0m\u001b[0;34m[\u001b[0m\u001b[0misa_circuitf4\u001b[0m\u001b[0;34m]\u001b[0m\u001b[0;34m)\u001b[0m     \u001b[0;31m# aquí solo pasas el circuito\u001b[0m\u001b[0;34m\u001b[0m\u001b[0;34m\u001b[0m\u001b[0m\n\u001b[0;32m----> 6\u001b[0;31m   \u001b[0mresult\u001b[0m \u001b[0;34m=\u001b[0m \u001b[0mjob\u001b[0m\u001b[0;34m.\u001b[0m\u001b[0mresult\u001b[0m\u001b[0;34m(\u001b[0m\u001b[0;34m)\u001b[0m\u001b[0;34m\u001b[0m\u001b[0;34m\u001b[0m\u001b[0m\n\u001b[0m\u001b[1;32m      7\u001b[0m   \u001b[0mids\u001b[0m\u001b[0;34m.\u001b[0m\u001b[0mappend\u001b[0m\u001b[0;34m(\u001b[0m\u001b[0mjob\u001b[0m\u001b[0;34m.\u001b[0m\u001b[0mjob_id\u001b[0m\u001b[0;34m(\u001b[0m\u001b[0;34m)\u001b[0m\u001b[0;34m)\u001b[0m\u001b[0;34m\u001b[0m\u001b[0;34m\u001b[0m\u001b[0m\n\u001b[1;32m      8\u001b[0m   \u001b[0;31m# Use the job ID to retrieve your job data later\u001b[0m\u001b[0;34m\u001b[0m\u001b[0;34m\u001b[0m\u001b[0m\n",
            "\u001b[0;32m/usr/local/lib/python3.11/dist-packages/qiskit_ibm_runtime/runtime_job_v2.py\u001b[0m in \u001b[0;36mresult\u001b[0;34m(self, timeout, decoder)\u001b[0m\n\u001b[1;32m    131\u001b[0m         \"\"\"\n\u001b[1;32m    132\u001b[0m         \u001b[0m_decoder\u001b[0m \u001b[0;34m=\u001b[0m \u001b[0mdecoder\u001b[0m \u001b[0;32mor\u001b[0m \u001b[0mself\u001b[0m\u001b[0;34m.\u001b[0m\u001b[0m_final_result_decoder\u001b[0m\u001b[0;34m\u001b[0m\u001b[0;34m\u001b[0m\u001b[0m\n\u001b[0;32m--> 133\u001b[0;31m         \u001b[0mself\u001b[0m\u001b[0;34m.\u001b[0m\u001b[0mwait_for_final_state\u001b[0m\u001b[0;34m(\u001b[0m\u001b[0mtimeout\u001b[0m\u001b[0;34m=\u001b[0m\u001b[0mtimeout\u001b[0m\u001b[0;34m)\u001b[0m\u001b[0;34m\u001b[0m\u001b[0;34m\u001b[0m\u001b[0m\n\u001b[0m\u001b[1;32m    134\u001b[0m         \u001b[0;32mif\u001b[0m \u001b[0mself\u001b[0m\u001b[0;34m.\u001b[0m\u001b[0m_status\u001b[0m \u001b[0;34m==\u001b[0m \u001b[0;34m\"ERROR\"\u001b[0m\u001b[0;34m:\u001b[0m\u001b[0;34m\u001b[0m\u001b[0;34m\u001b[0m\u001b[0m\n\u001b[1;32m    135\u001b[0m             \u001b[0merror_message\u001b[0m \u001b[0;34m=\u001b[0m \u001b[0mself\u001b[0m\u001b[0;34m.\u001b[0m\u001b[0m_reason\u001b[0m \u001b[0;32mif\u001b[0m \u001b[0mself\u001b[0m\u001b[0;34m.\u001b[0m\u001b[0m_reason\u001b[0m \u001b[0;32melse\u001b[0m \u001b[0mself\u001b[0m\u001b[0;34m.\u001b[0m\u001b[0m_error_message\u001b[0m\u001b[0;34m\u001b[0m\u001b[0;34m\u001b[0m\u001b[0m\n",
            "\u001b[0;32m/usr/local/lib/python3.11/dist-packages/qiskit_ibm_runtime/runtime_job_v2.py\u001b[0m in \u001b[0;36mwait_for_final_state\u001b[0;34m(self, timeout)\u001b[0m\n\u001b[1;32m    249\u001b[0m                         \u001b[0;34mf\"Timed out waiting for job to complete after {timeout} secs.\"\u001b[0m\u001b[0;34m\u001b[0m\u001b[0;34m\u001b[0m\u001b[0m\n\u001b[1;32m    250\u001b[0m                     )\n\u001b[0;32m--> 251\u001b[0;31m                 \u001b[0mtime\u001b[0m\u001b[0;34m.\u001b[0m\u001b[0msleep\u001b[0m\u001b[0;34m(\u001b[0m\u001b[0;36m0.1\u001b[0m\u001b[0;34m)\u001b[0m\u001b[0;34m\u001b[0m\u001b[0;34m\u001b[0m\u001b[0m\n\u001b[0m\u001b[1;32m    252\u001b[0m                 \u001b[0mstatus\u001b[0m \u001b[0;34m=\u001b[0m \u001b[0mself\u001b[0m\u001b[0;34m.\u001b[0m\u001b[0mstatus\u001b[0m\u001b[0;34m(\u001b[0m\u001b[0;34m)\u001b[0m\u001b[0;34m\u001b[0m\u001b[0;34m\u001b[0m\u001b[0m\n\u001b[1;32m    253\u001b[0m         \u001b[0;32mexcept\u001b[0m \u001b[0mfutures\u001b[0m\u001b[0;34m.\u001b[0m\u001b[0mTimeoutError\u001b[0m\u001b[0;34m:\u001b[0m\u001b[0;34m\u001b[0m\u001b[0;34m\u001b[0m\u001b[0m\n",
            "\u001b[0;31mKeyboardInterrupt\u001b[0m: "
          ]
        }
      ],
      "source": [
        "from qiskit_ibm_runtime import SamplerV2 as Sampler\n",
        "ids=[]\n",
        "for n_implem in range(5):\n",
        "  sampler = Sampler(mode=backend)\n",
        "  job = sampler.run([isa_circuitf4])     # aquí solo pasas el circuito\n",
        "  result = job.result()\n",
        "  ids.append(job.job_id())\n",
        "  # Use the job ID to retrieve your job data later\n",
        "  print(f\">>> Job ID: {job.job_id()}\")\n",
        "ejecuciones.append((\"f4\",ids))\n",
        "print(ejecuciones)"
      ]
    },
    {
      "cell_type": "code",
      "source": [],
      "metadata": {
        "id": "H-Fjr5qvasJ2"
      },
      "execution_count": null,
      "outputs": []
    },
    {
      "cell_type": "code",
      "execution_count": 5,
      "metadata": {
        "id": "gCZKOExi4TnY"
      },
      "outputs": [],
      "source": [
        "#f(a0,a1,a2,a3,a4)=xor(xor(a0,a1),a2)\n",
        "circ_f5 = QuantumCircuit(6)\n",
        "circ_f5.cx(0, 5)\n",
        "circ_f5.cx(1, 5)\n",
        "circ_f5.cx(2, 5)\n",
        "gate_f5 = circ_f5.to_gate(label='U_f5')\n",
        "\n",
        "dj5 = QuantumCircuit(6, 5)\n",
        "dj5.x(5)\n",
        "dj5.h(range(6))\n",
        "dj5.barrier()\n",
        "dj5.append(gate_f5, [0,1,2,3,4,5], [])\n",
        "dj5.barrier()\n",
        "dj5.h([0,1,2,3,4])\n",
        "dj5.measure([0,1,2,3,4],[0,1,2,3,4])\n",
        "isa_circuitf5 = pm.run(dj5)"
      ]
    },
    {
      "cell_type": "code",
      "execution_count": null,
      "metadata": {
        "colab": {
          "base_uri": "https://localhost:8080/"
        },
        "id": "pOKhSvcg4fU4",
        "outputId": "96454f2d-59a5-4435-8dc4-85a773ff98c3"
      },
      "outputs": [
        {
          "name": "stdout",
          "output_type": "stream",
          "text": [
            ">>> Job ID: d13i6m5fetss73eono8g\n"
          ]
        }
      ],
      "source": [
        "from qiskit_ibm_runtime import SamplerV2 as Sampler\n",
        "sampler = Sampler(mode=backend)\n",
        "job = sampler.run([isa_circuitf5])     # aquí solo pasas el circuito\n",
        "result = job.result()\n",
        "\n",
        "# Use the job ID to retrieve your job data later\n",
        "print(f\">>> Job ID: {job.job_id()}\")"
      ]
    },
    {
      "cell_type": "code",
      "execution_count": null,
      "metadata": {
        "colab": {
          "background_save": true,
          "base_uri": "https://localhost:8080/"
        },
        "id": "1-q4Jw0S-Nmh",
        "outputId": "7ffa7cf2-d99c-4a3a-ac1d-b74027ebe793"
      },
      "outputs": [
        {
          "name": "stdout",
          "output_type": "stream",
          "text": [
            ">>> Job ID: d1frpma576rs73cns470\n",
            ">>> Job ID: d1frt6a576rs73cns7l0\n",
            ">>> Job ID: d1fs95iq8ogc73etfbtg\n",
            ">>> Job ID: d1fs9bq576rs73cnsj6g\n",
            ">>> Job ID: d1fs9dlqbivc73echrfg\n",
            "[('f5', ['d1frpma576rs73cns470', 'd1frt6a576rs73cns7l0', 'd1fs95iq8ogc73etfbtg', 'd1fs9bq576rs73cnsj6g', 'd1fs9dlqbivc73echrfg'])]\n"
          ]
        }
      ],
      "source": [
        "from qiskit_ibm_runtime import SamplerV2 as Sampler\n",
        "ids=[]\n",
        "for n_implem in range(5):\n",
        "  sampler = Sampler(mode=backend)\n",
        "  job = sampler.run([isa_circuitf5])     # aquí solo pasas el circuito\n",
        "  result = job.result()\n",
        "  ids.append(job.job_id())\n",
        "  # Use the job ID to retrieve your job data later\n",
        "  print(f\">>> Job ID: {job.job_id()}\")\n",
        "ejecuciones.append((\"f5\",ids))\n",
        "print(ejecuciones)"
      ]
    },
    {
      "cell_type": "code",
      "execution_count": 6,
      "metadata": {
        "id": "UgAUvtO84lTg"
      },
      "outputs": [],
      "source": [
        "#f(a0,a1,a2,a3,a4,a5)=xor(xor(a0,a1),a2)\n",
        "circ_f6 = QuantumCircuit(7)\n",
        "circ_f6.cx(0, 6)\n",
        "circ_f6.cx(1, 6)\n",
        "circ_f6.cx(2, 6)\n",
        "gate_f6 = circ_f6.to_gate(label='U_f6')\n",
        "\n",
        "dj6 = QuantumCircuit(7, 6)\n",
        "dj6.x(6)\n",
        "dj6.h(range(7))\n",
        "dj6.barrier()\n",
        "dj6.append(gate_f6, list(range(7)), [])\n",
        "dj6.barrier()\n",
        "dj6.h([0,1,2,3,4,5])\n",
        "dj6.measure(list(range(6)), list(range(6)))\n",
        "isa_circuitf6 = pm.run(dj6)"
      ]
    },
    {
      "cell_type": "code",
      "execution_count": null,
      "metadata": {
        "colab": {
          "base_uri": "https://localhost:8080/"
        },
        "id": "kkO1P_o04xUo",
        "outputId": "ab3063e8-31bd-4e95-e8e4-9266aa021064"
      },
      "outputs": [
        {
          "name": "stdout",
          "output_type": "stream",
          "text": [
            ">>> Job ID: d13i795fetss73eonou0\n"
          ]
        }
      ],
      "source": [
        "from qiskit_ibm_runtime import SamplerV2 as Sampler\n",
        "sampler = Sampler(mode=backend)\n",
        "job = sampler.run([isa_circuitf6])     # aquí solo pasas el circuito\n",
        "result = job.result()\n",
        "\n",
        "# Use the job ID to retrieve your job data later\n",
        "print(f\">>> Job ID: {job.job_id()}\")"
      ]
    },
    {
      "cell_type": "code",
      "source": [
        "from qiskit_ibm_runtime import SamplerV2 as Sampler\n",
        "ids=[]\n",
        "for n_implem in range(5):\n",
        "  sampler = Sampler(mode=backend)\n",
        "  job = sampler.run([isa_circuitf6])     # aquí solo pasas el circuito\n",
        "  result = job.result()\n",
        "  ids.append(job.job_id())\n",
        "  # Use the job ID to retrieve your job data later\n",
        "  print(f\">>> Job ID: {job.job_id()}\")\n",
        "ejecuciones.append((\"f6\",ids))\n",
        "print(ejecuciones)"
      ],
      "metadata": {
        "colab": {
          "base_uri": "https://localhost:8080/"
        },
        "id": "UnGUjCxIGiCN",
        "outputId": "5944324e-392f-4fce-e79e-29d4b3a59481"
      },
      "execution_count": 9,
      "outputs": [
        {
          "output_type": "stream",
          "name": "stdout",
          "text": [
            ">>> Job ID: d1fsaemgljis73cne7j0\n",
            ">>> Job ID: d1fsafugljis73cne7kg\n",
            ">>> Job ID: d1fsah2q8ogc73etfd5g\n",
            ">>> Job ID: d1fsaidqbivc73echsgg\n",
            ">>> Job ID: d1fsajdqbivc73echsi0\n",
            "[('f5', ['d1frpma576rs73cns470', 'd1frt6a576rs73cns7l0', 'd1fs95iq8ogc73etfbtg', 'd1fs9bq576rs73cnsj6g', 'd1fs9dlqbivc73echrfg']), ('f6', ['d1fsaemgljis73cne7j0', 'd1fsafugljis73cne7kg', 'd1fsah2q8ogc73etfd5g', 'd1fsaidqbivc73echsgg', 'd1fsajdqbivc73echsi0'])]\n"
          ]
        }
      ]
    },
    {
      "cell_type": "code",
      "execution_count": 7,
      "metadata": {
        "id": "Y6k50htJ43AY"
      },
      "outputs": [],
      "source": [
        "#f(a0,a1,...,a6)=xor(xor(a0,a1),a2)\n",
        "circ_f7 = QuantumCircuit(8)\n",
        "circ_f7.cx(0, 7)\n",
        "circ_f7.cx(1, 7)\n",
        "circ_f7.cx(2, 7)\n",
        "gate_f7 = circ_f7.to_gate(label='U_f7')\n",
        "\n",
        "dj7 = QuantumCircuit(8, 7)\n",
        "dj7.x(7)\n",
        "dj7.h(range(8))\n",
        "dj7.barrier()\n",
        "dj7.append(gate_f7, list(range(8)), [])\n",
        "dj7.barrier()\n",
        "dj7.h(list(range(7)))\n",
        "dj7.measure(list(range(7)), list(range(7)))\n",
        "isa_circuitf7 = pm.run(dj7)"
      ]
    },
    {
      "cell_type": "code",
      "execution_count": null,
      "metadata": {
        "colab": {
          "base_uri": "https://localhost:8080/"
        },
        "id": "EbTMBtuA5ACA",
        "outputId": "803e219e-f377-4a00-a21a-0e62028e646a"
      },
      "outputs": [
        {
          "name": "stdout",
          "output_type": "stream",
          "text": [
            ">>> Job ID: d13i7o7anitc73cjulm0\n"
          ]
        }
      ],
      "source": [
        "from qiskit_ibm_runtime import SamplerV2 as Sampler\n",
        "sampler = Sampler(mode=backend)\n",
        "job = sampler.run([isa_circuitf7])     # aquí solo pasas el circuito\n",
        "result = job.result()\n",
        "\n",
        "# Use the job ID to retrieve your job data later\n",
        "print(f\">>> Job ID: {job.job_id()}\")"
      ]
    },
    {
      "cell_type": "code",
      "source": [
        "from qiskit_ibm_runtime import SamplerV2 as Sampler\n",
        "ids=[]\n",
        "for n_implem in range(5):\n",
        "  sampler = Sampler(mode=backend)\n",
        "  job = sampler.run([isa_circuitf7])     # aquí solo pasas el circuito\n",
        "  result = job.result()\n",
        "  ids.append(job.job_id())\n",
        "  # Use the job ID to retrieve your job data later\n",
        "  print(f\">>> Job ID: {job.job_id()}\")\n",
        "ejecuciones.append((\"f7\",ids))\n",
        "print(ejecuciones)"
      ],
      "metadata": {
        "colab": {
          "base_uri": "https://localhost:8080/"
        },
        "id": "duImgUkLIwwH",
        "outputId": "669dc665-ec60-45a6-fb11-afbbdd058c11"
      },
      "execution_count": 11,
      "outputs": [
        {
          "output_type": "stream",
          "name": "stdout",
          "text": [
            ">>> Job ID: d1fsfkugljis73cnec9g\n",
            ">>> Job ID: d1fsfmdqbivc73eci16g\n",
            ">>> Job ID: d1fsfnaq8ogc73etfhsg\n",
            ">>> Job ID: d1fsfoi576rs73cnsp0g\n",
            ">>> Job ID: d1fsfpqq8ogc73etfi00\n",
            "[('f5', ['d1frpma576rs73cns470', 'd1frt6a576rs73cns7l0', 'd1fs95iq8ogc73etfbtg', 'd1fs9bq576rs73cnsj6g', 'd1fs9dlqbivc73echrfg']), ('f6', ['d1fsaemgljis73cne7j0', 'd1fsafugljis73cne7kg', 'd1fsah2q8ogc73etfd5g', 'd1fsaidqbivc73echsgg', 'd1fsajdqbivc73echsi0']), ('f7', ['d1fsfkugljis73cnec9g', 'd1fsfmdqbivc73eci16g', 'd1fsfnaq8ogc73etfhsg', 'd1fsfoi576rs73cnsp0g', 'd1fsfpqq8ogc73etfi00'])]\n"
          ]
        }
      ]
    },
    {
      "cell_type": "code",
      "execution_count": null,
      "metadata": {
        "id": "UJvmSh3g5GQp"
      },
      "outputs": [],
      "source": [
        "circ_Id=[(isa_circuitf3,\"d13i4ptfetss73eonlb0\",\"f3\"),(isa_circuitf4,\"d13i62nanitc73cjujng\",\"f4\"),(isa_circuitf5,\"d13i6m5fetss73eono8g\",\"f5\"),(isa_circuitf6,\"d13i795fetss73eonou0\",\"f6\"),(isa_circuitf7,\"d13i7o7anitc73cjulm0\",\"f7\")]"
      ]
    },
    {
      "cell_type": "code",
      "execution_count": null,
      "metadata": {
        "id": "gAbXVdqN55wZ"
      },
      "outputs": [],
      "source": [
        "import pandas as pd\n",
        "propiedades=[]\n",
        "for i in circ_Id:\n",
        "  profundidad=i[0].depth()\n",
        "  operaciones=i[0].count_ops()\n",
        "  job_id=i[1]\n",
        "  job=service.job(job_id)\n",
        "  result = job.result()\n",
        "  cero=len(list(result[0].data.c.get_counts().keys())[0])*'0'\n",
        "  tasa_ceros=result[0].data.c.get_counts()[cero]*100/4096\n",
        "  spans = job.result().metadata[\"execution\"][\"execution_spans\"]\n",
        "  segundos_ejecucion= spans.duration\n",
        "  propiedades.append({\"funcion\":i[2],\"profundidad\":profundidad,\"% de ceros\":tasa_ceros,\"segundos de ejecucion\":segundos_ejecucion})\n"
      ]
    },
    {
      "cell_type": "code",
      "execution_count": null,
      "metadata": {
        "colab": {
          "base_uri": "https://localhost:8080/",
          "height": 237
        },
        "id": "rVqEI9wT585v",
        "outputId": "eb65f4c3-76db-4688-b08b-7289f3f7d809"
      },
      "outputs": [
        {
          "data": {
            "application/vnd.google.colaboratory.intrinsic+json": {
              "summary": "{\n  \"name\": \"tabla\",\n  \"rows\": 5,\n  \"fields\": [\n    {\n      \"column\": \"funcion\",\n      \"properties\": {\n        \"dtype\": \"string\",\n        \"num_unique_values\": 5,\n        \"samples\": [\n          \"f4\",\n          \"f7\",\n          \"f5\"\n        ],\n        \"semantic_type\": \"\",\n        \"description\": \"\"\n      }\n    },\n    {\n      \"column\": \"profundidad\",\n      \"properties\": {\n        \"dtype\": \"number\",\n        \"std\": 0,\n        \"min\": 16,\n        \"max\": 16,\n        \"num_unique_values\": 1,\n        \"samples\": [\n          16\n        ],\n        \"semantic_type\": \"\",\n        \"description\": \"\"\n      }\n    },\n    {\n      \"column\": \"% de ceros\",\n      \"properties\": {\n        \"dtype\": \"number\",\n        \"std\": 2.578407040976564,\n        \"min\": 0.9765625,\n        \"max\": 6.884765625,\n        \"num_unique_values\": 5,\n        \"samples\": [\n          1.3671875\n        ],\n        \"semantic_type\": \"\",\n        \"description\": \"\"\n      }\n    },\n    {\n      \"column\": \"segundos de ejecucion\",\n      \"properties\": {\n        \"dtype\": \"number\",\n        \"std\": 0.47531342797674037,\n        \"min\": 1.950205,\n        \"max\": 3.078833,\n        \"num_unique_values\": 5,\n        \"samples\": [\n          2.058461\n        ],\n        \"semantic_type\": \"\",\n        \"description\": \"\"\n      }\n    }\n  ]\n}",
              "type": "dataframe",
              "variable_name": "tabla"
            },
            "text/html": [
              "\n",
              "  <div id=\"df-b7340671-ea04-4700-967e-2d6fe71af053\" class=\"colab-df-container\">\n",
              "    <div>\n",
              "<style scoped>\n",
              "    .dataframe tbody tr th:only-of-type {\n",
              "        vertical-align: middle;\n",
              "    }\n",
              "\n",
              "    .dataframe tbody tr th {\n",
              "        vertical-align: top;\n",
              "    }\n",
              "\n",
              "    .dataframe thead th {\n",
              "        text-align: right;\n",
              "    }\n",
              "</style>\n",
              "<table border=\"1\" class=\"dataframe\">\n",
              "  <thead>\n",
              "    <tr style=\"text-align: right;\">\n",
              "      <th></th>\n",
              "      <th>profundidad</th>\n",
              "      <th>% de ceros</th>\n",
              "      <th>segundos de ejecucion</th>\n",
              "    </tr>\n",
              "    <tr>\n",
              "      <th>funcion</th>\n",
              "      <th></th>\n",
              "      <th></th>\n",
              "      <th></th>\n",
              "    </tr>\n",
              "  </thead>\n",
              "  <tbody>\n",
              "    <tr>\n",
              "      <th>f3</th>\n",
              "      <td>16</td>\n",
              "      <td>0.976562</td>\n",
              "      <td>1.950205</td>\n",
              "    </tr>\n",
              "    <tr>\n",
              "      <th>f4</th>\n",
              "      <td>16</td>\n",
              "      <td>1.367188</td>\n",
              "      <td>2.058461</td>\n",
              "    </tr>\n",
              "    <tr>\n",
              "      <th>f5</th>\n",
              "      <td>16</td>\n",
              "      <td>1.025391</td>\n",
              "      <td>2.010549</td>\n",
              "    </tr>\n",
              "    <tr>\n",
              "      <th>f6</th>\n",
              "      <td>16</td>\n",
              "      <td>1.147461</td>\n",
              "      <td>3.078833</td>\n",
              "    </tr>\n",
              "    <tr>\n",
              "      <th>f7</th>\n",
              "      <td>16</td>\n",
              "      <td>6.884766</td>\n",
              "      <td>2.064662</td>\n",
              "    </tr>\n",
              "  </tbody>\n",
              "</table>\n",
              "</div>\n",
              "    <div class=\"colab-df-buttons\">\n",
              "\n",
              "  <div class=\"colab-df-container\">\n",
              "    <button class=\"colab-df-convert\" onclick=\"convertToInteractive('df-b7340671-ea04-4700-967e-2d6fe71af053')\"\n",
              "            title=\"Convert this dataframe to an interactive table.\"\n",
              "            style=\"display:none;\">\n",
              "\n",
              "  <svg xmlns=\"http://www.w3.org/2000/svg\" height=\"24px\" viewBox=\"0 -960 960 960\">\n",
              "    <path d=\"M120-120v-720h720v720H120Zm60-500h600v-160H180v160Zm220 220h160v-160H400v160Zm0 220h160v-160H400v160ZM180-400h160v-160H180v160Zm440 0h160v-160H620v160ZM180-180h160v-160H180v160Zm440 0h160v-160H620v160Z\"/>\n",
              "  </svg>\n",
              "    </button>\n",
              "\n",
              "  <style>\n",
              "    .colab-df-container {\n",
              "      display:flex;\n",
              "      gap: 12px;\n",
              "    }\n",
              "\n",
              "    .colab-df-convert {\n",
              "      background-color: #E8F0FE;\n",
              "      border: none;\n",
              "      border-radius: 50%;\n",
              "      cursor: pointer;\n",
              "      display: none;\n",
              "      fill: #1967D2;\n",
              "      height: 32px;\n",
              "      padding: 0 0 0 0;\n",
              "      width: 32px;\n",
              "    }\n",
              "\n",
              "    .colab-df-convert:hover {\n",
              "      background-color: #E2EBFA;\n",
              "      box-shadow: 0px 1px 2px rgba(60, 64, 67, 0.3), 0px 1px 3px 1px rgba(60, 64, 67, 0.15);\n",
              "      fill: #174EA6;\n",
              "    }\n",
              "\n",
              "    .colab-df-buttons div {\n",
              "      margin-bottom: 4px;\n",
              "    }\n",
              "\n",
              "    [theme=dark] .colab-df-convert {\n",
              "      background-color: #3B4455;\n",
              "      fill: #D2E3FC;\n",
              "    }\n",
              "\n",
              "    [theme=dark] .colab-df-convert:hover {\n",
              "      background-color: #434B5C;\n",
              "      box-shadow: 0px 1px 3px 1px rgba(0, 0, 0, 0.15);\n",
              "      filter: drop-shadow(0px 1px 2px rgba(0, 0, 0, 0.3));\n",
              "      fill: #FFFFFF;\n",
              "    }\n",
              "  </style>\n",
              "\n",
              "    <script>\n",
              "      const buttonEl =\n",
              "        document.querySelector('#df-b7340671-ea04-4700-967e-2d6fe71af053 button.colab-df-convert');\n",
              "      buttonEl.style.display =\n",
              "        google.colab.kernel.accessAllowed ? 'block' : 'none';\n",
              "\n",
              "      async function convertToInteractive(key) {\n",
              "        const element = document.querySelector('#df-b7340671-ea04-4700-967e-2d6fe71af053');\n",
              "        const dataTable =\n",
              "          await google.colab.kernel.invokeFunction('convertToInteractive',\n",
              "                                                    [key], {});\n",
              "        if (!dataTable) return;\n",
              "\n",
              "        const docLinkHtml = 'Like what you see? Visit the ' +\n",
              "          '<a target=\"_blank\" href=https://colab.research.google.com/notebooks/data_table.ipynb>data table notebook</a>'\n",
              "          + ' to learn more about interactive tables.';\n",
              "        element.innerHTML = '';\n",
              "        dataTable['output_type'] = 'display_data';\n",
              "        await google.colab.output.renderOutput(dataTable, element);\n",
              "        const docLink = document.createElement('div');\n",
              "        docLink.innerHTML = docLinkHtml;\n",
              "        element.appendChild(docLink);\n",
              "      }\n",
              "    </script>\n",
              "  </div>\n",
              "\n",
              "\n",
              "    <div id=\"df-e64c5c99-cf01-4943-8643-c5329dfc0f54\">\n",
              "      <button class=\"colab-df-quickchart\" onclick=\"quickchart('df-e64c5c99-cf01-4943-8643-c5329dfc0f54')\"\n",
              "                title=\"Suggest charts\"\n",
              "                style=\"display:none;\">\n",
              "\n",
              "<svg xmlns=\"http://www.w3.org/2000/svg\" height=\"24px\"viewBox=\"0 0 24 24\"\n",
              "     width=\"24px\">\n",
              "    <g>\n",
              "        <path d=\"M19 3H5c-1.1 0-2 .9-2 2v14c0 1.1.9 2 2 2h14c1.1 0 2-.9 2-2V5c0-1.1-.9-2-2-2zM9 17H7v-7h2v7zm4 0h-2V7h2v10zm4 0h-2v-4h2v4z\"/>\n",
              "    </g>\n",
              "</svg>\n",
              "      </button>\n",
              "\n",
              "<style>\n",
              "  .colab-df-quickchart {\n",
              "      --bg-color: #E8F0FE;\n",
              "      --fill-color: #1967D2;\n",
              "      --hover-bg-color: #E2EBFA;\n",
              "      --hover-fill-color: #174EA6;\n",
              "      --disabled-fill-color: #AAA;\n",
              "      --disabled-bg-color: #DDD;\n",
              "  }\n",
              "\n",
              "  [theme=dark] .colab-df-quickchart {\n",
              "      --bg-color: #3B4455;\n",
              "      --fill-color: #D2E3FC;\n",
              "      --hover-bg-color: #434B5C;\n",
              "      --hover-fill-color: #FFFFFF;\n",
              "      --disabled-bg-color: #3B4455;\n",
              "      --disabled-fill-color: #666;\n",
              "  }\n",
              "\n",
              "  .colab-df-quickchart {\n",
              "    background-color: var(--bg-color);\n",
              "    border: none;\n",
              "    border-radius: 50%;\n",
              "    cursor: pointer;\n",
              "    display: none;\n",
              "    fill: var(--fill-color);\n",
              "    height: 32px;\n",
              "    padding: 0;\n",
              "    width: 32px;\n",
              "  }\n",
              "\n",
              "  .colab-df-quickchart:hover {\n",
              "    background-color: var(--hover-bg-color);\n",
              "    box-shadow: 0 1px 2px rgba(60, 64, 67, 0.3), 0 1px 3px 1px rgba(60, 64, 67, 0.15);\n",
              "    fill: var(--button-hover-fill-color);\n",
              "  }\n",
              "\n",
              "  .colab-df-quickchart-complete:disabled,\n",
              "  .colab-df-quickchart-complete:disabled:hover {\n",
              "    background-color: var(--disabled-bg-color);\n",
              "    fill: var(--disabled-fill-color);\n",
              "    box-shadow: none;\n",
              "  }\n",
              "\n",
              "  .colab-df-spinner {\n",
              "    border: 2px solid var(--fill-color);\n",
              "    border-color: transparent;\n",
              "    border-bottom-color: var(--fill-color);\n",
              "    animation:\n",
              "      spin 1s steps(1) infinite;\n",
              "  }\n",
              "\n",
              "  @keyframes spin {\n",
              "    0% {\n",
              "      border-color: transparent;\n",
              "      border-bottom-color: var(--fill-color);\n",
              "      border-left-color: var(--fill-color);\n",
              "    }\n",
              "    20% {\n",
              "      border-color: transparent;\n",
              "      border-left-color: var(--fill-color);\n",
              "      border-top-color: var(--fill-color);\n",
              "    }\n",
              "    30% {\n",
              "      border-color: transparent;\n",
              "      border-left-color: var(--fill-color);\n",
              "      border-top-color: var(--fill-color);\n",
              "      border-right-color: var(--fill-color);\n",
              "    }\n",
              "    40% {\n",
              "      border-color: transparent;\n",
              "      border-right-color: var(--fill-color);\n",
              "      border-top-color: var(--fill-color);\n",
              "    }\n",
              "    60% {\n",
              "      border-color: transparent;\n",
              "      border-right-color: var(--fill-color);\n",
              "    }\n",
              "    80% {\n",
              "      border-color: transparent;\n",
              "      border-right-color: var(--fill-color);\n",
              "      border-bottom-color: var(--fill-color);\n",
              "    }\n",
              "    90% {\n",
              "      border-color: transparent;\n",
              "      border-bottom-color: var(--fill-color);\n",
              "    }\n",
              "  }\n",
              "</style>\n",
              "\n",
              "      <script>\n",
              "        async function quickchart(key) {\n",
              "          const quickchartButtonEl =\n",
              "            document.querySelector('#' + key + ' button');\n",
              "          quickchartButtonEl.disabled = true;  // To prevent multiple clicks.\n",
              "          quickchartButtonEl.classList.add('colab-df-spinner');\n",
              "          try {\n",
              "            const charts = await google.colab.kernel.invokeFunction(\n",
              "                'suggestCharts', [key], {});\n",
              "          } catch (error) {\n",
              "            console.error('Error during call to suggestCharts:', error);\n",
              "          }\n",
              "          quickchartButtonEl.classList.remove('colab-df-spinner');\n",
              "          quickchartButtonEl.classList.add('colab-df-quickchart-complete');\n",
              "        }\n",
              "        (() => {\n",
              "          let quickchartButtonEl =\n",
              "            document.querySelector('#df-e64c5c99-cf01-4943-8643-c5329dfc0f54 button');\n",
              "          quickchartButtonEl.style.display =\n",
              "            google.colab.kernel.accessAllowed ? 'block' : 'none';\n",
              "        })();\n",
              "      </script>\n",
              "    </div>\n",
              "\n",
              "  <div id=\"id_190ddcfd-d454-4623-936f-87e6ec3507ee\">\n",
              "    <style>\n",
              "      .colab-df-generate {\n",
              "        background-color: #E8F0FE;\n",
              "        border: none;\n",
              "        border-radius: 50%;\n",
              "        cursor: pointer;\n",
              "        display: none;\n",
              "        fill: #1967D2;\n",
              "        height: 32px;\n",
              "        padding: 0 0 0 0;\n",
              "        width: 32px;\n",
              "      }\n",
              "\n",
              "      .colab-df-generate:hover {\n",
              "        background-color: #E2EBFA;\n",
              "        box-shadow: 0px 1px 2px rgba(60, 64, 67, 0.3), 0px 1px 3px 1px rgba(60, 64, 67, 0.15);\n",
              "        fill: #174EA6;\n",
              "      }\n",
              "\n",
              "      [theme=dark] .colab-df-generate {\n",
              "        background-color: #3B4455;\n",
              "        fill: #D2E3FC;\n",
              "      }\n",
              "\n",
              "      [theme=dark] .colab-df-generate:hover {\n",
              "        background-color: #434B5C;\n",
              "        box-shadow: 0px 1px 3px 1px rgba(0, 0, 0, 0.15);\n",
              "        filter: drop-shadow(0px 1px 2px rgba(0, 0, 0, 0.3));\n",
              "        fill: #FFFFFF;\n",
              "      }\n",
              "    </style>\n",
              "    <button class=\"colab-df-generate\" onclick=\"generateWithVariable('tabla')\"\n",
              "            title=\"Generate code using this dataframe.\"\n",
              "            style=\"display:none;\">\n",
              "\n",
              "  <svg xmlns=\"http://www.w3.org/2000/svg\" height=\"24px\"viewBox=\"0 0 24 24\"\n",
              "       width=\"24px\">\n",
              "    <path d=\"M7,19H8.4L18.45,9,17,7.55,7,17.6ZM5,21V16.75L18.45,3.32a2,2,0,0,1,2.83,0l1.4,1.43a1.91,1.91,0,0,1,.58,1.4,1.91,1.91,0,0,1-.58,1.4L9.25,21ZM18.45,9,17,7.55Zm-12,3A5.31,5.31,0,0,0,4.9,8.1,5.31,5.31,0,0,0,1,6.5,5.31,5.31,0,0,0,4.9,4.9,5.31,5.31,0,0,0,6.5,1,5.31,5.31,0,0,0,8.1,4.9,5.31,5.31,0,0,0,12,6.5,5.46,5.46,0,0,0,6.5,12Z\"/>\n",
              "  </svg>\n",
              "    </button>\n",
              "    <script>\n",
              "      (() => {\n",
              "      const buttonEl =\n",
              "        document.querySelector('#id_190ddcfd-d454-4623-936f-87e6ec3507ee button.colab-df-generate');\n",
              "      buttonEl.style.display =\n",
              "        google.colab.kernel.accessAllowed ? 'block' : 'none';\n",
              "\n",
              "      buttonEl.onclick = () => {\n",
              "        google.colab.notebook.generateWithVariable('tabla');\n",
              "      }\n",
              "      })();\n",
              "    </script>\n",
              "  </div>\n",
              "\n",
              "    </div>\n",
              "  </div>\n"
            ],
            "text/plain": [
              "         profundidad  % de ceros  segundos de ejecucion\n",
              "funcion                                                \n",
              "f3                16    0.976562               1.950205\n",
              "f4                16    1.367188               2.058461\n",
              "f5                16    1.025391               2.010549\n",
              "f6                16    1.147461               3.078833\n",
              "f7                16    6.884766               2.064662"
            ]
          },
          "execution_count": 10,
          "metadata": {},
          "output_type": "execute_result"
        }
      ],
      "source": [
        "tabla=pd.DataFrame(propiedades)\n",
        "tabla.set_index(\"funcion\", inplace=True)\n",
        "tabla"
      ]
    },
    {
      "cell_type": "code",
      "execution_count": null,
      "metadata": {
        "colab": {
          "base_uri": "https://localhost:8080/",
          "height": 407
        },
        "id": "47ennZ38fpze",
        "outputId": "ce402a26-69d9-4351-c003-4413d4ba4e0c"
      },
      "outputs": [
        {
          "data": {
            "image/png": "[encoded data removed]",
            "text/plain": [
              "<Figure size 800x400 with 1 Axes>"
            ]
          },
          "metadata": {},
          "output_type": "display_data"
        }
      ],
      "source": [
        "import pandas as pd\n",
        "import matplotlib.pyplot as plt\n",
        "\n",
        "fig, ax = plt.subplots(figsize=(8, 4))\n",
        "\n",
        "# ejes ocultos\n",
        "ax.axis('off')\n",
        "ax.axis('tight')\n",
        "\n",
        "# Crea tabla\n",
        "table = ax.table(cellText=tabla.round(2).values,\n",
        "                 colLabels=tabla.columns,\n",
        "                 rowLabels=tabla.index,\n",
        "                 cellLoc='center',\n",
        "                 loc='center')\n",
        "\n",
        "table.auto_set_font_size(False)\n",
        "table.set_fontsize(10)\n",
        "table.scale(1, 1.5)\n",
        "\n",
        "plt.tight_layout()"
      ]
    },
    {
      "cell_type": "code",
      "execution_count": null,
      "metadata": {
        "colab": {
          "base_uri": "https://localhost:8080/"
        },
        "id": "wsGnFjfa6qiH",
        "outputId": "09c662cf-c96e-4723-9942-42a91ea0a5e5"
      },
      "outputs": [
        {
          "name": "stdout",
          "output_type": "stream",
          "text": [
            ">>> Job ID: d13ibe9gmdms73cfr45g\n"
          ]
        }
      ],
      "source": [
        "from qiskit_ibm_runtime import SamplerV2 as Sampler\n",
        "sampler = Sampler(mode=backend)\n",
        "job = sampler.run([isa_circuitf3,isa_circuitf4,isa_circuitf5,isa_circuitf6,isa_circuitf7]) #Probamos a hacer el sampler de todos los circuitos a la vez.\n",
        "                                                                                           #Hay que cambiar algo el código y se puede, pero no vamos a poder medir el tiempo de ejecución de cada circuito\n",
        "result = job.result()\n",
        "\n",
        "# Use the job ID to retrieve your job data later\n",
        "print(f\">>> Job ID: {job.job_id()}\")"
      ]
    },
    {
      "cell_type": "code",
      "execution_count": null,
      "metadata": {
        "colab": {
          "base_uri": "https://localhost:8080/"
        },
        "id": "dsl504NB7T0_",
        "outputId": "8d0aeb36-b2ee-4998-f2a9-d996b8c96628"
      },
      "outputs": [
        {
          "data": {
            "text/plain": [
              "PrimitiveResult([SamplerPubResult(data=DataBin(c=BitArray(<shape=(), num_shots=4096, num_bits=3>)), metadata={'circuit_metadata': {}}), SamplerPubResult(data=DataBin(c=BitArray(<shape=(), num_shots=4096, num_bits=4>)), metadata={'circuit_metadata': {}}), SamplerPubResult(data=DataBin(c=BitArray(<shape=(), num_shots=4096, num_bits=5>)), metadata={'circuit_metadata': {}}), SamplerPubResult(data=DataBin(c=BitArray(<shape=(), num_shots=4096, num_bits=6>)), metadata={'circuit_metadata': {}}), SamplerPubResult(data=DataBin(c=BitArray(<shape=(), num_shots=4096, num_bits=7>)), metadata={'circuit_metadata': {}})], metadata={'execution': {'execution_spans': ExecutionSpans([DoubleSliceSpan(<start='2025-06-09 18:19:44', stop='2025-06-09 18:19:50', size=20480>)])}, 'version': 2})"
            ]
          },
          "execution_count": 21,
          "metadata": {},
          "output_type": "execute_result"
        }
      ],
      "source": [
        "job.result()"
      ]
    },
    {
      "cell_type": "code",
      "execution_count": null,
      "metadata": {
        "colab": {
          "base_uri": "https://localhost:8080/"
        },
        "id": "h9CPFCo17d3_",
        "outputId": "e636c629-e6ec-46a2-cd34-bc87421dfbce"
      },
      "outputs": [
        {
          "data": {
            "text/plain": [
              "{'111': 3815,\n",
              " '101': 79,\n",
              " '110': 50,\n",
              " '011': 90,\n",
              " '001': 28,\n",
              " '000': 24,\n",
              " '100': 6,\n",
              " '010': 4}"
            ]
          },
          "execution_count": 27,
          "metadata": {},
          "output_type": "execute_result"
        }
      ],
      "source": [
        "result[0].data.c.get_counts()\n"
      ]
    },
    {
      "cell_type": "code",
      "execution_count": null,
      "metadata": {
        "colab": {
          "base_uri": "https://localhost:8080/"
        },
        "id": "Rk0QgeMf8teQ",
        "outputId": "46776ca6-be04-41b6-e7b6-939cbf303d1e"
      },
      "outputs": [
        {
          "data": {
            "text/plain": [
              "{'0111': 3848,\n",
              " '0011': 43,\n",
              " '1111': 29,\n",
              " '0101': 37,\n",
              " '0110': 64,\n",
              " '0000': 43,\n",
              " '0100': 8,\n",
              " '0001': 22,\n",
              " '0010': 2}"
            ]
          },
          "execution_count": 26,
          "metadata": {},
          "output_type": "execute_result"
        }
      ],
      "source": [
        "result[1].data.c.get_counts()"
      ]
    },
    {
      "cell_type": "code",
      "execution_count": null,
      "metadata": {
        "colab": {
          "base_uri": "https://localhost:8080/"
        },
        "id": "s4zkQt7W9BsS",
        "outputId": "fed6657e-149d-465a-ea1e-01ef868e1072"
      },
      "outputs": [
        {
          "data": {
            "text/plain": [
              "{'00111': 3760,\n",
              " '00100': 8,\n",
              " '00110': 82,\n",
              " '00011': 39,\n",
              " '00101': 64,\n",
              " '01111': 21,\n",
              " '00000': 62,\n",
              " '10111': 36,\n",
              " '00001': 15,\n",
              " '01100': 1,\n",
              " '00010': 7,\n",
              " '10000': 1}"
            ]
          },
          "execution_count": 28,
          "metadata": {},
          "output_type": "execute_result"
        }
      ],
      "source": [
        "result[2].data.c.get_counts()"
      ]
    },
    {
      "cell_type": "code",
      "execution_count": null,
      "metadata": {
        "id": "1xX8mXoK_zA2"
      },
      "outputs": [],
      "source": [
        "circ_IdS=[(isa_circuitf3,0,\"f3\"),(isa_circuitf4,1,\"f4\"),(isa_circuitf5,2,\"f5\"),(isa_circuitf6,3,\"f6\"),(isa_circuitf7,4,\"f7\")]"
      ]
    },
    {
      "cell_type": "code",
      "execution_count": null,
      "metadata": {
        "id": "v9-_DYGt9_QI"
      },
      "outputs": [],
      "source": [
        "import pandas as pd\n",
        "propiedades=[]\n",
        "id=\"d13ibe9gmdms73cfr45g\"\n",
        "job=service.job(id)\n",
        "result = job.result()\n",
        "for i in circ_IdS:\n",
        "  profundidad=i[0].depth()\n",
        "  operaciones=i[0].count_ops()\n",
        "\n",
        "  cero=len(list(result[i[1]].data.c.get_counts().keys())[0])*'0'\n",
        "  tasa_ceros=result[i[1]].data.c.get_counts()[cero]*100/4096\n",
        "  spans = job.result().metadata[\"execution\"][\"execution_spans\"]\n",
        "  segundos_ejecucion= spans.duration\n",
        "  propiedades.append({\"funcion\":i[2],\"profundidad\":profundidad,\"% de ceros\":tasa_ceros,\"segundos de ejecucion\":segundos_ejecucion})"
      ]
    },
    {
      "cell_type": "code",
      "execution_count": null,
      "metadata": {
        "colab": {
          "base_uri": "https://localhost:8080/",
          "height": 237
        },
        "id": "ZxnXY1dE_yNx",
        "outputId": "fb2ada9f-6a81-4f7e-b99c-96e49477dd06"
      },
      "outputs": [
        {
          "data": {
            "application/vnd.google.colaboratory.intrinsic+json": {
              "summary": "{\n  \"name\": \"tabla\",\n  \"rows\": 5,\n  \"fields\": [\n    {\n      \"column\": \"funcion\",\n      \"properties\": {\n        \"dtype\": \"string\",\n        \"num_unique_values\": 5,\n        \"samples\": [\n          \"f4\",\n          \"f7\",\n          \"f5\"\n        ],\n        \"semantic_type\": \"\",\n        \"description\": \"\"\n      }\n    },\n    {\n      \"column\": \"profundidad\",\n      \"properties\": {\n        \"dtype\": \"number\",\n        \"std\": 0,\n        \"min\": 16,\n        \"max\": 16,\n        \"num_unique_values\": 1,\n        \"samples\": [\n          16\n        ],\n        \"semantic_type\": \"\",\n        \"description\": \"\"\n      }\n    },\n    {\n      \"column\": \"% de ceros\",\n      \"properties\": {\n        \"dtype\": \"number\",\n        \"std\": 1.4222736847692876,\n        \"min\": 0.5859375,\n        \"max\": 4.150390625,\n        \"num_unique_values\": 5,\n        \"samples\": [\n          1.0498046875\n        ],\n        \"semantic_type\": \"\",\n        \"description\": \"\"\n      }\n    },\n    {\n      \"column\": \"segundos de ejecucion\",\n      \"properties\": {\n        \"dtype\": \"number\",\n        \"std\": 0.0,\n        \"min\": 6.205733,\n        \"max\": 6.205733,\n        \"num_unique_values\": 1,\n        \"samples\": [\n          6.205733\n        ],\n        \"semantic_type\": \"\",\n        \"description\": \"\"\n      }\n    }\n  ]\n}",
              "type": "dataframe",
              "variable_name": "tabla"
            },
            "text/html": [
              "\n",
              "  <div id=\"df-46845f45-ea87-4ee0-a4a1-d210f62a0399\" class=\"colab-df-container\">\n",
              "    <div>\n",
              "<style scoped>\n",
              "    .dataframe tbody tr th:only-of-type {\n",
              "        vertical-align: middle;\n",
              "    }\n",
              "\n",
              "    .dataframe tbody tr th {\n",
              "        vertical-align: top;\n",
              "    }\n",
              "\n",
              "    .dataframe thead th {\n",
              "        text-align: right;\n",
              "    }\n",
              "</style>\n",
              "<table border=\"1\" class=\"dataframe\">\n",
              "  <thead>\n",
              "    <tr style=\"text-align: right;\">\n",
              "      <th></th>\n",
              "      <th>profundidad</th>\n",
              "      <th>% de ceros</th>\n",
              "      <th>segundos de ejecucion</th>\n",
              "    </tr>\n",
              "    <tr>\n",
              "      <th>funcion</th>\n",
              "      <th></th>\n",
              "      <th></th>\n",
              "      <th></th>\n",
              "    </tr>\n",
              "  </thead>\n",
              "  <tbody>\n",
              "    <tr>\n",
              "      <th>f3</th>\n",
              "      <td>16</td>\n",
              "      <td>0.585938</td>\n",
              "      <td>6.205733</td>\n",
              "    </tr>\n",
              "    <tr>\n",
              "      <th>f4</th>\n",
              "      <td>16</td>\n",
              "      <td>1.049805</td>\n",
              "      <td>6.205733</td>\n",
              "    </tr>\n",
              "    <tr>\n",
              "      <th>f5</th>\n",
              "      <td>16</td>\n",
              "      <td>1.513672</td>\n",
              "      <td>6.205733</td>\n",
              "    </tr>\n",
              "    <tr>\n",
              "      <th>f6</th>\n",
              "      <td>16</td>\n",
              "      <td>1.074219</td>\n",
              "      <td>6.205733</td>\n",
              "    </tr>\n",
              "    <tr>\n",
              "      <th>f7</th>\n",
              "      <td>16</td>\n",
              "      <td>4.150391</td>\n",
              "      <td>6.205733</td>\n",
              "    </tr>\n",
              "  </tbody>\n",
              "</table>\n",
              "</div>\n",
              "    <div class=\"colab-df-buttons\">\n",
              "\n",
              "  <div class=\"colab-df-container\">\n",
              "    <button class=\"colab-df-convert\" onclick=\"convertToInteractive('df-46845f45-ea87-4ee0-a4a1-d210f62a0399')\"\n",
              "            title=\"Convert this dataframe to an interactive table.\"\n",
              "            style=\"display:none;\">\n",
              "\n",
              "  <svg xmlns=\"http://www.w3.org/2000/svg\" height=\"24px\" viewBox=\"0 -960 960 960\">\n",
              "    <path d=\"M120-120v-720h720v720H120Zm60-500h600v-160H180v160Zm220 220h160v-160H400v160Zm0 220h160v-160H400v160ZM180-400h160v-160H180v160Zm440 0h160v-160H620v160ZM180-180h160v-160H180v160Zm440 0h160v-160H620v160Z\"/>\n",
              "  </svg>\n",
              "    </button>\n",
              "\n",
              "  <style>\n",
              "    .colab-df-container {\n",
              "      display:flex;\n",
              "      gap: 12px;\n",
              "    }\n",
              "\n",
              "    .colab-df-convert {\n",
              "      background-color: #E8F0FE;\n",
              "      border: none;\n",
              "      border-radius: 50%;\n",
              "      cursor: pointer;\n",
              "      display: none;\n",
              "      fill: #1967D2;\n",
              "      height: 32px;\n",
              "      padding: 0 0 0 0;\n",
              "      width: 32px;\n",
              "    }\n",
              "\n",
              "    .colab-df-convert:hover {\n",
              "      background-color: #E2EBFA;\n",
              "      box-shadow: 0px 1px 2px rgba(60, 64, 67, 0.3), 0px 1px 3px 1px rgba(60, 64, 67, 0.15);\n",
              "      fill: #174EA6;\n",
              "    }\n",
              "\n",
              "    .colab-df-buttons div {\n",
              "      margin-bottom: 4px;\n",
              "    }\n",
              "\n",
              "    [theme=dark] .colab-df-convert {\n",
              "      background-color: #3B4455;\n",
              "      fill: #D2E3FC;\n",
              "    }\n",
              "\n",
              "    [theme=dark] .colab-df-convert:hover {\n",
              "      background-color: #434B5C;\n",
              "      box-shadow: 0px 1px 3px 1px rgba(0, 0, 0, 0.15);\n",
              "      filter: drop-shadow(0px 1px 2px rgba(0, 0, 0, 0.3));\n",
              "      fill: #FFFFFF;\n",
              "    }\n",
              "  </style>\n",
              "\n",
              "    <script>\n",
              "      const buttonEl =\n",
              "        document.querySelector('#df-46845f45-ea87-4ee0-a4a1-d210f62a0399 button.colab-df-convert');\n",
              "      buttonEl.style.display =\n",
              "        google.colab.kernel.accessAllowed ? 'block' : 'none';\n",
              "\n",
              "      async function convertToInteractive(key) {\n",
              "        const element = document.querySelector('#df-46845f45-ea87-4ee0-a4a1-d210f62a0399');\n",
              "        const dataTable =\n",
              "          await google.colab.kernel.invokeFunction('convertToInteractive',\n",
              "                                                    [key], {});\n",
              "        if (!dataTable) return;\n",
              "\n",
              "        const docLinkHtml = 'Like what you see? Visit the ' +\n",
              "          '<a target=\"_blank\" href=https://colab.research.google.com/notebooks/data_table.ipynb>data table notebook</a>'\n",
              "          + ' to learn more about interactive tables.';\n",
              "        element.innerHTML = '';\n",
              "        dataTable['output_type'] = 'display_data';\n",
              "        await google.colab.output.renderOutput(dataTable, element);\n",
              "        const docLink = document.createElement('div');\n",
              "        docLink.innerHTML = docLinkHtml;\n",
              "        element.appendChild(docLink);\n",
              "      }\n",
              "    </script>\n",
              "  </div>\n",
              "\n",
              "\n",
              "    <div id=\"df-33260908-f01c-4cfc-94c0-51104bb4756e\">\n",
              "      <button class=\"colab-df-quickchart\" onclick=\"quickchart('df-33260908-f01c-4cfc-94c0-51104bb4756e')\"\n",
              "                title=\"Suggest charts\"\n",
              "                style=\"display:none;\">\n",
              "\n",
              "<svg xmlns=\"http://www.w3.org/2000/svg\" height=\"24px\"viewBox=\"0 0 24 24\"\n",
              "     width=\"24px\">\n",
              "    <g>\n",
              "        <path d=\"M19 3H5c-1.1 0-2 .9-2 2v14c0 1.1.9 2 2 2h14c1.1 0 2-.9 2-2V5c0-1.1-.9-2-2-2zM9 17H7v-7h2v7zm4 0h-2V7h2v10zm4 0h-2v-4h2v4z\"/>\n",
              "    </g>\n",
              "</svg>\n",
              "      </button>\n",
              "\n",
              "<style>\n",
              "  .colab-df-quickchart {\n",
              "      --bg-color: #E8F0FE;\n",
              "      --fill-color: #1967D2;\n",
              "      --hover-bg-color: #E2EBFA;\n",
              "      --hover-fill-color: #174EA6;\n",
              "      --disabled-fill-color: #AAA;\n",
              "      --disabled-bg-color: #DDD;\n",
              "  }\n",
              "\n",
              "  [theme=dark] .colab-df-quickchart {\n",
              "      --bg-color: #3B4455;\n",
              "      --fill-color: #D2E3FC;\n",
              "      --hover-bg-color: #434B5C;\n",
              "      --hover-fill-color: #FFFFFF;\n",
              "      --disabled-bg-color: #3B4455;\n",
              "      --disabled-fill-color: #666;\n",
              "  }\n",
              "\n",
              "  .colab-df-quickchart {\n",
              "    background-color: var(--bg-color);\n",
              "    border: none;\n",
              "    border-radius: 50%;\n",
              "    cursor: pointer;\n",
              "    display: none;\n",
              "    fill: var(--fill-color);\n",
              "    height: 32px;\n",
              "    padding: 0;\n",
              "    width: 32px;\n",
              "  }\n",
              "\n",
              "  .colab-df-quickchart:hover {\n",
              "    background-color: var(--hover-bg-color);\n",
              "    box-shadow: 0 1px 2px rgba(60, 64, 67, 0.3), 0 1px 3px 1px rgba(60, 64, 67, 0.15);\n",
              "    fill: var(--button-hover-fill-color);\n",
              "  }\n",
              "\n",
              "  .colab-df-quickchart-complete:disabled,\n",
              "  .colab-df-quickchart-complete:disabled:hover {\n",
              "    background-color: var(--disabled-bg-color);\n",
              "    fill: var(--disabled-fill-color);\n",
              "    box-shadow: none;\n",
              "  }\n",
              "\n",
              "  .colab-df-spinner {\n",
              "    border: 2px solid var(--fill-color);\n",
              "    border-color: transparent;\n",
              "    border-bottom-color: var(--fill-color);\n",
              "    animation:\n",
              "      spin 1s steps(1) infinite;\n",
              "  }\n",
              "\n",
              "  @keyframes spin {\n",
              "    0% {\n",
              "      border-color: transparent;\n",
              "      border-bottom-color: var(--fill-color);\n",
              "      border-left-color: var(--fill-color);\n",
              "    }\n",
              "    20% {\n",
              "      border-color: transparent;\n",
              "      border-left-color: var(--fill-color);\n",
              "      border-top-color: var(--fill-color);\n",
              "    }\n",
              "    30% {\n",
              "      border-color: transparent;\n",
              "      border-left-color: var(--fill-color);\n",
              "      border-top-color: var(--fill-color);\n",
              "      border-right-color: var(--fill-color);\n",
              "    }\n",
              "    40% {\n",
              "      border-color: transparent;\n",
              "      border-right-color: var(--fill-color);\n",
              "      border-top-color: var(--fill-color);\n",
              "    }\n",
              "    60% {\n",
              "      border-color: transparent;\n",
              "      border-right-color: var(--fill-color);\n",
              "    }\n",
              "    80% {\n",
              "      border-color: transparent;\n",
              "      border-right-color: var(--fill-color);\n",
              "      border-bottom-color: var(--fill-color);\n",
              "    }\n",
              "    90% {\n",
              "      border-color: transparent;\n",
              "      border-bottom-color: var(--fill-color);\n",
              "    }\n",
              "  }\n",
              "</style>\n",
              "\n",
              "      <script>\n",
              "        async function quickchart(key) {\n",
              "          const quickchartButtonEl =\n",
              "            document.querySelector('#' + key + ' button');\n",
              "          quickchartButtonEl.disabled = true;  // To prevent multiple clicks.\n",
              "          quickchartButtonEl.classList.add('colab-df-spinner');\n",
              "          try {\n",
              "            const charts = await google.colab.kernel.invokeFunction(\n",
              "                'suggestCharts', [key], {});\n",
              "          } catch (error) {\n",
              "            console.error('Error during call to suggestCharts:', error);\n",
              "          }\n",
              "          quickchartButtonEl.classList.remove('colab-df-spinner');\n",
              "          quickchartButtonEl.classList.add('colab-df-quickchart-complete');\n",
              "        }\n",
              "        (() => {\n",
              "          let quickchartButtonEl =\n",
              "            document.querySelector('#df-33260908-f01c-4cfc-94c0-51104bb4756e button');\n",
              "          quickchartButtonEl.style.display =\n",
              "            google.colab.kernel.accessAllowed ? 'block' : 'none';\n",
              "        })();\n",
              "      </script>\n",
              "    </div>\n",
              "\n",
              "  <div id=\"id_39e49a0a-dd8e-4549-9ccf-4d52e4016646\">\n",
              "    <style>\n",
              "      .colab-df-generate {\n",
              "        background-color: #E8F0FE;\n",
              "        border: none;\n",
              "        border-radius: 50%;\n",
              "        cursor: pointer;\n",
              "        display: none;\n",
              "        fill: #1967D2;\n",
              "        height: 32px;\n",
              "        padding: 0 0 0 0;\n",
              "        width: 32px;\n",
              "      }\n",
              "\n",
              "      .colab-df-generate:hover {\n",
              "        background-color: #E2EBFA;\n",
              "        box-shadow: 0px 1px 2px rgba(60, 64, 67, 0.3), 0px 1px 3px 1px rgba(60, 64, 67, 0.15);\n",
              "        fill: #174EA6;\n",
              "      }\n",
              "\n",
              "      [theme=dark] .colab-df-generate {\n",
              "        background-color: #3B4455;\n",
              "        fill: #D2E3FC;\n",
              "      }\n",
              "\n",
              "      [theme=dark] .colab-df-generate:hover {\n",
              "        background-color: #434B5C;\n",
              "        box-shadow: 0px 1px 3px 1px rgba(0, 0, 0, 0.15);\n",
              "        filter: drop-shadow(0px 1px 2px rgba(0, 0, 0, 0.3));\n",
              "        fill: #FFFFFF;\n",
              "      }\n",
              "    </style>\n",
              "    <button class=\"colab-df-generate\" onclick=\"generateWithVariable('tabla')\"\n",
              "            title=\"Generate code using this dataframe.\"\n",
              "            style=\"display:none;\">\n",
              "\n",
              "  <svg xmlns=\"http://www.w3.org/2000/svg\" height=\"24px\"viewBox=\"0 0 24 24\"\n",
              "       width=\"24px\">\n",
              "    <path d=\"M7,19H8.4L18.45,9,17,7.55,7,17.6ZM5,21V16.75L18.45,3.32a2,2,0,0,1,2.83,0l1.4,1.43a1.91,1.91,0,0,1,.58,1.4,1.91,1.91,0,0,1-.58,1.4L9.25,21ZM18.45,9,17,7.55Zm-12,3A5.31,5.31,0,0,0,4.9,8.1,5.31,5.31,0,0,0,1,6.5,5.31,5.31,0,0,0,4.9,4.9,5.31,5.31,0,0,0,6.5,1,5.31,5.31,0,0,0,8.1,4.9,5.31,5.31,0,0,0,12,6.5,5.46,5.46,0,0,0,6.5,12Z\"/>\n",
              "  </svg>\n",
              "    </button>\n",
              "    <script>\n",
              "      (() => {\n",
              "      const buttonEl =\n",
              "        document.querySelector('#id_39e49a0a-dd8e-4549-9ccf-4d52e4016646 button.colab-df-generate');\n",
              "      buttonEl.style.display =\n",
              "        google.colab.kernel.accessAllowed ? 'block' : 'none';\n",
              "\n",
              "      buttonEl.onclick = () => {\n",
              "        google.colab.notebook.generateWithVariable('tabla');\n",
              "      }\n",
              "      })();\n",
              "    </script>\n",
              "  </div>\n",
              "\n",
              "    </div>\n",
              "  </div>\n"
            ],
            "text/plain": [
              "         profundidad  % de ceros  segundos de ejecucion\n",
              "funcion                                                \n",
              "f3                16    0.585938               6.205733\n",
              "f4                16    1.049805               6.205733\n",
              "f5                16    1.513672               6.205733\n",
              "f6                16    1.074219               6.205733\n",
              "f7                16    4.150391               6.205733"
            ]
          },
          "execution_count": 34,
          "metadata": {},
          "output_type": "execute_result"
        }
      ],
      "source": [
        "tabla=pd.DataFrame(propiedades)\n",
        "tabla.set_index(\"funcion\", inplace=True)\n",
        "tabla"
      ]
    },
    {
      "cell_type": "code",
      "source": [
        "#f(a0,a1,...,a9)=xor(xor(a0,a1),a2)\n",
        "circ_f10 = QuantumCircuit(11)\n",
        "circ_f10.cx(0, 10)\n",
        "circ_f10.cx(1, 10)\n",
        "circ_f10.cx(2, 10)\n",
        "gate_f10 = circ_f10.to_gate(label='U_f10')\n",
        "\n",
        "dj10 = QuantumCircuit(11, 10)\n",
        "dj10.x(10)\n",
        "dj10.h(range(11))\n",
        "dj10.barrier()\n",
        "dj10.append(gate_f10, list(range(11)), [])\n",
        "dj10.barrier()\n",
        "dj10.h(list(range(10)))\n",
        "dj10.measure(list(range(10)), list(range(10)))\n",
        "isa_circuitf10 = pm.run(dj10)"
      ],
      "metadata": {
        "id": "3HgYckvO4rQl"
      },
      "execution_count": 8,
      "outputs": []
    },
    {
      "cell_type": "code",
      "source": [
        "from qiskit_ibm_runtime import SamplerV2 as Sampler\n",
        "ids=[]\n",
        "for n_implem in range(5):\n",
        "  sampler = Sampler(mode=backend)\n",
        "  job = sampler.run([isa_circuitf10])     # aquí solo pasas el circuito\n",
        "  result = job.result()\n",
        "  ids.append(job.job_id())\n",
        "  # Use the job ID to retrieve your job data later\n",
        "  print(f\">>> Job ID: {job.job_id()}\")\n",
        "ejecuciones.append((\"f10\",ids))\n",
        "print(ejecuciones)"
      ],
      "metadata": {
        "colab": {
          "base_uri": "https://localhost:8080/"
        },
        "id": "Wkqhwmvv5S59",
        "outputId": "596537e0-b4cd-4cd7-cd61-395020a1d81c"
      },
      "execution_count": 22,
      "outputs": [
        {
          "output_type": "stream",
          "name": "stdout",
          "text": [
            ">>> Job ID: d1g3m6i576rs73co3s40\n",
            ">>> Job ID: d1g3m8aq8ogc73etmj40\n",
            ">>> Job ID: d1g3m9lqbivc73ecp2i0\n",
            ">>> Job ID: d1g3mh6gljis73cnldfg\n",
            ">>> Job ID: d1g3miiq8ogc73etmje0\n",
            "[(<qiskit.circuit.quantumcircuit.QuantumCircuit object at 0x791e9e840710>, 'f3', ['d1eic6tqbivc73eb8e90', 'd1elikiq8ogc73es9ed0', 'd1elnfi576rs73cmltgg', 'd1elnkugljis73cm8be0', 'd1elnmdqbivc73ebbi1g']), (<qiskit.circuit.quantumcircuit.QuantumCircuit object at 0x791e9e2ed050>, 'f4', ['d1f82qlqbivc73ebt8f0', 'd1fcpjmgljis73cmuigg', 'd1fcplegljis73cmuiig', 'd1fcpna576rs73cncnlg', 'd1fcpotqbivc73ec2470']), (<qiskit.circuit.quantumcircuit.QuantumCircuit object at 0x791e9e3951d0>, 'f5', ['d1frpma576rs73cns470', 'd1frt6a576rs73cns7l0', 'd1fs95iq8ogc73etfbtg', 'd1fs9bq576rs73cnsj6g', 'd1fs9dlqbivc73echrfg']), (<qiskit.circuit.quantumcircuit.QuantumCircuit object at 0x791e9d45e410>, 'f6', ['d1fsaemgljis73cne7j0', 'd1fsafugljis73cne7kg', 'd1fsah2q8ogc73etfd5g', 'd1fsaidqbivc73echsgg', 'd1fsajdqbivc73echsi0']), (<qiskit.circuit.quantumcircuit.QuantumCircuit object at 0x791e9e261150>, 'f7', ['d1fsfkugljis73cnec9g', 'd1fsfmdqbivc73eci16g', 'd1fsfnaq8ogc73etfhsg', 'd1fsfoi576rs73cnsp0g', 'd1fsfpqq8ogc73etfi00']), ('f10', ['d1g3m6i576rs73co3s40', 'd1g3m8aq8ogc73etmj40', 'd1g3m9lqbivc73ecp2i0', 'd1g3mh6gljis73cnldfg', 'd1g3miiq8ogc73etmje0'])]\n"
          ]
        }
      ]
    },
    {
      "cell_type": "code",
      "source": [
        "#f(a0,a1,...,a19)=xor(xor(a0,a1),a2)\n",
        "circ_f20 = QuantumCircuit(21)\n",
        "circ_f20.cx(0, 20)\n",
        "circ_f20.cx(1, 20)\n",
        "circ_f20.cx(2, 20)\n",
        "gate_f20 = circ_f20.to_gate(label='U_f20')\n",
        "\n",
        "dj20 = QuantumCircuit(21, 20)\n",
        "dj20.x(20)\n",
        "dj20.h(range(21))\n",
        "dj20.barrier()\n",
        "dj20.append(gate_f20, list(range(21)), [])\n",
        "dj20.barrier()\n",
        "dj20.h(list(range(20)))\n",
        "dj20.measure(list(range(20)), list(range(20)))\n",
        "isa_circuitf20 = pm.run(dj20)"
      ],
      "metadata": {
        "id": "ISFk-HdT50Xe"
      },
      "execution_count": 9,
      "outputs": []
    },
    {
      "cell_type": "code",
      "source": [
        "from qiskit_ibm_runtime import SamplerV2 as Sampler\n",
        "ids=[]\n",
        "for n_implem in range(5):\n",
        "  sampler = Sampler(mode=backend)\n",
        "  job = sampler.run([isa_circuitf20])     # aquí solo pasas el circuito\n",
        "  result = job.result()\n",
        "  ids.append(job.job_id())\n",
        "  # Use the job ID to retrieve your job data later\n",
        "  print(f\">>> Job ID: {job.job_id()}\")\n",
        "ejecuciones.append((\"f20\",ids))\n",
        "print(ejecuciones)"
      ],
      "metadata": {
        "colab": {
          "base_uri": "https://localhost:8080/"
        },
        "id": "-lyxDfs96iDH",
        "outputId": "c6eeb5ca-be5e-4b38-d810-7cc03e5fe070"
      },
      "execution_count": 24,
      "outputs": [
        {
          "output_type": "stream",
          "name": "stdout",
          "text": [
            ">>> Job ID: d1g3o05qbivc73ecp48g\n",
            ">>> Job ID: d1g3o1dqbivc73ecp4b0\n",
            ">>> Job ID: d1g3o2dqbivc73ecp4cg\n",
            ">>> Job ID: d1g3o3lqbivc73ecp4f0\n",
            ">>> Job ID: d1g3o4q576rs73co3tvg\n",
            "[(<qiskit.circuit.quantumcircuit.QuantumCircuit object at 0x791e9e840710>, 'f3', ['d1eic6tqbivc73eb8e90', 'd1elikiq8ogc73es9ed0', 'd1elnfi576rs73cmltgg', 'd1elnkugljis73cm8be0', 'd1elnmdqbivc73ebbi1g']), (<qiskit.circuit.quantumcircuit.QuantumCircuit object at 0x791e9e2ed050>, 'f4', ['d1f82qlqbivc73ebt8f0', 'd1fcpjmgljis73cmuigg', 'd1fcplegljis73cmuiig', 'd1fcpna576rs73cncnlg', 'd1fcpotqbivc73ec2470']), (<qiskit.circuit.quantumcircuit.QuantumCircuit object at 0x791e9e3951d0>, 'f5', ['d1frpma576rs73cns470', 'd1frt6a576rs73cns7l0', 'd1fs95iq8ogc73etfbtg', 'd1fs9bq576rs73cnsj6g', 'd1fs9dlqbivc73echrfg']), (<qiskit.circuit.quantumcircuit.QuantumCircuit object at 0x791e9d45e410>, 'f6', ['d1fsaemgljis73cne7j0', 'd1fsafugljis73cne7kg', 'd1fsah2q8ogc73etfd5g', 'd1fsaidqbivc73echsgg', 'd1fsajdqbivc73echsi0']), (<qiskit.circuit.quantumcircuit.QuantumCircuit object at 0x791e9e261150>, 'f7', ['d1fsfkugljis73cnec9g', 'd1fsfmdqbivc73eci16g', 'd1fsfnaq8ogc73etfhsg', 'd1fsfoi576rs73cnsp0g', 'd1fsfpqq8ogc73etfi00']), ('f10', ['d1g3m6i576rs73co3s40', 'd1g3m8aq8ogc73etmj40', 'd1g3m9lqbivc73ecp2i0', 'd1g3mh6gljis73cnldfg', 'd1g3miiq8ogc73etmje0']), ('f20', ['d1g3o05qbivc73ecp48g', 'd1g3o1dqbivc73ecp4b0', 'd1g3o2dqbivc73ecp4cg', 'd1g3o3lqbivc73ecp4f0', 'd1g3o4q576rs73co3tvg'])]\n"
          ]
        }
      ]
    },
    {
      "cell_type": "code",
      "source": [
        "#f(a0,a1,...,a39)=xor(xor(a0,a1),a2)\n",
        "circ_f40 = QuantumCircuit(41)\n",
        "circ_f40.cx(0, 40)\n",
        "circ_f40.cx(1, 40)\n",
        "circ_f40.cx(2, 40)\n",
        "gate_f40 = circ_f40.to_gate(label='U_f40')\n",
        "\n",
        "dj40 = QuantumCircuit(41, 40)\n",
        "dj40.x(40)\n",
        "dj40.h(range(41))\n",
        "dj40.barrier()\n",
        "dj40.append(gate_f40, list(range(41)), [])\n",
        "dj40.barrier()\n",
        "dj40.h(list(range(40)))\n",
        "dj40.measure(list(range(40)), list(range(40)))\n",
        "isa_circuitf40 = pm.run(dj40)"
      ],
      "metadata": {
        "id": "brTToJb69ADF"
      },
      "execution_count": 10,
      "outputs": []
    },
    {
      "cell_type": "code",
      "source": [
        "from qiskit_ibm_runtime import SamplerV2 as Sampler\n",
        "ids=[]\n",
        "for n_implem in range(5):\n",
        "  sampler = Sampler(mode=backend)\n",
        "  job = sampler.run([isa_circuitf40])     # aquí solo pasas el circuito\n",
        "  result = job.result()\n",
        "  ids.append(job.job_id())\n",
        "  # Use the job ID to retrieve your job data later\n",
        "  print(f\">>> Job ID: {job.job_id()}\")\n",
        "ejecuciones.append((\"f40\",ids))\n",
        "print(ejecuciones)"
      ],
      "metadata": {
        "colab": {
          "base_uri": "https://localhost:8080/"
        },
        "id": "iouGtxAq9U40",
        "outputId": "ca7dec73-6f8f-4f9f-eef5-bfe7991b5dd7"
      },
      "execution_count": 26,
      "outputs": [
        {
          "output_type": "stream",
          "name": "stdout",
          "text": [
            ">>> Job ID: d1g3tomgljis73cnlkk0\n",
            ">>> Job ID: d1g3tqegljis73cnlkm0\n",
            ">>> Job ID: d1g3trmgljis73cnlkn0\n",
            ">>> Job ID: d1g3tsmgljis73cnlkp0\n",
            ">>> Job ID: d1g3tudqbivc73ecpa8g\n",
            "[(<qiskit.circuit.quantumcircuit.QuantumCircuit object at 0x791e9e840710>, 'f3', ['d1eic6tqbivc73eb8e90', 'd1elikiq8ogc73es9ed0', 'd1elnfi576rs73cmltgg', 'd1elnkugljis73cm8be0', 'd1elnmdqbivc73ebbi1g']), (<qiskit.circuit.quantumcircuit.QuantumCircuit object at 0x791e9e2ed050>, 'f4', ['d1f82qlqbivc73ebt8f0', 'd1fcpjmgljis73cmuigg', 'd1fcplegljis73cmuiig', 'd1fcpna576rs73cncnlg', 'd1fcpotqbivc73ec2470']), (<qiskit.circuit.quantumcircuit.QuantumCircuit object at 0x791e9e3951d0>, 'f5', ['d1frpma576rs73cns470', 'd1frt6a576rs73cns7l0', 'd1fs95iq8ogc73etfbtg', 'd1fs9bq576rs73cnsj6g', 'd1fs9dlqbivc73echrfg']), (<qiskit.circuit.quantumcircuit.QuantumCircuit object at 0x791e9d45e410>, 'f6', ['d1fsaemgljis73cne7j0', 'd1fsafugljis73cne7kg', 'd1fsah2q8ogc73etfd5g', 'd1fsaidqbivc73echsgg', 'd1fsajdqbivc73echsi0']), (<qiskit.circuit.quantumcircuit.QuantumCircuit object at 0x791e9e261150>, 'f7', ['d1fsfkugljis73cnec9g', 'd1fsfmdqbivc73eci16g', 'd1fsfnaq8ogc73etfhsg', 'd1fsfoi576rs73cnsp0g', 'd1fsfpqq8ogc73etfi00']), ('f10', ['d1g3m6i576rs73co3s40', 'd1g3m8aq8ogc73etmj40', 'd1g3m9lqbivc73ecp2i0', 'd1g3mh6gljis73cnldfg', 'd1g3miiq8ogc73etmje0']), ('f20', ['d1g3o05qbivc73ecp48g', 'd1g3o1dqbivc73ecp4b0', 'd1g3o2dqbivc73ecp4cg', 'd1g3o3lqbivc73ecp4f0', 'd1g3o4q576rs73co3tvg']), ('f40', ['d1g3tomgljis73cnlkk0', 'd1g3tqegljis73cnlkm0', 'd1g3trmgljis73cnlkn0', 'd1g3tsmgljis73cnlkp0', 'd1g3tudqbivc73ecpa8g'])]\n"
          ]
        }
      ]
    },
    {
      "cell_type": "code",
      "source": [
        "#f(a0,a1,...,a79)=xor(xor(a0,a1),a2)\n",
        "circ_f80 = QuantumCircuit(81)\n",
        "circ_f80.cx(0, 80)\n",
        "circ_f80.cx(1, 80)\n",
        "circ_f80.cx(2, 80)\n",
        "gate_f80 = circ_f80.to_gate(label='U_f80')\n",
        "\n",
        "dj80 = QuantumCircuit(81, 80)\n",
        "dj80.x(80)\n",
        "dj80.h(range(81))\n",
        "dj80.barrier()\n",
        "dj80.append(gate_f80, list(range(81)), [])\n",
        "dj80.barrier()\n",
        "dj80.h(list(range(80)))\n",
        "dj80.measure(list(range(80)), list(range(80)))\n",
        "isa_circuitf80 = pm.run(dj80)"
      ],
      "metadata": {
        "id": "2XNVi1gv9q-b"
      },
      "execution_count": 11,
      "outputs": []
    },
    {
      "cell_type": "code",
      "source": [
        "from qiskit_ibm_runtime import SamplerV2 as Sampler\n",
        "ids=[]\n",
        "for n_implem in range(5):\n",
        "  sampler = Sampler(mode=backend)\n",
        "  job = sampler.run([isa_circuitf80])     # aquí solo pasas el circuito\n",
        "  result = job.result()\n",
        "  ids.append(job.job_id())\n",
        "  # Use the job ID to retrieve your job data later\n",
        "  print(f\">>> Job ID: {job.job_id()}\")\n",
        "ejecuciones.append((\"f80\",ids))\n",
        "print(ejecuciones)"
      ],
      "metadata": {
        "colab": {
          "base_uri": "https://localhost:8080/"
        },
        "id": "cIJTqtTC97wl",
        "outputId": "13a505b6-118c-4672-85ab-c524cb47f20d"
      },
      "execution_count": 28,
      "outputs": [
        {
          "output_type": "stream",
          "name": "stdout",
          "text": [
            ">>> Job ID: d1g3uui576rs73co44ag\n",
            ">>> Job ID: d1g3v0a576rs73co44c0\n",
            ">>> Job ID: d1g3v1mgljis73cnlls0\n",
            ">>> Job ID: d1g3v2qq8ogc73etmrhg\n",
            ">>> Job ID: d1g3v45qbivc73ecpbbg\n",
            "[(<qiskit.circuit.quantumcircuit.QuantumCircuit object at 0x791e9e840710>, 'f3', ['d1eic6tqbivc73eb8e90', 'd1elikiq8ogc73es9ed0', 'd1elnfi576rs73cmltgg', 'd1elnkugljis73cm8be0', 'd1elnmdqbivc73ebbi1g']), (<qiskit.circuit.quantumcircuit.QuantumCircuit object at 0x791e9e2ed050>, 'f4', ['d1f82qlqbivc73ebt8f0', 'd1fcpjmgljis73cmuigg', 'd1fcplegljis73cmuiig', 'd1fcpna576rs73cncnlg', 'd1fcpotqbivc73ec2470']), (<qiskit.circuit.quantumcircuit.QuantumCircuit object at 0x791e9e3951d0>, 'f5', ['d1frpma576rs73cns470', 'd1frt6a576rs73cns7l0', 'd1fs95iq8ogc73etfbtg', 'd1fs9bq576rs73cnsj6g', 'd1fs9dlqbivc73echrfg']), (<qiskit.circuit.quantumcircuit.QuantumCircuit object at 0x791e9d45e410>, 'f6', ['d1fsaemgljis73cne7j0', 'd1fsafugljis73cne7kg', 'd1fsah2q8ogc73etfd5g', 'd1fsaidqbivc73echsgg', 'd1fsajdqbivc73echsi0']), (<qiskit.circuit.quantumcircuit.QuantumCircuit object at 0x791e9e261150>, 'f7', ['d1fsfkugljis73cnec9g', 'd1fsfmdqbivc73eci16g', 'd1fsfnaq8ogc73etfhsg', 'd1fsfoi576rs73cnsp0g', 'd1fsfpqq8ogc73etfi00']), ('f10', ['d1g3m6i576rs73co3s40', 'd1g3m8aq8ogc73etmj40', 'd1g3m9lqbivc73ecp2i0', 'd1g3mh6gljis73cnldfg', 'd1g3miiq8ogc73etmje0']), ('f20', ['d1g3o05qbivc73ecp48g', 'd1g3o1dqbivc73ecp4b0', 'd1g3o2dqbivc73ecp4cg', 'd1g3o3lqbivc73ecp4f0', 'd1g3o4q576rs73co3tvg']), ('f40', ['d1g3tomgljis73cnlkk0', 'd1g3tqegljis73cnlkm0', 'd1g3trmgljis73cnlkn0', 'd1g3tsmgljis73cnlkp0', 'd1g3tudqbivc73ecpa8g']), ('f80', ['d1g3uui576rs73co44ag', 'd1g3v0a576rs73co44c0', 'd1g3v1mgljis73cnlls0', 'd1g3v2qq8ogc73etmrhg', 'd1g3v45qbivc73ecpbbg'])]\n"
          ]
        }
      ]
    },
    {
      "cell_type": "code",
      "source": [
        "#f(a0,a1,...,a99)=xor(xor(a0,a1),a2)\n",
        "circ_f100 = QuantumCircuit(101)\n",
        "circ_f100.cx(0, 100)\n",
        "circ_f100.cx(1, 100)\n",
        "circ_f100.cx(2, 100)\n",
        "gate_f100 = circ_f100.to_gate(label='U_f100')\n",
        "\n",
        "dj100 = QuantumCircuit(101, 100)\n",
        "dj100.x(100)\n",
        "dj100.h(range(101))\n",
        "dj100.barrier()\n",
        "dj100.append(gate_f100, list(range(101)), [])\n",
        "dj100.barrier()\n",
        "dj100.h(list(range(100)))\n",
        "dj100.measure(list(range(100)), list(range(100)))\n",
        "isa_circuitf100 = pm.run(dj100)"
      ],
      "metadata": {
        "id": "8p0jZ8o2_9qy"
      },
      "execution_count": 12,
      "outputs": []
    },
    {
      "cell_type": "code",
      "source": [
        "from qiskit_ibm_runtime import SamplerV2 as Sampler\n",
        "ids=[]\n",
        "for n_implem in range(5):\n",
        "  sampler = Sampler(mode=backend)\n",
        "  job = sampler.run([isa_circuitf100])     # aquí solo pasas el circuito\n",
        "  result = job.result()\n",
        "  ids.append(job.job_id())\n",
        "  # Use the job ID to retrieve your job data later\n",
        "  print(f\">>> Job ID: {job.job_id()}\")\n",
        "ejecuciones.append((\"f100\",ids))\n",
        "print(ejecuciones)"
      ],
      "metadata": {
        "colab": {
          "base_uri": "https://localhost:8080/"
        },
        "id": "UhVmPdvgA8L2",
        "outputId": "ab440e30-0238-47c1-af1b-2a4e78e697af"
      },
      "execution_count": 35,
      "outputs": [
        {
          "output_type": "stream",
          "name": "stdout",
          "text": [
            ">>> Job ID: d1g4562q8ogc73etn1eg\n",
            ">>> Job ID: d1g457ugljis73cnlrug\n",
            ">>> Job ID: d1g4592q8ogc73etn1i0\n",
            ">>> Job ID: d1g45adqbivc73ecphag\n",
            ">>> Job ID: d1g45bmgljis73cnls1g\n",
            "[(<qiskit.circuit.quantumcircuit.QuantumCircuit object at 0x791e9e840710>, 'f3', ['d1eic6tqbivc73eb8e90', 'd1elikiq8ogc73es9ed0', 'd1elnfi576rs73cmltgg', 'd1elnkugljis73cm8be0', 'd1elnmdqbivc73ebbi1g']), (<qiskit.circuit.quantumcircuit.QuantumCircuit object at 0x791e9e2ed050>, 'f4', ['d1f82qlqbivc73ebt8f0', 'd1fcpjmgljis73cmuigg', 'd1fcplegljis73cmuiig', 'd1fcpna576rs73cncnlg', 'd1fcpotqbivc73ec2470']), (<qiskit.circuit.quantumcircuit.QuantumCircuit object at 0x791e9e3951d0>, 'f5', ['d1frpma576rs73cns470', 'd1frt6a576rs73cns7l0', 'd1fs95iq8ogc73etfbtg', 'd1fs9bq576rs73cnsj6g', 'd1fs9dlqbivc73echrfg']), (<qiskit.circuit.quantumcircuit.QuantumCircuit object at 0x791e9d45e410>, 'f6', ['d1fsaemgljis73cne7j0', 'd1fsafugljis73cne7kg', 'd1fsah2q8ogc73etfd5g', 'd1fsaidqbivc73echsgg', 'd1fsajdqbivc73echsi0']), (<qiskit.circuit.quantumcircuit.QuantumCircuit object at 0x791e9e261150>, 'f7', ['d1fsfkugljis73cnec9g', 'd1fsfmdqbivc73eci16g', 'd1fsfnaq8ogc73etfhsg', 'd1fsfoi576rs73cnsp0g', 'd1fsfpqq8ogc73etfi00']), (<qiskit.circuit.quantumcircuit.QuantumCircuit object at 0x791e8d8bf1d0>, 'f10', ['d1g3m6i576rs73co3s40', 'd1g3m8aq8ogc73etmj40', 'd1g3m9lqbivc73ecp2i0', 'd1g3mh6gljis73cnldfg', 'd1g3miiq8ogc73etmje0']), (<qiskit.circuit.quantumcircuit.QuantumCircuit object at 0x791e8dfc6ed0>, 'f20', ['d1g3o05qbivc73ecp48g', 'd1g3o1dqbivc73ecp4b0', 'd1g3o2dqbivc73ecp4cg', 'd1g3o3lqbivc73ecp4f0', 'd1g3o4q576rs73co3tvg']), (<qiskit.circuit.quantumcircuit.QuantumCircuit object at 0x791e8d8be550>, 'f40', ['d1g3tomgljis73cnlkk0', 'd1g3tqegljis73cnlkm0', 'd1g3trmgljis73cnlkn0', 'd1g3tsmgljis73cnlkp0', 'd1g3tudqbivc73ecpa8g']), (<qiskit.circuit.quantumcircuit.QuantumCircuit object at 0x791e8d8bf1d0>, 'f80', ['d1g3uui576rs73co44ag', 'd1g3v0a576rs73co44c0', 'd1g3v1mgljis73cnlls0', 'd1g3v2qq8ogc73etmrhg', 'd1g3v45qbivc73ecpbbg']), ('f100', ['d1g4562q8ogc73etn1eg', 'd1g457ugljis73cnlrug', 'd1g4592q8ogc73etn1i0', 'd1g45adqbivc73ecphag', 'd1g45bmgljis73cnls1g'])]\n"
          ]
        }
      ]
    },
    {
      "cell_type": "code",
      "source": [
        "#f(a0,a1,...,a59)=xor(xor(a0,a1),a2)\n",
        "circ_f60 = QuantumCircuit(61)\n",
        "circ_f60.cx(0, 60)\n",
        "circ_f60.cx(1, 60)\n",
        "circ_f60.cx(2, 60)\n",
        "gate_f60 = circ_f60.to_gate(label='U_f60')\n",
        "\n",
        "dj60 = QuantumCircuit(61, 60)\n",
        "dj60.x(60)\n",
        "dj60.h(range(61))\n",
        "dj60.barrier()\n",
        "dj60.append(gate_f60, list(range(61)), [])\n",
        "dj60.barrier()\n",
        "dj60.h(list(range(60)))\n",
        "dj60.measure(list(range(60)), list(range(60)))\n",
        "isa_circuitf60 = pm.run(dj60)"
      ],
      "metadata": {
        "id": "kGGqiIXZlt0N"
      },
      "execution_count": 17,
      "outputs": []
    },
    {
      "cell_type": "code",
      "source": [
        "from qiskit_ibm_runtime import SamplerV2 as Sampler\n",
        "ids=[]\n",
        "for n_implem in range(5):\n",
        "  sampler = Sampler(mode=backend)\n",
        "  job = sampler.run([isa_circuitf60])     # aquí solo pasas el circuito\n",
        "  result = job.result()\n",
        "  ids.append(job.job_id())\n",
        "  # Use the job ID to retrieve your job data later\n",
        "  print(f\">>> Job ID: {job.job_id()}\")\n",
        "ejecuciones.append((\"f60\",ids))\n",
        "print(ejecuciones)"
      ],
      "metadata": {
        "colab": {
          "base_uri": "https://localhost:8080/"
        },
        "id": "Y7otx6JDmLrY",
        "outputId": "aa79989d-3abb-4f83-a8a5-2491ec222692"
      },
      "execution_count": 18,
      "outputs": [
        {
          "output_type": "stream",
          "name": "stdout",
          "text": [
            ">>> Job ID: d1giqii576rs73coi8sg\n",
            ">>> Job ID: d1giqplqbivc73ed7d20\n",
            ">>> Job ID: d1giqqtqbivc73ed7d40\n",
            ">>> Job ID: d1giqs2q8ogc73eu4r6g\n",
            ">>> Job ID: d1giqt2576rs73coi980\n",
            "[(<qiskit.circuit.quantumcircuit.QuantumCircuit object at 0x7b682d050310>, 'f3', ['d1eic6tqbivc73eb8e90', 'd1elikiq8ogc73es9ed0', 'd1elnfi576rs73cmltgg', 'd1elnkugljis73cm8be0', 'd1elnmdqbivc73ebbi1g']), (<qiskit.circuit.quantumcircuit.QuantumCircuit object at 0x7b682ed339d0>, 'f4', ['d1f82qlqbivc73ebt8f0', 'd1fcpjmgljis73cmuigg', 'd1fcplegljis73cmuiig', 'd1fcpna576rs73cncnlg', 'd1fcpotqbivc73ec2470']), (<qiskit.circuit.quantumcircuit.QuantumCircuit object at 0x7b682d1284d0>, 'f5', ['d1frpma576rs73cns470', 'd1frt6a576rs73cns7l0', 'd1fs95iq8ogc73etfbtg', 'd1fs9bq576rs73cnsj6g', 'd1fs9dlqbivc73echrfg']), (<qiskit.circuit.quantumcircuit.QuantumCircuit object at 0x7b682ccf5fd0>, 'f6', ['d1fsaemgljis73cne7j0', 'd1fsafugljis73cne7kg', 'd1fsah2q8ogc73etfd5g', 'd1fsaidqbivc73echsgg', 'd1fsajdqbivc73echsi0']), (<qiskit.circuit.quantumcircuit.QuantumCircuit object at 0x7b682ccb0450>, 'f7', ['d1fsfkugljis73cnec9g', 'd1fsfmdqbivc73eci16g', 'd1fsfnaq8ogc73etfhsg', 'd1fsfoi576rs73cnsp0g', 'd1fsfpqq8ogc73etfi00']), (<qiskit.circuit.quantumcircuit.QuantumCircuit object at 0x7b682ccd8510>, 'f10', ['d1g3m6i576rs73co3s40', 'd1g3m8aq8ogc73etmj40', 'd1g3m9lqbivc73ecp2i0', 'd1g3mh6gljis73cnldfg', 'd1g3miiq8ogc73etmje0']), (<qiskit.circuit.quantumcircuit.QuantumCircuit object at 0x7b682d0ac910>, 'f20', ['d1g3o05qbivc73ecp48g', 'd1g3o1dqbivc73ecp4b0', 'd1g3o2dqbivc73ecp4cg', 'd1g3o3lqbivc73ecp4f0', 'd1g3o4q576rs73co3tvg']), (<qiskit.circuit.quantumcircuit.QuantumCircuit object at 0x7b682da0b1d0>, 'f40', ['d1g3tomgljis73cnlkk0', 'd1g3tqegljis73cnlkm0', 'd1g3trmgljis73cnlkn0', 'd1g3tsmgljis73cnlkp0', 'd1g3tudqbivc73ecpa8g']), (<qiskit.circuit.quantumcircuit.QuantumCircuit object at 0x7b682ccd8510>, 'f80', ['d1g3uui576rs73co44ag', 'd1g3v0a576rs73co44c0', 'd1g3v1mgljis73cnlls0', 'd1g3v2qq8ogc73etmrhg', 'd1g3v45qbivc73ecpbbg']), (<qiskit.circuit.quantumcircuit.QuantumCircuit object at 0x7b682cc90990>, 'f100', ['d1g4562q8ogc73etn1eg', 'd1g457ugljis73cnlrug', 'd1g4592q8ogc73etn1i0', 'd1g45adqbivc73ecphag', 'd1g45bmgljis73cnls1g']), ('f60', ['d1giqii576rs73coi8sg', 'd1giqplqbivc73ed7d20', 'd1giqqtqbivc73ed7d40', 'd1giqs2q8ogc73eu4r6g', 'd1giqt2576rs73coi980'])]\n"
          ]
        }
      ]
    },
    {
      "cell_type": "code",
      "source": [
        "ejecuciones=[(isa_circuitf3, 'f3', ['d1eic6tqbivc73eb8e90', 'd1elikiq8ogc73es9ed0', 'd1elnfi576rs73cmltgg', 'd1elnkugljis73cm8be0', 'd1elnmdqbivc73ebbi1g']), (isa_circuitf4, 'f4', ['d1f82qlqbivc73ebt8f0', 'd1fcpjmgljis73cmuigg', 'd1fcplegljis73cmuiig', 'd1fcpna576rs73cncnlg', 'd1fcpotqbivc73ec2470']), (isa_circuitf5, 'f5', ['d1frpma576rs73cns470', 'd1frt6a576rs73cns7l0', 'd1fs95iq8ogc73etfbtg', 'd1fs9bq576rs73cnsj6g', 'd1fs9dlqbivc73echrfg']), (isa_circuitf6, 'f6', ['d1fsaemgljis73cne7j0', 'd1fsafugljis73cne7kg', 'd1fsah2q8ogc73etfd5g', 'd1fsaidqbivc73echsgg', 'd1fsajdqbivc73echsi0']), (isa_circuitf7, 'f7', ['d1fsfkugljis73cnec9g', 'd1fsfmdqbivc73eci16g', 'd1fsfnaq8ogc73etfhsg', 'd1fsfoi576rs73cnsp0g', 'd1fsfpqq8ogc73etfi00']), (isa_circuitf80,'f10', ['d1g3m6i576rs73co3s40', 'd1g3m8aq8ogc73etmj40', 'd1g3m9lqbivc73ecp2i0', 'd1g3mh6gljis73cnldfg', 'd1g3miiq8ogc73etmje0']), (isa_circuitf20,'f20', ['d1g3o05qbivc73ecp48g', 'd1g3o1dqbivc73ecp4b0', 'd1g3o2dqbivc73ecp4cg', 'd1g3o3lqbivc73ecp4f0', 'd1g3o4q576rs73co3tvg']), (isa_circuitf40,'f40', ['d1g3tomgljis73cnlkk0', 'd1g3tqegljis73cnlkm0', 'd1g3trmgljis73cnlkn0', 'd1g3tsmgljis73cnlkp0', 'd1g3tudqbivc73ecpa8g']),(isa_circuitf100,'f60', ['d1giqii576rs73coi8sg', 'd1giqplqbivc73ed7d20', 'd1giqqtqbivc73ed7d40', 'd1giqs2q8ogc73eu4r6g', 'd1giqt2576rs73coi980']), (isa_circuitf80,'f80', ['d1g3uui576rs73co44ag', 'd1g3v0a576rs73co44c0', 'd1g3v1mgljis73cnlls0', 'd1g3v2qq8ogc73etmrhg', 'd1g3v45qbivc73ecpbbg']),(isa_circuitf100,'f100', ['d1g4562q8ogc73etn1eg', 'd1g457ugljis73cnlrug', 'd1g4592q8ogc73etn1i0', 'd1g45adqbivc73ecphag', 'd1g45bmgljis73cnls1g'])]"
      ],
      "metadata": {
        "id": "4ky1jmFamt6z"
      },
      "execution_count": 19,
      "outputs": []
    },
    {
      "cell_type": "code",
      "source": [
        "import pandas as pd\n",
        "propiedades=[]\n",
        "for i in ejecuciones:\n",
        "  profundidad=i[0].depth()\n",
        "  operaciones=i[0].count_ops()\n",
        "  tasas=[]\n",
        "  tiempos=[]\n",
        "  for job_id in i[2]:\n",
        "    job=service.job(job_id)\n",
        "    result = job.result()\n",
        "    cero=len(list(result[0].data.c.get_counts().keys())[0])*'0'\n",
        "    tasa_ceros=result[0].data.c.get_counts()[cero]*100/4096\n",
        "    tasas.append(tasa_ceros)\n",
        "    spans = job.result().metadata[\"execution\"][\"execution_spans\"]\n",
        "    segundos_ejecucion= spans.duration\n",
        "    tiempos.append(segundos_ejecucion)\n",
        "\n",
        "\n",
        "  tasa_media_ceros=sum(tasas)/len(tasas)\n",
        "  tiempo_medio=sum(tiempos)/len(tiempos)\n",
        "  propiedades.append({\"funcion\":i[1],\"profundidad\":profundidad,\"media de % de ceros\":tasa_media_ceros,\"media de segundos de ejecucion\":tiempo_medio})"
      ],
      "metadata": {
        "id": "oGajk2OGnA4e"
      },
      "execution_count": 20,
      "outputs": []
    },
    {
      "cell_type": "code",
      "source": [
        "tabla=pd.DataFrame(propiedades)\n",
        "tabla.set_index(\"funcion\", inplace=True)\n",
        "tabla"
      ],
      "metadata": {
        "colab": {
          "base_uri": "https://localhost:8080/",
          "height": 425
        },
        "id": "nh722uhsnD7Q",
        "outputId": "9e2e8dc3-ab53-4917-8ebc-e9d67da97e91"
      },
      "execution_count": 21,
      "outputs": [
        {
          "output_type": "execute_result",
          "data": {
            "text/plain": [
              "         profundidad  media de % de ceros  media de segundos de ejecucion\n",
              "funcion                                                                  \n",
              "f3                16             0.878906                        2.017614\n",
              "f4                16             1.357422                        2.611116\n",
              "f5                16             1.015625                        2.026284\n",
              "f6                16             1.040039                        1.997566\n",
              "f7                16             1.103516                        1.949830\n",
              "f10               16             0.673828                        2.851261\n",
              "f20               16             0.722656                        1.922963\n",
              "f40               16             0.600586                        2.339813\n",
              "f60               16             0.410156                        2.364330\n",
              "f80               16             0.268555                        2.442202\n",
              "f100              16             0.097656                        2.518032"
            ],
            "text/html": [
              "\n",
              "  <div id=\"df-17d1ddba-67c6-4afd-83f6-45ea9f64c9ec\" class=\"colab-df-container\">\n",
              "    <div>\n",
              "<style scoped>\n",
              "    .dataframe tbody tr th:only-of-type {\n",
              "        vertical-align: middle;\n",
              "    }\n",
              "\n",
              "    .dataframe tbody tr th {\n",
              "        vertical-align: top;\n",
              "    }\n",
              "\n",
              "    .dataframe thead th {\n",
              "        text-align: right;\n",
              "    }\n",
              "</style>\n",
              "<table border=\"1\" class=\"dataframe\">\n",
              "  <thead>\n",
              "    <tr style=\"text-align: right;\">\n",
              "      <th></th>\n",
              "      <th>profundidad</th>\n",
              "      <th>media de % de ceros</th>\n",
              "      <th>media de segundos de ejecucion</th>\n",
              "    </tr>\n",
              "    <tr>\n",
              "      <th>funcion</th>\n",
              "      <th></th>\n",
              "      <th></th>\n",
              "      <th></th>\n",
              "    </tr>\n",
              "  </thead>\n",
              "  <tbody>\n",
              "    <tr>\n",
              "      <th>f3</th>\n",
              "      <td>16</td>\n",
              "      <td>0.878906</td>\n",
              "      <td>2.017614</td>\n",
              "    </tr>\n",
              "    <tr>\n",
              "      <th>f4</th>\n",
              "      <td>16</td>\n",
              "      <td>1.357422</td>\n",
              "      <td>2.611116</td>\n",
              "    </tr>\n",
              "    <tr>\n",
              "      <th>f5</th>\n",
              "      <td>16</td>\n",
              "      <td>1.015625</td>\n",
              "      <td>2.026284</td>\n",
              "    </tr>\n",
              "    <tr>\n",
              "      <th>f6</th>\n",
              "      <td>16</td>\n",
              "      <td>1.040039</td>\n",
              "      <td>1.997566</td>\n",
              "    </tr>\n",
              "    <tr>\n",
              "      <th>f7</th>\n",
              "      <td>16</td>\n",
              "      <td>1.103516</td>\n",
              "      <td>1.949830</td>\n",
              "    </tr>\n",
              "    <tr>\n",
              "      <th>f10</th>\n",
              "      <td>16</td>\n",
              "      <td>0.673828</td>\n",
              "      <td>2.851261</td>\n",
              "    </tr>\n",
              "    <tr>\n",
              "      <th>f20</th>\n",
              "      <td>16</td>\n",
              "      <td>0.722656</td>\n",
              "      <td>1.922963</td>\n",
              "    </tr>\n",
              "    <tr>\n",
              "      <th>f40</th>\n",
              "      <td>16</td>\n",
              "      <td>0.600586</td>\n",
              "      <td>2.339813</td>\n",
              "    </tr>\n",
              "    <tr>\n",
              "      <th>f60</th>\n",
              "      <td>16</td>\n",
              "      <td>0.410156</td>\n",
              "      <td>2.364330</td>\n",
              "    </tr>\n",
              "    <tr>\n",
              "      <th>f80</th>\n",
              "      <td>16</td>\n",
              "      <td>0.268555</td>\n",
              "      <td>2.442202</td>\n",
              "    </tr>\n",
              "    <tr>\n",
              "      <th>f100</th>\n",
              "      <td>16</td>\n",
              "      <td>0.097656</td>\n",
              "      <td>2.518032</td>\n",
              "    </tr>\n",
              "  </tbody>\n",
              "</table>\n",
              "</div>\n",
              "    <div class=\"colab-df-buttons\">\n",
              "\n",
              "  <div class=\"colab-df-container\">\n",
              "    <button class=\"colab-df-convert\" onclick=\"convertToInteractive('df-17d1ddba-67c6-4afd-83f6-45ea9f64c9ec')\"\n",
              "            title=\"Convert this dataframe to an interactive table.\"\n",
              "            style=\"display:none;\">\n",
              "\n",
              "  <svg xmlns=\"http://www.w3.org/2000/svg\" height=\"24px\" viewBox=\"0 -960 960 960\">\n",
              "    <path d=\"M120-120v-720h720v720H120Zm60-500h600v-160H180v160Zm220 220h160v-160H400v160Zm0 220h160v-160H400v160ZM180-400h160v-160H180v160Zm440 0h160v-160H620v160ZM180-180h160v-160H180v160Zm440 0h160v-160H620v160Z\"/>\n",
              "  </svg>\n",
              "    </button>\n",
              "\n",
              "  <style>\n",
              "    .colab-df-container {\n",
              "      display:flex;\n",
              "      gap: 12px;\n",
              "    }\n",
              "\n",
              "    .colab-df-convert {\n",
              "      background-color: #E8F0FE;\n",
              "      border: none;\n",
              "      border-radius: 50%;\n",
              "      cursor: pointer;\n",
              "      display: none;\n",
              "      fill: #1967D2;\n",
              "      height: 32px;\n",
              "      padding: 0 0 0 0;\n",
              "      width: 32px;\n",
              "    }\n",
              "\n",
              "    .colab-df-convert:hover {\n",
              "      background-color: #E2EBFA;\n",
              "      box-shadow: 0px 1px 2px rgba(60, 64, 67, 0.3), 0px 1px 3px 1px rgba(60, 64, 67, 0.15);\n",
              "      fill: #174EA6;\n",
              "    }\n",
              "\n",
              "    .colab-df-buttons div {\n",
              "      margin-bottom: 4px;\n",
              "    }\n",
              "\n",
              "    [theme=dark] .colab-df-convert {\n",
              "      background-color: #3B4455;\n",
              "      fill: #D2E3FC;\n",
              "    }\n",
              "\n",
              "    [theme=dark] .colab-df-convert:hover {\n",
              "      background-color: #434B5C;\n",
              "      box-shadow: 0px 1px 3px 1px rgba(0, 0, 0, 0.15);\n",
              "      filter: drop-shadow(0px 1px 2px rgba(0, 0, 0, 0.3));\n",
              "      fill: #FFFFFF;\n",
              "    }\n",
              "  </style>\n",
              "\n",
              "    <script>\n",
              "      const buttonEl =\n",
              "        document.querySelector('#df-17d1ddba-67c6-4afd-83f6-45ea9f64c9ec button.colab-df-convert');\n",
              "      buttonEl.style.display =\n",
              "        google.colab.kernel.accessAllowed ? 'block' : 'none';\n",
              "\n",
              "      async function convertToInteractive(key) {\n",
              "        const element = document.querySelector('#df-17d1ddba-67c6-4afd-83f6-45ea9f64c9ec');\n",
              "        const dataTable =\n",
              "          await google.colab.kernel.invokeFunction('convertToInteractive',\n",
              "                                                    [key], {});\n",
              "        if (!dataTable) return;\n",
              "\n",
              "        const docLinkHtml = 'Like what you see? Visit the ' +\n",
              "          '<a target=\"_blank\" href=https://colab.research.google.com/notebooks/data_table.ipynb>data table notebook</a>'\n",
              "          + ' to learn more about interactive tables.';\n",
              "        element.innerHTML = '';\n",
              "        dataTable['output_type'] = 'display_data';\n",
              "        await google.colab.output.renderOutput(dataTable, element);\n",
              "        const docLink = document.createElement('div');\n",
              "        docLink.innerHTML = docLinkHtml;\n",
              "        element.appendChild(docLink);\n",
              "      }\n",
              "    </script>\n",
              "  </div>\n",
              "\n",
              "\n",
              "    <div id=\"df-11b49411-c8da-4030-b6ae-9e5b5b3c4838\">\n",
              "      <button class=\"colab-df-quickchart\" onclick=\"quickchart('df-11b49411-c8da-4030-b6ae-9e5b5b3c4838')\"\n",
              "                title=\"Suggest charts\"\n",
              "                style=\"display:none;\">\n",
              "\n",
              "<svg xmlns=\"http://www.w3.org/2000/svg\" height=\"24px\"viewBox=\"0 0 24 24\"\n",
              "     width=\"24px\">\n",
              "    <g>\n",
              "        <path d=\"M19 3H5c-1.1 0-2 .9-2 2v14c0 1.1.9 2 2 2h14c1.1 0 2-.9 2-2V5c0-1.1-.9-2-2-2zM9 17H7v-7h2v7zm4 0h-2V7h2v10zm4 0h-2v-4h2v4z\"/>\n",
              "    </g>\n",
              "</svg>\n",
              "      </button>\n",
              "\n",
              "<style>\n",
              "  .colab-df-quickchart {\n",
              "      --bg-color: #E8F0FE;\n",
              "      --fill-color: #1967D2;\n",
              "      --hover-bg-color: #E2EBFA;\n",
              "      --hover-fill-color: #174EA6;\n",
              "      --disabled-fill-color: #AAA;\n",
              "      --disabled-bg-color: #DDD;\n",
              "  }\n",
              "\n",
              "  [theme=dark] .colab-df-quickchart {\n",
              "      --bg-color: #3B4455;\n",
              "      --fill-color: #D2E3FC;\n",
              "      --hover-bg-color: #434B5C;\n",
              "      --hover-fill-color: #FFFFFF;\n",
              "      --disabled-bg-color: #3B4455;\n",
              "      --disabled-fill-color: #666;\n",
              "  }\n",
              "\n",
              "  .colab-df-quickchart {\n",
              "    background-color: var(--bg-color);\n",
              "    border: none;\n",
              "    border-radius: 50%;\n",
              "    cursor: pointer;\n",
              "    display: none;\n",
              "    fill: var(--fill-color);\n",
              "    height: 32px;\n",
              "    padding: 0;\n",
              "    width: 32px;\n",
              "  }\n",
              "\n",
              "  .colab-df-quickchart:hover {\n",
              "    background-color: var(--hover-bg-color);\n",
              "    box-shadow: 0 1px 2px rgba(60, 64, 67, 0.3), 0 1px 3px 1px rgba(60, 64, 67, 0.15);\n",
              "    fill: var(--button-hover-fill-color);\n",
              "  }\n",
              "\n",
              "  .colab-df-quickchart-complete:disabled,\n",
              "  .colab-df-quickchart-complete:disabled:hover {\n",
              "    background-color: var(--disabled-bg-color);\n",
              "    fill: var(--disabled-fill-color);\n",
              "    box-shadow: none;\n",
              "  }\n",
              "\n",
              "  .colab-df-spinner {\n",
              "    border: 2px solid var(--fill-color);\n",
              "    border-color: transparent;\n",
              "    border-bottom-color: var(--fill-color);\n",
              "    animation:\n",
              "      spin 1s steps(1) infinite;\n",
              "  }\n",
              "\n",
              "  @keyframes spin {\n",
              "    0% {\n",
              "      border-color: transparent;\n",
              "      border-bottom-color: var(--fill-color);\n",
              "      border-left-color: var(--fill-color);\n",
              "    }\n",
              "    20% {\n",
              "      border-color: transparent;\n",
              "      border-left-color: var(--fill-color);\n",
              "      border-top-color: var(--fill-color);\n",
              "    }\n",
              "    30% {\n",
              "      border-color: transparent;\n",
              "      border-left-color: var(--fill-color);\n",
              "      border-top-color: var(--fill-color);\n",
              "      border-right-color: var(--fill-color);\n",
              "    }\n",
              "    40% {\n",
              "      border-color: transparent;\n",
              "      border-right-color: var(--fill-color);\n",
              "      border-top-color: var(--fill-color);\n",
              "    }\n",
              "    60% {\n",
              "      border-color: transparent;\n",
              "      border-right-color: var(--fill-color);\n",
              "    }\n",
              "    80% {\n",
              "      border-color: transparent;\n",
              "      border-right-color: var(--fill-color);\n",
              "      border-bottom-color: var(--fill-color);\n",
              "    }\n",
              "    90% {\n",
              "      border-color: transparent;\n",
              "      border-bottom-color: var(--fill-color);\n",
              "    }\n",
              "  }\n",
              "</style>\n",
              "\n",
              "      <script>\n",
              "        async function quickchart(key) {\n",
              "          const quickchartButtonEl =\n",
              "            document.querySelector('#' + key + ' button');\n",
              "          quickchartButtonEl.disabled = true;  // To prevent multiple clicks.\n",
              "          quickchartButtonEl.classList.add('colab-df-spinner');\n",
              "          try {\n",
              "            const charts = await google.colab.kernel.invokeFunction(\n",
              "                'suggestCharts', [key], {});\n",
              "          } catch (error) {\n",
              "            console.error('Error during call to suggestCharts:', error);\n",
              "          }\n",
              "          quickchartButtonEl.classList.remove('colab-df-spinner');\n",
              "          quickchartButtonEl.classList.add('colab-df-quickchart-complete');\n",
              "        }\n",
              "        (() => {\n",
              "          let quickchartButtonEl =\n",
              "            document.querySelector('#df-11b49411-c8da-4030-b6ae-9e5b5b3c4838 button');\n",
              "          quickchartButtonEl.style.display =\n",
              "            google.colab.kernel.accessAllowed ? 'block' : 'none';\n",
              "        })();\n",
              "      </script>\n",
              "    </div>\n",
              "\n",
              "  <div id=\"id_aa36ec7c-4690-4d4c-8c96-8120c1a93033\">\n",
              "    <style>\n",
              "      .colab-df-generate {\n",
              "        background-color: #E8F0FE;\n",
              "        border: none;\n",
              "        border-radius: 50%;\n",
              "        cursor: pointer;\n",
              "        display: none;\n",
              "        fill: #1967D2;\n",
              "        height: 32px;\n",
              "        padding: 0 0 0 0;\n",
              "        width: 32px;\n",
              "      }\n",
              "\n",
              "      .colab-df-generate:hover {\n",
              "        background-color: #E2EBFA;\n",
              "        box-shadow: 0px 1px 2px rgba(60, 64, 67, 0.3), 0px 1px 3px 1px rgba(60, 64, 67, 0.15);\n",
              "        fill: #174EA6;\n",
              "      }\n",
              "\n",
              "      [theme=dark] .colab-df-generate {\n",
              "        background-color: #3B4455;\n",
              "        fill: #D2E3FC;\n",
              "      }\n",
              "\n",
              "      [theme=dark] .colab-df-generate:hover {\n",
              "        background-color: #434B5C;\n",
              "        box-shadow: 0px 1px 3px 1px rgba(0, 0, 0, 0.15);\n",
              "        filter: drop-shadow(0px 1px 2px rgba(0, 0, 0, 0.3));\n",
              "        fill: #FFFFFF;\n",
              "      }\n",
              "    </style>\n",
              "    <button class=\"colab-df-generate\" onclick=\"generateWithVariable('tabla')\"\n",
              "            title=\"Generate code using this dataframe.\"\n",
              "            style=\"display:none;\">\n",
              "\n",
              "  <svg xmlns=\"http://www.w3.org/2000/svg\" height=\"24px\"viewBox=\"0 0 24 24\"\n",
              "       width=\"24px\">\n",
              "    <path d=\"M7,19H8.4L18.45,9,17,7.55,7,17.6ZM5,21V16.75L18.45,3.32a2,2,0,0,1,2.83,0l1.4,1.43a1.91,1.91,0,0,1,.58,1.4,1.91,1.91,0,0,1-.58,1.4L9.25,21ZM18.45,9,17,7.55Zm-12,3A5.31,5.31,0,0,0,4.9,8.1,5.31,5.31,0,0,0,1,6.5,5.31,5.31,0,0,0,4.9,4.9,5.31,5.31,0,0,0,6.5,1,5.31,5.31,0,0,0,8.1,4.9,5.31,5.31,0,0,0,12,6.5,5.46,5.46,0,0,0,6.5,12Z\"/>\n",
              "  </svg>\n",
              "    </button>\n",
              "    <script>\n",
              "      (() => {\n",
              "      const buttonEl =\n",
              "        document.querySelector('#id_aa36ec7c-4690-4d4c-8c96-8120c1a93033 button.colab-df-generate');\n",
              "      buttonEl.style.display =\n",
              "        google.colab.kernel.accessAllowed ? 'block' : 'none';\n",
              "\n",
              "      buttonEl.onclick = () => {\n",
              "        google.colab.notebook.generateWithVariable('tabla');\n",
              "      }\n",
              "      })();\n",
              "    </script>\n",
              "  </div>\n",
              "\n",
              "    </div>\n",
              "  </div>\n"
            ],
            "application/vnd.google.colaboratory.intrinsic+json": {
              "type": "dataframe",
              "variable_name": "tabla",
              "summary": "{\n  \"name\": \"tabla\",\n  \"rows\": 11,\n  \"fields\": [\n    {\n      \"column\": \"funcion\",\n      \"properties\": {\n        \"dtype\": \"string\",\n        \"num_unique_values\": 11,\n        \"samples\": [\n          \"f10\",\n          \"f3\",\n          \"f80\"\n        ],\n        \"semantic_type\": \"\",\n        \"description\": \"\"\n      }\n    },\n    {\n      \"column\": \"profundidad\",\n      \"properties\": {\n        \"dtype\": \"number\",\n        \"std\": 0,\n        \"min\": 16,\n        \"max\": 16,\n        \"num_unique_values\": 1,\n        \"samples\": [\n          16\n        ],\n        \"semantic_type\": \"\",\n        \"description\": \"\"\n      }\n    },\n    {\n      \"column\": \"media de % de ceros\",\n      \"properties\": {\n        \"dtype\": \"number\",\n        \"std\": 0.38292866432361944,\n        \"min\": 0.09765625,\n        \"max\": 1.357421875,\n        \"num_unique_values\": 11,\n        \"samples\": [\n          0.673828125\n        ],\n        \"semantic_type\": \"\",\n        \"description\": \"\"\n      }\n    },\n    {\n      \"column\": \"media de segundos de ejecucion\",\n      \"properties\": {\n        \"dtype\": \"number\",\n        \"std\": 0.31288510760681926,\n        \"min\": 1.9229634,\n        \"max\": 2.851261,\n        \"num_unique_values\": 11,\n        \"samples\": [\n          2.851261\n        ],\n        \"semantic_type\": \"\",\n        \"description\": \"\"\n      }\n    }\n  ]\n}"
            }
          },
          "metadata": {},
          "execution_count": 21
        }
      ]
    },
    {
      "cell_type": "code",
      "source": [
        "import pandas as pd\n",
        "import matplotlib.pyplot as plt\n",
        "\n",
        "fig, ax = plt.subplots(figsize=(8, 4))\n",
        "\n",
        "# ejes ocultos\n",
        "ax.axis('off')\n",
        "ax.axis('tight')\n",
        "\n",
        "# Crea tabla\n",
        "table = ax.table(cellText=tabla.round(3).values,\n",
        "                 colLabels=tabla.columns,\n",
        "                 rowLabels=tabla.index,\n",
        "                 cellLoc='center',\n",
        "                 loc='center')\n",
        "\n",
        "table.auto_set_font_size(False)\n",
        "table.set_fontsize(10)\n",
        "table.scale(1, 1.5)\n",
        "\n",
        "plt.tight_layout()"
      ],
      "metadata": {
        "colab": {
          "base_uri": "https://localhost:8080/",
          "height": 407
        },
        "id": "4WQ1KXTGnHPM",
        "outputId": "c9c9cbab-4cc6-45c1-92df-a0c9aa2308df"
      },
      "execution_count": 22,
      "outputs": [
        {
          "output_type": "display_data",
          "data": {
            "text/plain": [
              "<Figure size 800x400 with 1 Axes>"
            ],
            "image/png": "[encoded data removed]"
          },
          "metadata": {}
        }
      ]
    }
  ],
  "metadata": {
    "colab": {
      "provenance": [],
      "authorship_tag": "ABX9TyOLV6/K1lZGJSQ+ad90f66P",
      "include_colab_link": true
    },
    "kernelspec": {
      "display_name": "Python 3",
      "name": "python3"
    },
    "language_info": {
      "name": "python"
    }
  },
  "nbformat": 4,
  "nbformat_minor": 0
}